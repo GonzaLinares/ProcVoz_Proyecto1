{
 "cells": [
  {
   "cell_type": "markdown",
   "metadata": {},
   "source": [
    "# $\\textit{Detección por voz de sexo}$"
   ]
  },
  {
   "cell_type": "markdown",
   "metadata": {},
   "source": [
    "# $\\textit{Teoría}$ "
   ]
  },
  {
   "cell_type": "markdown",
   "metadata": {},
   "source": [
    "$\\textit{By Bautista Schneeberger, Agustin Gullino y Gonzalo Linares}$"
   ]
  },
  {
   "cell_type": "markdown",
   "metadata": {},
   "source": [
    "Para decidir si la grabación pertenece a un varón o a una mujer, hacemos uso de dos modelos probabilísticos, los cuales fueron ajustados haciendo uso de estadísticas propias del varón y la mujer."
   ]
  },
  {
   "cell_type": "markdown",
   "metadata": {},
   "source": [
    "<div style=\"text-align:center;\">\n",
    "    <img src=\"./figures/esquema.png\" alt=\"design overview\" width=\"1000\">\n",
    "</div>\n"
   ]
  },
  {
   "cell_type": "markdown",
   "metadata": {},
   "source": [
    "# $\\textit{GMM (Gaussian Mixture Models)}$ "
   ]
  },
  {
   "cell_type": "markdown",
   "metadata": {},
   "source": [
    "Regla de Bayes:\n",
    "\n",
    "$$\n",
    "P(S| X) = \\frac{P(X|S)P(S)}{P(X)}\n",
    "$$\n",
    "Donde $S$ es el sexo (es decir, varón o mujer)\n",
    "\n",
    "Nosotros modelamos $P(X|S)$ en $P(X|Varón)$ y $P(X|Mujer)$.\n",
    "\n",
    "Si consideramos que cada componente del vector de features, tiene una distribución normal, podemos pensar en $P(X|S)$ como una **combinación lineal de normales**. Cada una de estas normales tendrá su correspondiente peso, vector de medias y matriz de covarianza.\n",
    "\n",
    "<div style=\"text-align:center;\">\n",
    "    <img src=\"./figures/gmm.png\" alt=\"design overview\" width=\"800\">\n",
    "</div>\n"
   ]
  },
  {
   "cell_type": "markdown",
   "metadata": {},
   "source": [
    "# Historia:\n",
    "\n",
    "- 1987: Vector Quantization\n",
    "- 1997: GMM\n",
    "- 2000: GMM-UBM\n",
    "- 2006: SVM\n",
    "- 2007: JFA\n",
    "- 2010: I-vector\n",
    "- 2018: X-vector\n"
   ]
  }
 ],
 "metadata": {
  "language_info": {
   "name": "python"
  }
 },
 "nbformat": 4,
 "nbformat_minor": 2
}
