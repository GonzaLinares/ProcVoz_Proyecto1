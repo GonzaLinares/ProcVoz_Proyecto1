{
  "cells": [
    {
      "cell_type": "markdown",
      "metadata": {},
      "source": [
        "# $\\textit{Detección por voz de sexo}$"
      ]
    },
    {
      "cell_type": "markdown",
      "metadata": {},
      "source": [
        "$\\textit{By Bautista Schneeberger, Agustin Gullino y Gonzalo Linares}$"
      ]
    },
    {
      "cell_type": "code",
      "execution_count": null,
      "metadata": {},
      "outputs": [
        {
          "name": "stdout",
          "output_type": "stream",
          "text": [
            "Dataset already downloaded.\n"
          ]
        }
      ],
      "source": [
        "import os\n",
        "\n",
        "if not os.path.exists(\"VoxCeleb_gender\"):\n",
        "    !pip install gdown pydub librosa zipfile\n",
        "    !gdown https://drive.google.com/uc?id=1V3lNnSDv71AJYIj71V4_xD0ir0DrXxEV\n",
        "    !zipfile VoxCeleb_gender.zip #!tar -xf VoxCeleb_gender.zip\n",
        "    !del VoxCeleb_gender.zip     #!del\n",
        "\n",
        "else:\n",
        "    print(\"Dataset already downloaded.\")"
      ]
    },
    {
      "cell_type": "markdown",
      "metadata": {},
      "source": [
        "$\\textit{Implementación del cálculo de los MFCCs}$"
      ]
    },
    {
      "cell_type": "code",
      "execution_count": 3,
      "metadata": {},
      "outputs": [],
      "source": [
        "import librosa\n",
        "import scipy.signal as ss\n",
        "import numpy as np\n",
        "import pandas as pd\n",
        "import matplotlib.pyplot as plt\n",
        "import os\n",
        "import seaborn as sns\n",
        "sns.set_theme()\n",
        "\n",
        "def extract_mfcc(file_path, n_mfcc=12, win_length=320, hop_length=160):\n",
        "    wave, sr = librosa.load(file_path, mono=True, sr=None)\n",
        "    if sr != 16000:\n",
        "        wave = librosa.resample(wave, sr, 16000)\n",
        "    mfcc = librosa.feature.mfcc(y=wave, sr=16000, n_mfcc=n_mfcc, window=ss.windows.hamming, win_length=win_length, hop_length=hop_length)\n",
        "    return mfcc"
      ]
    },
    {
      "cell_type": "markdown",
      "metadata": {},
      "source": [
        "$\\textit{Elegimos la cantidad de MFCCs y tamaño de la trama}$"
      ]
    },
    {
      "cell_type": "code",
      "execution_count": 76,
      "metadata": {},
      "outputs": [],
      "source": [
        "mfcc_coeff_amount = 24\n",
        "n_components = 12\n",
        "window_length = int(16000*0.02)\n",
        "use_delta = True\n",
        "use_delta_delta = False"
      ]
    },
    {
      "cell_type": "code",
      "execution_count": 77,
      "metadata": {},
      "outputs": [
        {
          "name": "stdout",
          "output_type": "stream",
          "text": [
            "File Found\n"
          ]
        }
      ],
      "source": [
        "arr_mfcc = []\n",
        "arr_delta = []\n",
        "arr_delta_delta = []\n",
        "if not os.path.exists(f\"mfcc_{mfcc_coeff_amount}_{window_length}.pkl\"):\n",
        "\n",
        "    aux = []\n",
        "\n",
        "    for (dirpath, dirnames, filenames) in os.walk(\"VoxCeleb_gender\"):\n",
        "        for filename in filenames:\n",
        "            if filename.endswith(\".wav\"):\n",
        "                filepath = dirpath + \"/\" + filename\n",
        "                aux.append({\"file\": filepath, \"gender\": \"females\" if \"females\" in dirpath else \"males\"})\n",
        "\n",
        "    df = pd.DataFrame(aux)\n",
        "\n",
        "    df[\"mfcc\"] = pd.Series(name=\"mfcc\", dtype=object)\n",
        "\n",
        "    df[\"delta\"] = pd.Series(name=\"delta\", dtype=object)\n",
        "\n",
        "    df[\"delta_delta\"] = pd.Series(name=\"delta_delta\", dtype=object)\n",
        "\n",
        "    for i in range(len(df)):\n",
        "        mfcc_coeffs = extract_mfcc(df.loc[i, \"file\"], n_mfcc=mfcc_coeff_amount, win_length=window_length)\n",
        "        for i, coeffs in enumerate(mfcc_coeffs):\n",
        "            if np.linalg.norm(coeffs) < 1:\n",
        "                mfcc_coeffs.pop(i)\n",
        "\n",
        "        arr_mfcc.append(mfcc_coeffs.T)\n",
        "        arr_delta.append(librosa.feature.delta(mfcc_coeffs.T))\n",
        "        arr_delta_delta.append(librosa.feature.delta(mfcc_coeffs.T, order=2))\n",
        "    df[\"mfcc\"] = arr_mfcc\n",
        "    df[\"delta\"] = arr_delta\n",
        "    df[\"delta_delta\"] = arr_delta_delta\n",
        "    df.to_pickle(f\"mfcc_{mfcc_coeff_amount}_{window_length}.pkl\")\n",
        "else:\n",
        "    print(\"File Found\")\n",
        "    df = pd.read_pickle(f\"mfcc_{mfcc_coeff_amount}_{window_length}.pkl\")\n",
        "\n",
        "\n",
        "num_males = len(df.loc[df.gender == \"males\"] )           \n",
        "num_females = len(df.loc[df.gender == \"females\"] )              "
      ]
    },
    {
      "cell_type": "code",
      "execution_count": 78,
      "metadata": {},
      "outputs": [
        {
          "name": "stdout",
          "output_type": "stream",
          "text": [
            "Number of males:  3682\n",
            "Number of females:  2311\n"
          ]
        }
      ],
      "source": [
        "print(\"Number of males: \", num_males)\n",
        "print(\"Number of females: \", num_females)"
      ]
    },
    {
      "cell_type": "code",
      "execution_count": 79,
      "metadata": {},
      "outputs": [
        {
          "data": {
            "text/html": [
              "<div>\n",
              "<style scoped>\n",
              "    .dataframe tbody tr th:only-of-type {\n",
              "        vertical-align: middle;\n",
              "    }\n",
              "\n",
              "    .dataframe tbody tr th {\n",
              "        vertical-align: top;\n",
              "    }\n",
              "\n",
              "    .dataframe thead th {\n",
              "        text-align: right;\n",
              "    }\n",
              "</style>\n",
              "<table border=\"1\" class=\"dataframe\">\n",
              "  <thead>\n",
              "    <tr style=\"text-align: right;\">\n",
              "      <th></th>\n",
              "      <th>file</th>\n",
              "      <th>gender</th>\n",
              "      <th>mfcc</th>\n",
              "      <th>delta</th>\n",
              "      <th>delta_delta</th>\n",
              "    </tr>\n",
              "  </thead>\n",
              "  <tbody>\n",
              "    <tr>\n",
              "      <th>0</th>\n",
              "      <td>VoxCeleb_gender/males/255.wav</td>\n",
              "      <td>males</td>\n",
              "      <td>[[-266.89233, 79.592476, 40.56708, -20.975163,...</td>\n",
              "      <td>[[11.162823, 11.162823, 11.162823, 11.162823, ...</td>\n",
              "      <td>[[-15.880483, -15.880483, -15.880483, -15.8804...</td>\n",
              "    </tr>\n",
              "    <tr>\n",
              "      <th>1</th>\n",
              "      <td>VoxCeleb_gender/males/1908.wav</td>\n",
              "      <td>males</td>\n",
              "      <td>[[-362.22406, 65.203636, -39.06394, 3.8812165,...</td>\n",
              "      <td>[[21.94146, 21.94146, 21.94146, 21.94146, 21.9...</td>\n",
              "      <td>[[-21.030924, -21.030924, -21.030924, -21.0309...</td>\n",
              "    </tr>\n",
              "    <tr>\n",
              "      <th>2</th>\n",
              "      <td>VoxCeleb_gender/males/2965.wav</td>\n",
              "      <td>males</td>\n",
              "      <td>[[-407.10593, 87.36516, 34.33753, 24.057823, 2...</td>\n",
              "      <td>[[22.70048, 22.70048, 22.70048, 22.70048, 22.7...</td>\n",
              "      <td>[[-25.7817, -25.7817, -25.7817, -25.7817, -25....</td>\n",
              "    </tr>\n",
              "    <tr>\n",
              "      <th>3</th>\n",
              "      <td>VoxCeleb_gender/males/2733.wav</td>\n",
              "      <td>males</td>\n",
              "      <td>[[-299.1009, 129.72388, -12.729125, 0.38595515...</td>\n",
              "      <td>[[12.317674, 12.317674, 12.317674, 12.317674, ...</td>\n",
              "      <td>[[-15.790797, -15.790797, -15.790797, -15.7907...</td>\n",
              "    </tr>\n",
              "    <tr>\n",
              "      <th>4</th>\n",
              "      <td>VoxCeleb_gender/males/3091.wav</td>\n",
              "      <td>males</td>\n",
              "      <td>[[-259.80472, 116.5842, 14.4684105, 16.463356,...</td>\n",
              "      <td>[[9.69882, 9.69882, 9.69882, 9.69882, 9.69882,...</td>\n",
              "      <td>[[-13.91521, -13.91521, -13.91521, -13.91521, ...</td>\n",
              "    </tr>\n",
              "    <tr>\n",
              "      <th>...</th>\n",
              "      <td>...</td>\n",
              "      <td>...</td>\n",
              "      <td>...</td>\n",
              "      <td>...</td>\n",
              "      <td>...</td>\n",
              "    </tr>\n",
              "    <tr>\n",
              "      <th>5988</th>\n",
              "      <td>VoxCeleb_gender/females/489.wav</td>\n",
              "      <td>females</td>\n",
              "      <td>[[-439.62015, 102.672424, 14.096146, 10.476986...</td>\n",
              "      <td>[[22.464289, 22.464289, 22.464289, 22.464289, ...</td>\n",
              "      <td>[[-25.164944, -25.164944, -25.164944, -25.1649...</td>\n",
              "    </tr>\n",
              "    <tr>\n",
              "      <th>5989</th>\n",
              "      <td>VoxCeleb_gender/females/941.wav</td>\n",
              "      <td>females</td>\n",
              "      <td>[[-327.78085, 120.84328, 15.01547, 18.810642, ...</td>\n",
              "      <td>[[13.507515, 13.507515, 13.507515, 13.507515, ...</td>\n",
              "      <td>[[-20.440895, -20.440895, -20.440895, -20.4408...</td>\n",
              "    </tr>\n",
              "    <tr>\n",
              "      <th>5990</th>\n",
              "      <td>VoxCeleb_gender/females/63.wav</td>\n",
              "      <td>females</td>\n",
              "      <td>[[-408.27185, 154.41318, 63.678486, 16.260063,...</td>\n",
              "      <td>[[16.23507, 16.23507, 16.23507, 16.23507, 16.2...</td>\n",
              "      <td>[[-25.03768, -25.03768, -25.03768, -25.03768, ...</td>\n",
              "    </tr>\n",
              "    <tr>\n",
              "      <th>5991</th>\n",
              "      <td>VoxCeleb_gender/females/1820.wav</td>\n",
              "      <td>females</td>\n",
              "      <td>[[-365.03598, 86.970535, 39.16137, 27.662418, ...</td>\n",
              "      <td>[[18.155676, 18.155676, 18.155676, 18.155676, ...</td>\n",
              "      <td>[[-24.24508, -24.24508, -24.24508, -24.24508, ...</td>\n",
              "    </tr>\n",
              "    <tr>\n",
              "      <th>5992</th>\n",
              "      <td>VoxCeleb_gender/females/467.wav</td>\n",
              "      <td>females</td>\n",
              "      <td>[[-444.18356, 160.79996, 39.058388, 45.694473,...</td>\n",
              "      <td>[[18.708479, 18.708479, 18.708479, 18.708479, ...</td>\n",
              "      <td>[[-28.035507, -28.035507, -28.035507, -28.0355...</td>\n",
              "    </tr>\n",
              "  </tbody>\n",
              "</table>\n",
              "<p>5993 rows × 5 columns</p>\n",
              "</div>"
            ],
            "text/plain": [
              "                                  file   gender  \\\n",
              "0        VoxCeleb_gender/males/255.wav    males   \n",
              "1       VoxCeleb_gender/males/1908.wav    males   \n",
              "2       VoxCeleb_gender/males/2965.wav    males   \n",
              "3       VoxCeleb_gender/males/2733.wav    males   \n",
              "4       VoxCeleb_gender/males/3091.wav    males   \n",
              "...                                ...      ...   \n",
              "5988   VoxCeleb_gender/females/489.wav  females   \n",
              "5989   VoxCeleb_gender/females/941.wav  females   \n",
              "5990    VoxCeleb_gender/females/63.wav  females   \n",
              "5991  VoxCeleb_gender/females/1820.wav  females   \n",
              "5992   VoxCeleb_gender/females/467.wav  females   \n",
              "\n",
              "                                                   mfcc  \\\n",
              "0     [[-266.89233, 79.592476, 40.56708, -20.975163,...   \n",
              "1     [[-362.22406, 65.203636, -39.06394, 3.8812165,...   \n",
              "2     [[-407.10593, 87.36516, 34.33753, 24.057823, 2...   \n",
              "3     [[-299.1009, 129.72388, -12.729125, 0.38595515...   \n",
              "4     [[-259.80472, 116.5842, 14.4684105, 16.463356,...   \n",
              "...                                                 ...   \n",
              "5988  [[-439.62015, 102.672424, 14.096146, 10.476986...   \n",
              "5989  [[-327.78085, 120.84328, 15.01547, 18.810642, ...   \n",
              "5990  [[-408.27185, 154.41318, 63.678486, 16.260063,...   \n",
              "5991  [[-365.03598, 86.970535, 39.16137, 27.662418, ...   \n",
              "5992  [[-444.18356, 160.79996, 39.058388, 45.694473,...   \n",
              "\n",
              "                                                  delta  \\\n",
              "0     [[11.162823, 11.162823, 11.162823, 11.162823, ...   \n",
              "1     [[21.94146, 21.94146, 21.94146, 21.94146, 21.9...   \n",
              "2     [[22.70048, 22.70048, 22.70048, 22.70048, 22.7...   \n",
              "3     [[12.317674, 12.317674, 12.317674, 12.317674, ...   \n",
              "4     [[9.69882, 9.69882, 9.69882, 9.69882, 9.69882,...   \n",
              "...                                                 ...   \n",
              "5988  [[22.464289, 22.464289, 22.464289, 22.464289, ...   \n",
              "5989  [[13.507515, 13.507515, 13.507515, 13.507515, ...   \n",
              "5990  [[16.23507, 16.23507, 16.23507, 16.23507, 16.2...   \n",
              "5991  [[18.155676, 18.155676, 18.155676, 18.155676, ...   \n",
              "5992  [[18.708479, 18.708479, 18.708479, 18.708479, ...   \n",
              "\n",
              "                                            delta_delta  \n",
              "0     [[-15.880483, -15.880483, -15.880483, -15.8804...  \n",
              "1     [[-21.030924, -21.030924, -21.030924, -21.0309...  \n",
              "2     [[-25.7817, -25.7817, -25.7817, -25.7817, -25....  \n",
              "3     [[-15.790797, -15.790797, -15.790797, -15.7907...  \n",
              "4     [[-13.91521, -13.91521, -13.91521, -13.91521, ...  \n",
              "...                                                 ...  \n",
              "5988  [[-25.164944, -25.164944, -25.164944, -25.1649...  \n",
              "5989  [[-20.440895, -20.440895, -20.440895, -20.4408...  \n",
              "5990  [[-25.03768, -25.03768, -25.03768, -25.03768, ...  \n",
              "5991  [[-24.24508, -24.24508, -24.24508, -24.24508, ...  \n",
              "5992  [[-28.035507, -28.035507, -28.035507, -28.0355...  \n",
              "\n",
              "[5993 rows x 5 columns]"
            ]
          },
          "metadata": {},
          "output_type": "display_data"
        }
      ],
      "source": [
        "display(df) #Cada fila tiene los datos de un audio, cada columna mfcc contiene n_mfcc x timesteps "
      ]
    },
    {
      "cell_type": "markdown",
      "metadata": {},
      "source": [
        "$\\textit{Separamos entre train y test}$"
      ]
    },
    {
      "cell_type": "code",
      "execution_count": 80,
      "metadata": {},
      "outputs": [],
      "source": [
        "from sklearn.model_selection import train_test_split\n",
        "\n",
        "#Split into train and test datasets\n",
        "X_train, X_test, y_train, y_test = train_test_split(df.drop(['gender'], axis=1), df['gender'], test_size=0.2)\n",
        "X_file, X_test_file = X_train[\"file\"], X_test[\"file\"]\n",
        "X_train.drop([\"file\"], inplace=True, axis=1)\n",
        "X_test.drop([\"file\"], inplace=True, axis=1)\n",
        "X_test[\"features\"] = pd.Series(name=\"features\", dtype=object)\n",
        "\n",
        "if use_delta and use_delta_delta:\n",
        "    for i, row in X_test.iterrows():\n",
        "        X_test.at[i, \"features\"] = np.concatenate([row[\"mfcc\"], row[\"delta\"], row[\"delta_delta\"]], axis=1)\n",
        "\n",
        "elif use_delta:\n",
        "    for i, row in X_test.iterrows():\n",
        "        X_test.at[i, \"features\"] = np.concatenate([row[\"mfcc\"], row[\"delta\"]], axis=1)\n",
        "\n",
        "elif use_delta_delta:\n",
        "    for i, row in X_test.iterrows():\n",
        "        X_test.at[i, \"features\"] = np.concatenate([row[\"mfcc\"], row[\"delta_delta\"]], axis=1)\n",
        "\n",
        "else:\n",
        "    for i, row in X_test.iterrows():\n",
        "        X_test.at[i, \"features\"] = row[\"mfcc\"]"
      ]
    },
    {
      "cell_type": "markdown",
      "metadata": {},
      "source": [
        "# $\\textit{EDA}$"
      ]
    },
    {
      "cell_type": "markdown",
      "metadata": {},
      "source": [
        "$\\textit{Observamos la media de los MFCCs de cada sexo}$"
      ]
    },
    {
      "cell_type": "code",
      "execution_count": 81,
      "metadata": {},
      "outputs": [
        {
          "data": {
            "text/plain": [
              "array([-9801.817   ,  3219.9458  ,   197.30939 ,   704.40515 ,\n",
              "         -75.91277 ,   -91.35118 ,  -287.1421  ,  -184.50017 ,\n",
              "        -188.54317 ,   -58.12195 ,  -106.16925 ,   -39.695854,\n",
              "        -168.6129  ,    27.511091,  -138.94371 ,  -108.93612 ,\n",
              "         -92.69431 ,   -71.3743  ,  -155.38133 ,   -36.761444,\n",
              "        -114.527336,   -72.789825,   -80.47447 ,   -46.817318],\n",
              "      dtype=float32)"
            ]
          },
          "metadata": {},
          "output_type": "display_data"
        },
        {
          "data": {
            "text/plain": [
              "array([-1.0146238e+04,  3.0274810e+03, -4.4041145e+01,  5.1950610e+02,\n",
              "       -3.4122067e+02, -2.0802672e+02, -3.3122186e+02, -1.0996868e+02,\n",
              "       -1.6349440e+02, -1.0502805e+02, -1.3333400e+02, -1.7864595e+02,\n",
              "       -6.8300476e+01, -1.2600538e+02, -2.2201425e+02, -4.7217350e+01,\n",
              "       -1.8232716e+02, -9.0775612e+01, -1.1570395e+02, -8.3572884e+01,\n",
              "       -1.1212126e+02, -2.6185694e+01, -9.2121086e+01, -5.6974187e+00],\n",
              "      dtype=float32)"
            ]
          },
          "metadata": {},
          "output_type": "display_data"
        }
      ],
      "source": [
        "# Get the mean mfcc coefficients for each class\n",
        "mean_mfcc_males = 0\n",
        "mean_mfcc_females = 0\n",
        "\n",
        "for i, person in df.iterrows():\n",
        "    for j in range(len(person[\"mfcc\"])//mfcc_coeff_amount):\n",
        "        if person[\"gender\"] == \"males\":\n",
        "            mean_mfcc_males += np.mean(np.array(person[\"mfcc\"]), axis=0)/num_males\n",
        "        else:\n",
        "            mean_mfcc_females += np.mean(person[\"mfcc\"], axis=0)/num_females\n",
        "\n",
        "display(mean_mfcc_males)\n",
        "display(mean_mfcc_females)"
      ]
    },
    {
      "cell_type": "markdown",
      "metadata": {},
      "source": [
        "# $\\textit{GMM Model}$"
      ]
    },
    {
      "cell_type": "code",
      "execution_count": 82,
      "metadata": {},
      "outputs": [],
      "source": [
        "X_male_mfcc = np.concatenate(X_train.mfcc[y_train==\"males\"].to_numpy(), axis=0)\n",
        "X_female_mfcc = np.concatenate(X_train.mfcc[y_train==\"females\"].to_numpy(), axis=0)\n",
        "\n",
        "X_male_delta = np.concatenate(X_train.delta[y_train==\"males\"].to_numpy(), axis=0)\n",
        "X_female_delta = np.concatenate(X_train.delta[y_train==\"females\"].to_numpy(), axis=0)\n",
        "\n",
        "X_male_delta_delta = np.concatenate(X_train.delta_delta[y_train==\"males\"].to_numpy(), axis=0)\n",
        "X_female_delta_delta = np.concatenate(X_train.delta_delta[y_train==\"females\"].to_numpy(), axis=0)\n",
        "\n",
        "\n",
        "if use_delta and use_delta_delta:\n",
        "    X_male = np.concatenate([X_male_mfcc, X_male_delta, X_male_delta_delta], axis=1)\n",
        "    X_female = np.concatenate([X_female_mfcc, X_female_delta, X_female_delta_delta], axis=1)\n",
        "\n",
        "elif use_delta:\n",
        "    X_male = np.concatenate([X_male_mfcc, X_male_delta], axis=1)\n",
        "    X_female = np.concatenate([X_female_mfcc, X_female_delta], axis=1)\n",
        "\n",
        "elif use_delta_delta:\n",
        "    X_male = np.concatenate([X_male_mfcc, X_male_delta_delta], axis=1)\n",
        "    X_female = np.concatenate([X_female_mfcc, X_female_delta_delta], axis=1)\n",
        "\n",
        "else:\n",
        "    X_male = X_male_mfcc\n",
        "    X_female = X_female_mfcc\n",
        "\n"
      ]
    },
    {
      "cell_type": "markdown",
      "metadata": {},
      "source": [
        "$\\textit{Fit Models}$"
      ]
    },
    {
      "cell_type": "code",
      "execution_count": 83,
      "metadata": {},
      "outputs": [],
      "source": [
        "from sklearn.mixture import GaussianMixture\n",
        "from sklearn.model_selection import GridSearchCV\n",
        "import pickle\n",
        "if use_delta_delta and use_delta:\n",
        "    pathm = f\"gmm_male_mfcc_{mfcc_coeff_amount}_{window_length}_{n_components}_D_DD.pkl\"\n",
        "    pathf = f\"gmm_female_mfcc_{mfcc_coeff_amount}_{window_length}_{n_components}_D_DD.pkl\"\n",
        "\n",
        "elif use_delta:\n",
        "    pathm = f\"gmm_male_mfcc_{mfcc_coeff_amount}_{window_length}_{n_components}_D.pkl\"\n",
        "    pathf = f\"gmm_female_mfcc_{mfcc_coeff_amount}_{window_length}_{n_components}_D.pkl\"\n",
        "\n",
        "elif use_delta_delta:\n",
        "    pathm = f\"gmm_male_mfcc_{mfcc_coeff_amount}_{window_length}_{n_components}_DD.pkl\"\n",
        "    pathf = f\"gmm_female_mfcc_{mfcc_coeff_amount}_{window_length}_{n_components}_DD.pkl\"\n",
        "\n",
        "else:\n",
        "    pathm = f\"gmm_male_mfcc_{mfcc_coeff_amount}_{window_length}_{n_components}.pkl\"\n",
        "    pathf = f\"gmm_female_mfcc_{mfcc_coeff_amount}_{window_length}_{n_components}.pkl\"\n",
        "\n",
        "\n",
        "\n",
        "if not os.path.exists(pathm):\n",
        "    \n",
        "    gmm_male = GaussianMixture(n_components=n_components, covariance_type='full', max_iter=1000)\n",
        "    gmm_female = GaussianMixture(n_components=n_components, covariance_type='full', max_iter=1000)\n",
        "\n",
        "    gmm_male.fit(X_male)\n",
        "    gmm_female.fit(X_female)\n",
        "\n",
        "    with open(pathm,'wb') as f:\n",
        "        pickle.dump(gmm_male,f)\n",
        "\n",
        "    with open(pathf,'wb') as f:\n",
        "        pickle.dump(gmm_female,f)\n",
        "\n",
        "else:\n",
        "    print(\"File Found\")\n",
        "\n",
        "    with open(pathm,'rb') as f:\n",
        "        gmm_male = pickle.load(f)\n",
        "\n",
        "    with open(pathf,'rb') as f:\n",
        "        gmm_female = pickle.load(f)"
      ]
    },
    {
      "cell_type": "code",
      "execution_count": null,
      "metadata": {},
      "outputs": [],
      "source": [
        "def predict_male(features):\n",
        "    score = gmm_male.score_samples(features).mean() - gmm_female.score_samples(features).mean()\n",
        "    return score"
      ]
    },
    {
      "cell_type": "markdown",
      "metadata": {},
      "source": [
        "$\\textit{Observamos la distribucion de los scores para cada trama de cada modelo}$"
      ]
    },
    {
      "cell_type": "code",
      "execution_count": null,
      "metadata": {},
      "outputs": [
        {
          "name": "stderr",
          "output_type": "stream",
          "text": [
            "/tmp/ipykernel_3609/750592927.py:1: FutureWarning: The default dtype for empty Series will be 'object' instead of 'float64' in a future version. Specify a dtype explicitly to silence this warning.\n",
            "  scores_gmm = pd.Series(index=y_test.index)\n",
            "/tmp/ipykernel_3609/750592927.py:13: FutureWarning: Dropping of nuisance columns in DataFrame reductions (with 'numeric_only=None') is deprecated; in a future version this will raise TypeError.  Select only valid columns before calling the reduction.\n",
            "  display(df_scores[df_scores.gender == \"males\"].mean())\n"
          ]
        },
        {
          "data": {
            "text/plain": [
              "score    1.631802\n",
              "dtype: float64"
            ]
          },
          "metadata": {},
          "output_type": "display_data"
        },
        {
          "name": "stderr",
          "output_type": "stream",
          "text": [
            "/tmp/ipykernel_3609/750592927.py:14: FutureWarning: Dropping of nuisance columns in DataFrame reductions (with 'numeric_only=None') is deprecated; in a future version this will raise TypeError.  Select only valid columns before calling the reduction.\n",
            "  display(df_scores[df_scores.gender == \"females\"].mean())\n"
          ]
        },
        {
          "data": {
            "text/plain": [
              "score   -1.631243\n",
              "dtype: float64"
            ]
          },
          "metadata": {},
          "output_type": "display_data"
        }
      ],
      "source": [
        "scores_gmm = pd.Series(index=y_test.index)\n",
        "\n",
        "for index, row in X_test.iterrows():\n",
        "    scores_gmm[index] = predict_male(row['features']).mean()\n",
        "\n",
        "\n",
        "mean_scoresf = scores_gmm[y_test == \"females\"][:1000]\n",
        "mean_scoresm = scores_gmm[y_test == \"males\"][:1000]\n",
        "df_female_mean = pd.DataFrame({'score': scores_gmm[y_test == \"females\"], 'gender': 'females'})\n",
        "df_male_mean = pd.DataFrame({'score': mean_scoresm, 'gender': 'males'})\n",
        "df_scores = pd.DataFrame({'score': scores_gmm, 'gender': y_test})\n",
        "\n",
        "display(df_scores[df_scores.gender == \"males\"].score.mean())\n",
        "display(df_scores[df_scores.gender == \"females\"].score.mean())"
      ]
    },
    {
      "cell_type": "code",
      "execution_count": null,
      "metadata": {},
      "outputs": [
        {
          "data": {
            "text/plain": [
              "<Axes: xlabel='score', ylabel='Density'>"
            ]
          },
          "execution_count": 68,
          "metadata": {},
          "output_type": "execute_result"
        },
        {
          "data": {
            "image/png": "[encoded data removed]",
            "text/plain": [
              "<Figure size 640x480 with 1 Axes>"
            ]
          },
          "metadata": {},
          "output_type": "display_data"
        }
      ],
      "source": [
        "sns.kdeplot(data=df_scores, x='score', hue='gender', alpha=0.5, fill=True, common_norm=False)"
      ]
    },
    {
      "cell_type": "markdown",
      "metadata": {},
      "source": [
        "$\\textit{Probamos el modelo sobre el test}$"
      ]
    },
    {
      "cell_type": "code",
      "execution_count": null,
      "metadata": {},
      "outputs": [
        {
          "name": "stdout",
          "output_type": "stream",
          "text": [
            "Accuracy: 94.08%\n"
          ]
        }
      ],
      "source": [
        "predictions = []\n",
        "for index in y_test.index:\n",
        "    if scores_gmm[index] > 0:\n",
        "        predictions.append('males')\n",
        "    else:\n",
        "        predictions.append('females')\n",
        "\n",
        "# Convert predictions to a pandas Series\n",
        "predictions = pd.Series(predictions, index=y_test.index)\n",
        "\n",
        "# Calculate the accuracy\n",
        "accuracy = (predictions == y_test).mean()\n",
        "\n",
        "# Print the accuracy\n",
        "print(f'Accuracy: {accuracy * 100:.2f}%')"
      ]
    },
    {
      "cell_type": "code",
      "execution_count": null,
      "metadata": {},
      "outputs": [
        {
          "data": {
            "text/plain": [
              "2562      males\n",
              "369       males\n",
              "2290      males\n",
              "4250    females\n",
              "757       males\n",
              "         ...   \n",
              "4611    females\n",
              "2614    females\n",
              "1815      males\n",
              "3783    females\n",
              "2144      males\n",
              "Length: 1199, dtype: object"
            ]
          },
          "execution_count": 70,
          "metadata": {},
          "output_type": "execute_result"
        }
      ],
      "source": [
        "predictions"
      ]
    },
    {
      "cell_type": "code",
      "execution_count": null,
      "metadata": {},
      "outputs": [],
      "source": [
        "import numpy as np\n",
        "from sklearn.metrics import roc_curve\n",
        "\n",
        "fpr, tpr, threshold = roc_curve(predictions == \"males\", y_test == \"males\", pos_label=1)\n",
        "fnr = 1 - tpr\n",
        "eer_threshold = threshold[np.nanargmin(np.absolute((fnr - fpr)))]\n",
        "EER = fnr[np.nanargmin(np.absolute((fnr - fpr)))]"
      ]
    },
    {
      "cell_type": "code",
      "execution_count": null,
      "metadata": {},
      "outputs": [
        {
          "data": {
            "text/plain": [
              "[<matplotlib.lines.Line2D at 0x7f6d553e0430>]"
            ]
          },
          "execution_count": 72,
          "metadata": {},
          "output_type": "execute_result"
        },
        {
          "data": {
            "image/png": "[encoded data removed]",
            "text/plain": [
              "<Figure size 640x480 with 1 Axes>"
            ]
          },
          "metadata": {},
          "output_type": "display_data"
        }
      ],
      "source": [
        "plt.figure()\n",
        "plt.plot(fpr, tpr, color='darkorange', lw=2, label=f'ROC curve (area = {EER:.2f})')"
      ]
    },
    {
      "cell_type": "code",
      "execution_count": null,
      "metadata": {},
      "outputs": [
        {
          "data": {
            "text/plain": [
              "0.03537414965986396"
            ]
          },
          "execution_count": 73,
          "metadata": {},
          "output_type": "execute_result"
        }
      ],
      "source": [
        "EER"
      ]
    },
    {
      "cell_type": "markdown",
      "metadata": {},
      "source": [
        "$\\textit{Probamos el modelo en tiempo real}$"
      ]
    },
    {
      "cell_type": "code",
      "execution_count": null,
      "metadata": {},
      "outputs": [],
      "source": [
        "import pyaudio\n",
        "from IPython.display import update_display\n",
        "\n",
        "Chunk = 1024 * 8\n",
        "format = pyaudio.paFloat32\n",
        "channels = 1\n",
        "rate = 16000"
      ]
    },
    {
      "cell_type": "code",
      "execution_count": null,
      "metadata": {},
      "outputs": [
        {
          "data": {
            "text/plain": [
              "'male'"
            ]
          },
          "metadata": {},
          "output_type": "display_data"
        },
        {
          "ename": "KeyboardInterrupt",
          "evalue": "",
          "output_type": "error",
          "traceback": [
            "\u001b[0;31m---------------------------------------------------------------------------\u001b[0m",
            "\u001b[0;31mKeyboardInterrupt\u001b[0m                         Traceback (most recent call last)",
            "Cell \u001b[0;32mIn[75], line 14\u001b[0m\n\u001b[1;32m     12\u001b[0m display(result, display_id\u001b[38;5;241m=\u001b[39m\u001b[38;5;124m\"\u001b[39m\u001b[38;5;124mres\u001b[39m\u001b[38;5;124m\"\u001b[39m)\n\u001b[1;32m     13\u001b[0m \u001b[38;5;28;01mwhile\u001b[39;00m \u001b[38;5;28;01mTrue\u001b[39;00m:\n\u001b[0;32m---> 14\u001b[0m     data \u001b[38;5;241m=\u001b[39m \u001b[43mstream\u001b[49m\u001b[38;5;241;43m.\u001b[39;49m\u001b[43mread\u001b[49m\u001b[43m(\u001b[49m\u001b[43mChunk\u001b[49m\u001b[43m)\u001b[49m\n\u001b[1;32m     15\u001b[0m     data_int \u001b[38;5;241m=\u001b[39m np\u001b[38;5;241m.\u001b[39mfrombuffer(data, dtype\u001b[38;5;241m=\u001b[39mnp\u001b[38;5;241m.\u001b[39mfloat32)\n\u001b[1;32m     16\u001b[0m     features \u001b[38;5;241m=\u001b[39m librosa\u001b[38;5;241m.\u001b[39mfeature\u001b[38;5;241m.\u001b[39mmfcc(y\u001b[38;5;241m=\u001b[39mdata_int, sr\u001b[38;5;241m=\u001b[39m\u001b[38;5;241m16000\u001b[39m, n_mfcc\u001b[38;5;241m=\u001b[39mmfcc_coeff_amount, window\u001b[38;5;241m=\u001b[39mss\u001b[38;5;241m.\u001b[39mwindows\u001b[38;5;241m.\u001b[39mhamming, win_length\u001b[38;5;241m=\u001b[39mwindow_length, hop_length\u001b[38;5;241m=\u001b[39mwindow_length\u001b[38;5;241m/\u001b[39m\u001b[38;5;241m/\u001b[39m\u001b[38;5;241m2\u001b[39m)\u001b[38;5;241m.\u001b[39mT\n",
            "File \u001b[0;32m~/.pyenv/versions/3.9.16/lib/python3.9/site-packages/pyaudio/__init__.py:570\u001b[0m, in \u001b[0;36mPyAudio.Stream.read\u001b[0;34m(self, num_frames, exception_on_overflow)\u001b[0m\n\u001b[1;32m    567\u001b[0m \u001b[38;5;28;01mif\u001b[39;00m \u001b[38;5;129;01mnot\u001b[39;00m \u001b[38;5;28mself\u001b[39m\u001b[38;5;241m.\u001b[39m_is_input:\n\u001b[1;32m    568\u001b[0m     \u001b[38;5;28;01mraise\u001b[39;00m \u001b[38;5;167;01mIOError\u001b[39;00m(\u001b[38;5;124m\"\u001b[39m\u001b[38;5;124mNot input stream\u001b[39m\u001b[38;5;124m\"\u001b[39m,\n\u001b[1;32m    569\u001b[0m                   paCanNotReadFromAnOutputOnlyStream)\n\u001b[0;32m--> 570\u001b[0m \u001b[38;5;28;01mreturn\u001b[39;00m \u001b[43mpa\u001b[49m\u001b[38;5;241;43m.\u001b[39;49m\u001b[43mread_stream\u001b[49m\u001b[43m(\u001b[49m\u001b[38;5;28;43mself\u001b[39;49m\u001b[38;5;241;43m.\u001b[39;49m\u001b[43m_stream\u001b[49m\u001b[43m,\u001b[49m\u001b[43m \u001b[49m\u001b[43mnum_frames\u001b[49m\u001b[43m,\u001b[49m\n\u001b[1;32m    571\u001b[0m \u001b[43m                      \u001b[49m\u001b[43mexception_on_overflow\u001b[49m\u001b[43m)\u001b[49m\n",
            "\u001b[0;31mKeyboardInterrupt\u001b[0m: "
          ]
        }
      ],
      "source": [
        "p = pyaudio.PyAudio()\n",
        "\n",
        "stream = p.open(\n",
        "    format=format,\n",
        "    channels=channels,\n",
        "    rate=rate,\n",
        "    input=True,\n",
        "    output=True,\n",
        "    frames_per_buffer=Chunk,\n",
        ")\n",
        "result = \"male\"\n",
        "display(result, display_id=\"res\")\n",
        "while True:\n",
        "    data = stream.read(Chunk)\n",
        "    data_int = np.frombuffer(data, dtype=np.float32)\n",
        "    features = librosa.feature.mfcc(y=data_int, sr=16000, n_mfcc=mfcc_coeff_amount, window=ss.windows.hamming, win_length=window_length, hop_length=window_length//2).T\n",
        "    if use_delta and use_delta_delta:\n",
        "        features = np.concatenate([features, librosa.feature.delta(features), librosa.feature.delta(features, order=2)], axis=1)\n",
        "    elif use_delta:\n",
        "        features = np.concatenate([features, librosa.feature.delta(features)], axis=1)\n",
        "    elif use_delta_delta:\n",
        "        features = np.concatenate([features, librosa.feature.delta(features, order=2)], axis=1)\n",
        "    \n",
        "    score_res = predict_male(features)\n",
        "    text = f\"Is a male speaking?: {score_res > 0}, with a score of {score_res}\"\n",
        "    update_display(text, display_id=\"res\")\n",
        "\n"
      ]
    }
  ],
  "metadata": {
    "kernelspec": {
      "display_name": "base",
      "language": "python",
      "name": "python3"
    },
    "language_info": {
      "codemirror_mode": {
        "name": "ipython",
        "version": 3
      },
      "file_extension": ".py",
      "mimetype": "text/x-python",
      "name": "python",
      "nbconvert_exporter": "python",
      "pygments_lexer": "ipython3",
      "version": "3.9.16"
    }
  },
  "nbformat": 4,
  "nbformat_minor": 2
}
