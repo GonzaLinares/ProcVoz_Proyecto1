{
  "cells": [
    {
      "cell_type": "code",
      "execution_count": 1,
      "metadata": {},
      "outputs": [
        {
          "name": "stdout",
          "output_type": "stream",
          "text": [
            "Dataset already downloaded.\n"
          ]
        }
      ],
      "source": [
        "import os\n",
        "\n",
        "if not os.path.exists(\"VoxCeleb_gender\"):\n",
        "    !pip install gdown pydub librosa\n",
        "    !gdown https://drive.google.com/uc?id=1V3lNnSDv71AJYIj71V4_xD0ir0DrXxEV\n",
        "    !tar -xf VoxCeleb_gender.zip #!tar -xf VoxCeleb_gender.zip\n",
        "    !del VoxCeleb_gender.zip     #!del\n",
        "\n",
        "else:\n",
        "    print(\"Dataset already downloaded.\")"
      ]
    },
    {
      "cell_type": "code",
      "execution_count": 2,
      "metadata": {},
      "outputs": [],
      "source": [
        "import librosa\n",
        "import scipy.signal as ss\n",
        "import numpy as np\n",
        "import pandas as pd\n",
        "import os\n",
        "\n",
        "def extract_mfcc(file_path, n_mfcc=12, win_length=320, hop_length=160):\n",
        "    wave, sr = librosa.load(file_path, mono=True, sr=None)\n",
        "    if sr != 16000:\n",
        "        wave = librosa.resample(wave, sr, 16000)\n",
        "    mfcc = librosa.feature.mfcc(y=wave, sr=16000, n_mfcc=n_mfcc, window=ss.windows.hamming, win_length=win_length, hop_length=hop_length)\n",
        "    return mfcc"
      ]
    },
    {
      "cell_type": "markdown",
      "metadata": {},
      "source": [
        "# Build data in memory"
      ]
    },
    {
      "cell_type": "code",
      "execution_count": 3,
      "metadata": {},
      "outputs": [],
      "source": [
        "mfcc_coeff_amount = 12\n",
        "window_length = int(16000*0.02)"
      ]
    },
    {
      "cell_type": "code",
      "execution_count": 4,
      "metadata": {},
      "outputs": [
        {
          "name": "stdout",
          "output_type": "stream",
          "text": [
            "File Found\n"
          ]
        }
      ],
      "source": [
        "arr = []\n",
        "if not os.path.exists(f\"mfcc_{mfcc_coeff_amount}_{window_length}.pkl\"):\n",
        "\n",
        "    aux = []\n",
        "\n",
        "    for (dirpath, dirnames, filenames) in os.walk(\"VoxCeleb_gender\"):\n",
        "        for filename in filenames:\n",
        "            if filename.endswith(\".wav\"):\n",
        "                filepath = dirpath + \"/\" + filename\n",
        "                aux.append({\"file\": filepath, \"gender\": dirpath.split(\"/\")[-1]})\n",
        "\n",
        "    df = pd.DataFrame(aux)\n",
        "\n",
        "    df[\"mfcc\"] = pd.Series(name=\"mfcc\", dtype=object)\n",
        "\n",
        "    for i in range(len(df)):\n",
        "        mfcc_coeffs = extract_mfcc(df.loc[i, \"file\"], n_mfcc=mfcc_coeff_amount, win_length=window_length)\n",
        "        for i, coeffs in enumerate(mfcc_coeffs):\n",
        "            if np.linalg.norm(coeffs) < 1:\n",
        "                mfcc_coeffs.pop(i)\n",
        "        arr.append(mfcc_coeffs)\n",
        "    df[\"mfcc\"] = arr\n",
        "    df.to_pickle(f\"mfcc_{mfcc_coeff_amount}_{window_length}\")\n",
        "else:\n",
        "    print(\"File Found\")\n",
        "    df = pd.read_pickle(f\"mfcc_{mfcc_coeff_amount}_{window_length}.pkl\")\n",
        "\n",
        "\n",
        "num_males = len(df.loc[df.gender == \"males\"] )           \n",
        "num_females = len(df.loc[df.gender == \"females\"] )              "
      ]
    },
    {
      "cell_type": "code",
      "execution_count": 5,
      "metadata": {},
      "outputs": [
        {
          "name": "stdout",
          "output_type": "stream",
          "text": [
            "Number of males:  3682\n",
            "Number of females:  2311\n"
          ]
        }
      ],
      "source": [
        "print(\"Number of males: \", num_males)\n",
        "print(\"Number of females: \", num_females)"
      ]
    },
    {
      "cell_type": "code",
      "execution_count": 6,
      "metadata": {},
      "outputs": [
        {
          "data": {
            "text/html": [
              "<div>\n",
              "<style scoped>\n",
              "    .dataframe tbody tr th:only-of-type {\n",
              "        vertical-align: middle;\n",
              "    }\n",
              "\n",
              "    .dataframe tbody tr th {\n",
              "        vertical-align: top;\n",
              "    }\n",
              "\n",
              "    .dataframe thead th {\n",
              "        text-align: right;\n",
              "    }\n",
              "</style>\n",
              "<table border=\"1\" class=\"dataframe\">\n",
              "  <thead>\n",
              "    <tr style=\"text-align: right;\">\n",
              "      <th></th>\n",
              "      <th>file</th>\n",
              "      <th>gender</th>\n",
              "      <th>mfcc</th>\n",
              "    </tr>\n",
              "  </thead>\n",
              "  <tbody>\n",
              "    <tr>\n",
              "      <th>0</th>\n",
              "      <td>VoxCeleb_gender/males/255.wav</td>\n",
              "      <td>males</td>\n",
              "      <td>[[-266.89233, -288.64322, -288.0051, -277.8506...</td>\n",
              "    </tr>\n",
              "    <tr>\n",
              "      <th>1</th>\n",
              "      <td>VoxCeleb_gender/males/1908.wav</td>\n",
              "      <td>males</td>\n",
              "      <td>[[-362.22406, -338.4697, -335.41837, -333.9136...</td>\n",
              "    </tr>\n",
              "    <tr>\n",
              "      <th>2</th>\n",
              "      <td>VoxCeleb_gender/males/2965.wav</td>\n",
              "      <td>males</td>\n",
              "      <td>[[-407.10593, -375.89368, -386.202, -388.78607...</td>\n",
              "    </tr>\n",
              "    <tr>\n",
              "      <th>3</th>\n",
              "      <td>VoxCeleb_gender/males/2733.wav</td>\n",
              "      <td>males</td>\n",
              "      <td>[[-299.1009, -257.6437, -261.46454, -229.911, ...</td>\n",
              "    </tr>\n",
              "    <tr>\n",
              "      <th>4</th>\n",
              "      <td>VoxCeleb_gender/males/3091.wav</td>\n",
              "      <td>males</td>\n",
              "      <td>[[-259.80472, -288.65842, -285.53375, -291.276...</td>\n",
              "    </tr>\n",
              "    <tr>\n",
              "      <th>...</th>\n",
              "      <td>...</td>\n",
              "      <td>...</td>\n",
              "      <td>...</td>\n",
              "    </tr>\n",
              "    <tr>\n",
              "      <th>5988</th>\n",
              "      <td>VoxCeleb_gender/females/489.wav</td>\n",
              "      <td>females</td>\n",
              "      <td>[[-439.62015, -451.93927, -449.33908, -452.043...</td>\n",
              "    </tr>\n",
              "    <tr>\n",
              "      <th>5989</th>\n",
              "      <td>VoxCeleb_gender/females/941.wav</td>\n",
              "      <td>females</td>\n",
              "      <td>[[-327.78085, -321.0226, -342.2135, -330.92526...</td>\n",
              "    </tr>\n",
              "    <tr>\n",
              "      <th>5990</th>\n",
              "      <td>VoxCeleb_gender/females/63.wav</td>\n",
              "      <td>females</td>\n",
              "      <td>[[-408.27185, -391.82303, -360.8797, -308.7707...</td>\n",
              "    </tr>\n",
              "    <tr>\n",
              "      <th>5991</th>\n",
              "      <td>VoxCeleb_gender/females/1820.wav</td>\n",
              "      <td>females</td>\n",
              "      <td>[[-365.03598, -326.88446, -337.80292, -328.621...</td>\n",
              "    </tr>\n",
              "    <tr>\n",
              "      <th>5992</th>\n",
              "      <td>VoxCeleb_gender/females/467.wav</td>\n",
              "      <td>females</td>\n",
              "      <td>[[-444.18356, -449.84818, -424.62442, -300.469...</td>\n",
              "    </tr>\n",
              "  </tbody>\n",
              "</table>\n",
              "<p>5993 rows × 3 columns</p>\n",
              "</div>"
            ],
            "text/plain": [
              "                                  file   gender  \\\n",
              "0        VoxCeleb_gender/males/255.wav    males   \n",
              "1       VoxCeleb_gender/males/1908.wav    males   \n",
              "2       VoxCeleb_gender/males/2965.wav    males   \n",
              "3       VoxCeleb_gender/males/2733.wav    males   \n",
              "4       VoxCeleb_gender/males/3091.wav    males   \n",
              "...                                ...      ...   \n",
              "5988   VoxCeleb_gender/females/489.wav  females   \n",
              "5989   VoxCeleb_gender/females/941.wav  females   \n",
              "5990    VoxCeleb_gender/females/63.wav  females   \n",
              "5991  VoxCeleb_gender/females/1820.wav  females   \n",
              "5992   VoxCeleb_gender/females/467.wav  females   \n",
              "\n",
              "                                                   mfcc  \n",
              "0     [[-266.89233, -288.64322, -288.0051, -277.8506...  \n",
              "1     [[-362.22406, -338.4697, -335.41837, -333.9136...  \n",
              "2     [[-407.10593, -375.89368, -386.202, -388.78607...  \n",
              "3     [[-299.1009, -257.6437, -261.46454, -229.911, ...  \n",
              "4     [[-259.80472, -288.65842, -285.53375, -291.276...  \n",
              "...                                                 ...  \n",
              "5988  [[-439.62015, -451.93927, -449.33908, -452.043...  \n",
              "5989  [[-327.78085, -321.0226, -342.2135, -330.92526...  \n",
              "5990  [[-408.27185, -391.82303, -360.8797, -308.7707...  \n",
              "5991  [[-365.03598, -326.88446, -337.80292, -328.621...  \n",
              "5992  [[-444.18356, -449.84818, -424.62442, -300.469...  \n",
              "\n",
              "[5993 rows x 3 columns]"
            ]
          },
          "metadata": {},
          "output_type": "display_data"
        }
      ],
      "source": [
        "display(df)"
      ]
    },
    {
      "cell_type": "markdown",
      "metadata": {},
      "source": [
        "# EDA"
      ]
    },
    {
      "cell_type": "code",
      "execution_count": 13,
      "metadata": {},
      "outputs": [
        {
          "data": {
            "text/plain": [
              "array([-0.11972281,  0.02990563, -0.01197125,  0.00156714, -0.0089404 ,\n",
              "       -0.00567426, -0.00416346, -0.00176591, -0.00151322, -0.00049492,\n",
              "       -0.00278864,  0.00304949], dtype=float32)"
            ]
          },
          "metadata": {},
          "output_type": "display_data"
        },
        {
          "data": {
            "text/plain": [
              "array([-0.1156978 ,  0.03775504, -0.00754318,  0.00508091, -0.01344521,\n",
              "       -0.01013145, -0.00357516, -0.00078147,  0.00039397,  0.00086333,\n",
              "       -0.0044957 , -0.00069347], dtype=float32)"
            ]
          },
          "metadata": {},
          "output_type": "display_data"
        }
      ],
      "source": [
        "# Get the mean mfcc coefficients for each class\n",
        "mean_mfcc_males = 0\n",
        "mean_mfcc_females = 0\n",
        "\n",
        "\n",
        "for person in df.iterrows():\n",
        "    for i in range(len(person[1][\"mfcc\"])//mfcc_coeff_amount):\n",
        "        if person[1][\"gender\"] == \"males\":\n",
        "            mean_mfcc_males = np.mean(np.array(person[1][\"mfcc\"]), axis=1)/num_males\n",
        "        else:\n",
        "            mean_mfcc_females = np.mean(person[1][\"mfcc\"], axis=1)/num_females\n",
        "\n",
        "display(mean_mfcc_males)\n",
        "display(mean_mfcc_females)"
      ]
    },
    {
      "cell_type": "code",
      "execution_count": null,
      "metadata": {},
      "outputs": [],
      "source": [
        "for i in range(100):\n",
        "    "
      ]
    }
  ],
  "metadata": {
    "kernelspec": {
      "display_name": "base",
      "language": "python",
      "name": "python3"
    },
    "language_info": {
      "codemirror_mode": {
        "name": "ipython",
        "version": 3
      },
      "file_extension": ".py",
      "mimetype": "text/x-python",
      "name": "python",
      "nbconvert_exporter": "python",
      "pygments_lexer": "ipython3",
      "version": "3.10.9"
    }
  },
  "nbformat": 4,
  "nbformat_minor": 2
}
