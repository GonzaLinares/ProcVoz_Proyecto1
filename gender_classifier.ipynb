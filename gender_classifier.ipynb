{
 "cells": [
  {
   "cell_type": "code",
   "execution_count": 8,
   "metadata": {},
   "outputs": [
    {
     "name": "stdout",
     "output_type": "stream",
     "text": [
      "Requirement already satisfied: gdown in c:\\users\\gonzalo\\appdata\\local\\programs\\python\\python310\\lib\\site-packages (5.2.0)\n",
      "Requirement already satisfied: pydub in c:\\users\\gonzalo\\appdata\\local\\programs\\python\\python310\\lib\\site-packages (0.25.1)\n",
      "Requirement already satisfied: librosa in c:\\users\\gonzalo\\appdata\\local\\programs\\python\\python310\\lib\\site-packages (0.8.0)\n",
      "Requirement already satisfied: beautifulsoup4 in c:\\users\\gonzalo\\appdata\\local\\programs\\python\\python310\\lib\\site-packages (from gdown) (4.12.2)\n",
      "Requirement already satisfied: filelock in c:\\users\\gonzalo\\appdata\\local\\programs\\python\\python310\\lib\\site-packages (from gdown) (3.14.0)\n",
      "Requirement already satisfied: requests[socks] in c:\\users\\gonzalo\\appdata\\local\\programs\\python\\python310\\lib\\site-packages (from gdown) (2.31.0)\n",
      "Requirement already satisfied: tqdm in c:\\users\\gonzalo\\appdata\\local\\programs\\python\\python310\\lib\\site-packages (from gdown) (4.64.1)\n",
      "Requirement already satisfied: audioread>=2.0.0 in c:\\users\\gonzalo\\appdata\\local\\programs\\python\\python310\\lib\\site-packages (from librosa) (3.0.0)\n",
      "Requirement already satisfied: numpy>=1.15.0 in c:\\users\\gonzalo\\appdata\\local\\programs\\python\\python310\\lib\\site-packages (from librosa) (1.22.4)\n",
      "Requirement already satisfied: scipy>=1.0.0 in c:\\users\\gonzalo\\appdata\\local\\programs\\python\\python310\\lib\\site-packages (from librosa) (1.10.0)\n",
      "Requirement already satisfied: scikit-learn!=0.19.0,>=0.14.0 in c:\\users\\gonzalo\\appdata\\local\\programs\\python\\python310\\lib\\site-packages (from librosa) (1.2.1)\n",
      "Requirement already satisfied: joblib>=0.14 in c:\\users\\gonzalo\\appdata\\local\\programs\\python\\python310\\lib\\site-packages (from librosa) (1.2.0)\n",
      "Requirement already satisfied: decorator>=3.0.0 in c:\\users\\gonzalo\\appdata\\local\\programs\\python\\python310\\lib\\site-packages (from librosa) (5.1.1)\n",
      "Requirement already satisfied: resampy>=0.2.2 in c:\\users\\gonzalo\\appdata\\local\\programs\\python\\python310\\lib\\site-packages (from librosa) (0.4.2)\n",
      "Requirement already satisfied: numba>=0.43.0 in c:\\users\\gonzalo\\appdata\\local\\programs\\python\\python310\\lib\\site-packages (from librosa) (0.55.2)\n",
      "Requirement already satisfied: soundfile>=0.9.0 in c:\\users\\gonzalo\\appdata\\local\\programs\\python\\python310\\lib\\site-packages (from librosa) (0.11.0)\n",
      "Requirement already satisfied: pooch>=1.0 in c:\\users\\gonzalo\\appdata\\local\\programs\\python\\python310\\lib\\site-packages (from librosa) (1.6.0)\n",
      "Requirement already satisfied: llvmlite<0.39,>=0.38.0rc1 in c:\\users\\gonzalo\\appdata\\local\\programs\\python\\python310\\lib\\site-packages (from numba>=0.43.0->librosa) (0.38.1)\n",
      "Requirement already satisfied: setuptools in c:\\users\\gonzalo\\appdata\\local\\programs\\python\\python310\\lib\\site-packages (from numba>=0.43.0->librosa) (65.5.0)\n",
      "Requirement already satisfied: appdirs>=1.3.0 in c:\\users\\gonzalo\\appdata\\local\\programs\\python\\python310\\lib\\site-packages (from pooch>=1.0->librosa) (1.4.4)\n",
      "Requirement already satisfied: packaging>=20.0 in c:\\users\\gonzalo\\appdata\\local\\programs\\python\\python310\\lib\\site-packages (from pooch>=1.0->librosa) (23.0)\n",
      "Requirement already satisfied: threadpoolctl>=2.0.0 in c:\\users\\gonzalo\\appdata\\local\\programs\\python\\python310\\lib\\site-packages (from scikit-learn!=0.19.0,>=0.14.0->librosa) (3.1.0)\n",
      "Requirement already satisfied: cffi>=1.0 in c:\\users\\gonzalo\\appdata\\local\\programs\\python\\python310\\lib\\site-packages (from soundfile>=0.9.0->librosa) (1.15.1)\n",
      "Requirement already satisfied: soupsieve>1.2 in c:\\users\\gonzalo\\appdata\\local\\programs\\python\\python310\\lib\\site-packages (from beautifulsoup4->gdown) (2.4.1)\n",
      "Requirement already satisfied: charset-normalizer<4,>=2 in c:\\users\\gonzalo\\appdata\\local\\programs\\python\\python310\\lib\\site-packages (from requests[socks]->gdown) (3.0.1)\n",
      "Requirement already satisfied: idna<4,>=2.5 in c:\\users\\gonzalo\\appdata\\local\\programs\\python\\python310\\lib\\site-packages (from requests[socks]->gdown) (2.10)\n",
      "Requirement already satisfied: urllib3<3,>=1.21.1 in c:\\users\\gonzalo\\appdata\\local\\programs\\python\\python310\\lib\\site-packages (from requests[socks]->gdown) (1.25.11)\n",
      "Requirement already satisfied: certifi>=2017.4.17 in c:\\users\\gonzalo\\appdata\\local\\programs\\python\\python310\\lib\\site-packages (from requests[socks]->gdown) (2022.12.7)\n",
      "Requirement already satisfied: PySocks!=1.5.7,>=1.5.6 in c:\\users\\gonzalo\\appdata\\local\\programs\\python\\python310\\lib\\site-packages (from requests[socks]->gdown) (1.7.1)\n",
      "Requirement already satisfied: colorama in c:\\users\\gonzalo\\appdata\\local\\programs\\python\\python310\\lib\\site-packages (from tqdm->gdown) (0.4.4)\n",
      "Requirement already satisfied: pycparser in c:\\users\\gonzalo\\appdata\\local\\programs\\python\\python310\\lib\\site-packages (from cffi>=1.0->soundfile>=0.9.0->librosa) (2.21)\n"
     ]
    },
    {
     "name": "stderr",
     "output_type": "stream",
     "text": [
      "WARNING: There was an error checking the latest version of pip.\n"
     ]
    },
    {
     "name": "stdout",
     "output_type": "stream",
     "text": [
      "^C\n"
     ]
    }
   ],
   "source": [
    "import os\n",
    "\n",
    "formats_to_convert = [\".m4a\"]\n",
    "\n",
    "if not os.path.exists(\"VoxCeleb_gender\"):\n",
    "    !pip install gdown pydub librosa\n",
    "    !gdown https://drive.google.com/uc?id=1V3lNnSDv71AJYIj71V4_xD0ir0DrXxEV\n",
    "    !tar -xf VoxCeleb_gender.zip #!tar -xf VoxCeleb_gender.zip\n",
    "    !del VoxCeleb_gender.zip     #!del\n",
    "\n",
    "else:\n",
    "    print(\"Dataset already downloaded.\")"
   ]
  },
  {
   "cell_type": "code",
   "execution_count": 11,
   "metadata": {},
   "outputs": [],
   "source": [
    "import librosa\n",
    "import scipy.signal as ss\n",
    "import numpy as np\n",
    "import pandas as pd\n",
    "import os\n",
    "\n",
    "def extract_mfcc(file_path, n_mfcc=12, win_length=320, hop_length=160):\n",
    "    wave, sr = librosa.load(file_path, mono=True, sr=None)\n",
    "    if sr != 16000:\n",
    "        wave = librosa.resample(wave, sr, 16000)\n",
    "    mfcc = librosa.feature.mfcc(y=wave, sr=16000, n_mfcc=n_mfcc, window=ss.windows.hamming, win_length=win_length, hop_length=hop_length)\n",
    "    return mfcc"
   ]
  },
  {
   "cell_type": "markdown",
   "metadata": {},
   "source": [
    "# Build data in memory"
   ]
  },
  {
   "cell_type": "code",
   "execution_count": 12,
   "metadata": {},
   "outputs": [],
   "source": [
    "mfcc_coeff_amount = 12"
   ]
  },
  {
   "cell_type": "code",
   "execution_count": 13,
   "metadata": {},
   "outputs": [],
   "source": [
    "\n",
    "aux = []\n",
    "\n",
    "for (dirpath, dirnames, filenames) in os.walk(\"VoxCeleb_gender\"):\n",
    "    for filename in filenames:\n",
    "        if filename.endswith(\".wav\"):\n",
    "            filepath = dirpath + \"/\" + filename\n",
    "            aux.append({\"file\": filepath, \"gender\": dirpath.split(\"/\")[-1]})\n",
    "\n",
    "df = pd.DataFrame(aux)\n",
    "            "
   ]
  },
  {
   "cell_type": "code",
   "execution_count": 14,
   "metadata": {},
   "outputs": [
    {
     "data": {
      "text/html": [
       "<div>\n",
       "<style scoped>\n",
       "    .dataframe tbody tr th:only-of-type {\n",
       "        vertical-align: middle;\n",
       "    }\n",
       "\n",
       "    .dataframe tbody tr th {\n",
       "        vertical-align: top;\n",
       "    }\n",
       "\n",
       "    .dataframe thead th {\n",
       "        text-align: right;\n",
       "    }\n",
       "</style>\n",
       "<table border=\"1\" class=\"dataframe\">\n",
       "  <thead>\n",
       "    <tr style=\"text-align: right;\">\n",
       "      <th></th>\n",
       "      <th>file</th>\n",
       "      <th>gender</th>\n",
       "      <th>mfcc</th>\n",
       "    </tr>\n",
       "  </thead>\n",
       "  <tbody>\n",
       "    <tr>\n",
       "      <th>0</th>\n",
       "      <td>VoxCeleb_gender\\females/0.wav</td>\n",
       "      <td>VoxCeleb_gender\\females</td>\n",
       "      <td>NaN</td>\n",
       "    </tr>\n",
       "    <tr>\n",
       "      <th>1</th>\n",
       "      <td>VoxCeleb_gender\\females/1.wav</td>\n",
       "      <td>VoxCeleb_gender\\females</td>\n",
       "      <td>NaN</td>\n",
       "    </tr>\n",
       "    <tr>\n",
       "      <th>2</th>\n",
       "      <td>VoxCeleb_gender\\females/10.wav</td>\n",
       "      <td>VoxCeleb_gender\\females</td>\n",
       "      <td>NaN</td>\n",
       "    </tr>\n",
       "    <tr>\n",
       "      <th>3</th>\n",
       "      <td>VoxCeleb_gender\\females/100.wav</td>\n",
       "      <td>VoxCeleb_gender\\females</td>\n",
       "      <td>NaN</td>\n",
       "    </tr>\n",
       "    <tr>\n",
       "      <th>4</th>\n",
       "      <td>VoxCeleb_gender\\females/1000.wav</td>\n",
       "      <td>VoxCeleb_gender\\females</td>\n",
       "      <td>NaN</td>\n",
       "    </tr>\n",
       "    <tr>\n",
       "      <th>...</th>\n",
       "      <td>...</td>\n",
       "      <td>...</td>\n",
       "      <td>...</td>\n",
       "    </tr>\n",
       "    <tr>\n",
       "      <th>5988</th>\n",
       "      <td>VoxCeleb_gender\\males/995.wav</td>\n",
       "      <td>VoxCeleb_gender\\males</td>\n",
       "      <td>NaN</td>\n",
       "    </tr>\n",
       "    <tr>\n",
       "      <th>5989</th>\n",
       "      <td>VoxCeleb_gender\\males/996.wav</td>\n",
       "      <td>VoxCeleb_gender\\males</td>\n",
       "      <td>NaN</td>\n",
       "    </tr>\n",
       "    <tr>\n",
       "      <th>5990</th>\n",
       "      <td>VoxCeleb_gender\\males/997.wav</td>\n",
       "      <td>VoxCeleb_gender\\males</td>\n",
       "      <td>NaN</td>\n",
       "    </tr>\n",
       "    <tr>\n",
       "      <th>5991</th>\n",
       "      <td>VoxCeleb_gender\\males/998.wav</td>\n",
       "      <td>VoxCeleb_gender\\males</td>\n",
       "      <td>NaN</td>\n",
       "    </tr>\n",
       "    <tr>\n",
       "      <th>5992</th>\n",
       "      <td>VoxCeleb_gender\\males/999.wav</td>\n",
       "      <td>VoxCeleb_gender\\males</td>\n",
       "      <td>NaN</td>\n",
       "    </tr>\n",
       "  </tbody>\n",
       "</table>\n",
       "<p>5993 rows × 3 columns</p>\n",
       "</div>"
      ],
      "text/plain": [
       "                                  file                   gender mfcc\n",
       "0        VoxCeleb_gender\\females/0.wav  VoxCeleb_gender\\females  NaN\n",
       "1        VoxCeleb_gender\\females/1.wav  VoxCeleb_gender\\females  NaN\n",
       "2       VoxCeleb_gender\\females/10.wav  VoxCeleb_gender\\females  NaN\n",
       "3      VoxCeleb_gender\\females/100.wav  VoxCeleb_gender\\females  NaN\n",
       "4     VoxCeleb_gender\\females/1000.wav  VoxCeleb_gender\\females  NaN\n",
       "...                                ...                      ...  ...\n",
       "5988     VoxCeleb_gender\\males/995.wav    VoxCeleb_gender\\males  NaN\n",
       "5989     VoxCeleb_gender\\males/996.wav    VoxCeleb_gender\\males  NaN\n",
       "5990     VoxCeleb_gender\\males/997.wav    VoxCeleb_gender\\males  NaN\n",
       "5991     VoxCeleb_gender\\males/998.wav    VoxCeleb_gender\\males  NaN\n",
       "5992     VoxCeleb_gender\\males/999.wav    VoxCeleb_gender\\males  NaN\n",
       "\n",
       "[5993 rows x 3 columns]"
      ]
     },
     "metadata": {},
     "output_type": "display_data"
    }
   ],
   "source": [
    "df[\"mfcc\"] = pd.Series(name=\"mfcc\", dtype=object)\n",
    "display(df)"
   ]
  },
  {
   "cell_type": "code",
   "execution_count": 15,
   "metadata": {},
   "outputs": [],
   "source": [
    "\n",
    "\n",
    "for i in range(len(df)):\n",
    "    mfcc_coeffs = extract_mfcc(df.loc[i, \"file\"], n_mfcc=mfcc_coeff_amount).ravel()\n",
    "    aux_coeffs = np.zeros(len(mfcc_coeffs))\n",
    "    for j in range(len(mfcc_coeffs)//mfcc_coeff_amount):\n",
    "        if np.linalg.norm(mfcc_coeffs[j*mfcc_coeff_amount:(j+1)*mfcc_coeff_amount]) > 0.001:\n",
    "            aux_coeffs[j*mfcc_coeff_amount:(j+1)*mfcc_coeff_amount] = mfcc_coeffs[j*mfcc_coeff_amount:(j+1)*mfcc_coeff_amount]\n",
    "    \n",
    "    df.at[i, \"mfcc\"] = aux_coeffs"
   ]
  },
  {
   "cell_type": "code",
   "execution_count": 16,
   "metadata": {},
   "outputs": [
    {
     "data": {
      "text/html": [
       "<div>\n",
       "<style scoped>\n",
       "    .dataframe tbody tr th:only-of-type {\n",
       "        vertical-align: middle;\n",
       "    }\n",
       "\n",
       "    .dataframe tbody tr th {\n",
       "        vertical-align: top;\n",
       "    }\n",
       "\n",
       "    .dataframe thead th {\n",
       "        text-align: right;\n",
       "    }\n",
       "</style>\n",
       "<table border=\"1\" class=\"dataframe\">\n",
       "  <thead>\n",
       "    <tr style=\"text-align: right;\">\n",
       "      <th></th>\n",
       "      <th>file</th>\n",
       "      <th>gender</th>\n",
       "      <th>mfcc</th>\n",
       "    </tr>\n",
       "  </thead>\n",
       "  <tbody>\n",
       "    <tr>\n",
       "      <th>0</th>\n",
       "      <td>VoxCeleb_gender\\females/0.wav</td>\n",
       "      <td>VoxCeleb_gender\\females</td>\n",
       "      <td>[-297.642333984375, -311.516357421875, -333.22...</td>\n",
       "    </tr>\n",
       "    <tr>\n",
       "      <th>1</th>\n",
       "      <td>VoxCeleb_gender\\females/1.wav</td>\n",
       "      <td>VoxCeleb_gender\\females</td>\n",
       "      <td>[-237.64122009277344, -249.89483642578125, -26...</td>\n",
       "    </tr>\n",
       "    <tr>\n",
       "      <th>2</th>\n",
       "      <td>VoxCeleb_gender\\females/10.wav</td>\n",
       "      <td>VoxCeleb_gender\\females</td>\n",
       "      <td>[-442.0604553222656, -442.9739990234375, -473....</td>\n",
       "    </tr>\n",
       "    <tr>\n",
       "      <th>3</th>\n",
       "      <td>VoxCeleb_gender\\females/100.wav</td>\n",
       "      <td>VoxCeleb_gender\\females</td>\n",
       "      <td>[-217.43252563476562, -215.3289031982422, -202...</td>\n",
       "    </tr>\n",
       "    <tr>\n",
       "      <th>4</th>\n",
       "      <td>VoxCeleb_gender\\females/1000.wav</td>\n",
       "      <td>VoxCeleb_gender\\females</td>\n",
       "      <td>[-310.47503662109375, -292.7668762207031, -310...</td>\n",
       "    </tr>\n",
       "    <tr>\n",
       "      <th>...</th>\n",
       "      <td>...</td>\n",
       "      <td>...</td>\n",
       "      <td>...</td>\n",
       "    </tr>\n",
       "    <tr>\n",
       "      <th>5988</th>\n",
       "      <td>VoxCeleb_gender\\males/995.wav</td>\n",
       "      <td>VoxCeleb_gender\\males</td>\n",
       "      <td>[-486.3794860839844, -482.3790588378906, -486....</td>\n",
       "    </tr>\n",
       "    <tr>\n",
       "      <th>5989</th>\n",
       "      <td>VoxCeleb_gender\\males/996.wav</td>\n",
       "      <td>VoxCeleb_gender\\males</td>\n",
       "      <td>[-296.01495361328125, -315.9795227050781, -288...</td>\n",
       "    </tr>\n",
       "    <tr>\n",
       "      <th>5990</th>\n",
       "      <td>VoxCeleb_gender\\males/997.wav</td>\n",
       "      <td>VoxCeleb_gender\\males</td>\n",
       "      <td>[-539.71240234375, -535.8696899414062, -522.54...</td>\n",
       "    </tr>\n",
       "    <tr>\n",
       "      <th>5991</th>\n",
       "      <td>VoxCeleb_gender\\males/998.wav</td>\n",
       "      <td>VoxCeleb_gender\\males</td>\n",
       "      <td>[-674.9623413085938, -657.7991333007812, -662....</td>\n",
       "    </tr>\n",
       "    <tr>\n",
       "      <th>5992</th>\n",
       "      <td>VoxCeleb_gender\\males/999.wav</td>\n",
       "      <td>VoxCeleb_gender\\males</td>\n",
       "      <td>[-533.6348266601562, -538.9020385742188, -460....</td>\n",
       "    </tr>\n",
       "  </tbody>\n",
       "</table>\n",
       "<p>5993 rows × 3 columns</p>\n",
       "</div>"
      ],
      "text/plain": [
       "                                  file                   gender  \\\n",
       "0        VoxCeleb_gender\\females/0.wav  VoxCeleb_gender\\females   \n",
       "1        VoxCeleb_gender\\females/1.wav  VoxCeleb_gender\\females   \n",
       "2       VoxCeleb_gender\\females/10.wav  VoxCeleb_gender\\females   \n",
       "3      VoxCeleb_gender\\females/100.wav  VoxCeleb_gender\\females   \n",
       "4     VoxCeleb_gender\\females/1000.wav  VoxCeleb_gender\\females   \n",
       "...                                ...                      ...   \n",
       "5988     VoxCeleb_gender\\males/995.wav    VoxCeleb_gender\\males   \n",
       "5989     VoxCeleb_gender\\males/996.wav    VoxCeleb_gender\\males   \n",
       "5990     VoxCeleb_gender\\males/997.wav    VoxCeleb_gender\\males   \n",
       "5991     VoxCeleb_gender\\males/998.wav    VoxCeleb_gender\\males   \n",
       "5992     VoxCeleb_gender\\males/999.wav    VoxCeleb_gender\\males   \n",
       "\n",
       "                                                   mfcc  \n",
       "0     [-297.642333984375, -311.516357421875, -333.22...  \n",
       "1     [-237.64122009277344, -249.89483642578125, -26...  \n",
       "2     [-442.0604553222656, -442.9739990234375, -473....  \n",
       "3     [-217.43252563476562, -215.3289031982422, -202...  \n",
       "4     [-310.47503662109375, -292.7668762207031, -310...  \n",
       "...                                                 ...  \n",
       "5988  [-486.3794860839844, -482.3790588378906, -486....  \n",
       "5989  [-296.01495361328125, -315.9795227050781, -288...  \n",
       "5990  [-539.71240234375, -535.8696899414062, -522.54...  \n",
       "5991  [-674.9623413085938, -657.7991333007812, -662....  \n",
       "5992  [-533.6348266601562, -538.9020385742188, -460....  \n",
       "\n",
       "[5993 rows x 3 columns]"
      ]
     },
     "metadata": {},
     "output_type": "display_data"
    }
   ],
   "source": [
    "display(df)"
   ]
  },
  {
   "cell_type": "markdown",
   "metadata": {},
   "source": [
    "# EDA"
   ]
  },
  {
   "cell_type": "code",
   "execution_count": null,
   "metadata": {},
   "outputs": [],
   "source": []
  },
  {
   "cell_type": "markdown",
   "metadata": {},
   "source": [
    "# Model Training"
   ]
  },
  {
   "cell_type": "code",
   "execution_count": 33,
   "metadata": {},
   "outputs": [],
   "source": [
    "X = df.drop(columns=[\"file\", \"gender\"])\n",
    "y = df[\"gender\"]"
   ]
  },
  {
   "cell_type": "code",
   "execution_count": 45,
   "metadata": {},
   "outputs": [
    {
     "name": "stdout",
     "output_type": "stream",
     "text": [
      "13524\n",
      "5532\n",
      "4920\n",
      "8148\n",
      "5532\n",
      "22044\n",
      "7992\n",
      "13908\n",
      "18204\n",
      "13368\n"
     ]
    }
   ],
   "source": [
    "X = []"
   ]
  },
  {
   "cell_type": "code",
   "execution_count": 61,
   "metadata": {},
   "outputs": [
    {
     "data": {
      "text/html": [
       "<style>#sk-container-id-3 {color: black;background-color: white;}#sk-container-id-3 pre{padding: 0;}#sk-container-id-3 div.sk-toggleable {background-color: white;}#sk-container-id-3 label.sk-toggleable__label {cursor: pointer;display: block;width: 100%;margin-bottom: 0;padding: 0.3em;box-sizing: border-box;text-align: center;}#sk-container-id-3 label.sk-toggleable__label-arrow:before {content: \"▸\";float: left;margin-right: 0.25em;color: #696969;}#sk-container-id-3 label.sk-toggleable__label-arrow:hover:before {color: black;}#sk-container-id-3 div.sk-estimator:hover label.sk-toggleable__label-arrow:before {color: black;}#sk-container-id-3 div.sk-toggleable__content {max-height: 0;max-width: 0;overflow: hidden;text-align: left;background-color: #f0f8ff;}#sk-container-id-3 div.sk-toggleable__content pre {margin: 0.2em;color: black;border-radius: 0.25em;background-color: #f0f8ff;}#sk-container-id-3 input.sk-toggleable__control:checked~div.sk-toggleable__content {max-height: 200px;max-width: 100%;overflow: auto;}#sk-container-id-3 input.sk-toggleable__control:checked~label.sk-toggleable__label-arrow:before {content: \"▾\";}#sk-container-id-3 div.sk-estimator input.sk-toggleable__control:checked~label.sk-toggleable__label {background-color: #d4ebff;}#sk-container-id-3 div.sk-label input.sk-toggleable__control:checked~label.sk-toggleable__label {background-color: #d4ebff;}#sk-container-id-3 input.sk-hidden--visually {border: 0;clip: rect(1px 1px 1px 1px);clip: rect(1px, 1px, 1px, 1px);height: 1px;margin: -1px;overflow: hidden;padding: 0;position: absolute;width: 1px;}#sk-container-id-3 div.sk-estimator {font-family: monospace;background-color: #f0f8ff;border: 1px dotted black;border-radius: 0.25em;box-sizing: border-box;margin-bottom: 0.5em;}#sk-container-id-3 div.sk-estimator:hover {background-color: #d4ebff;}#sk-container-id-3 div.sk-parallel-item::after {content: \"\";width: 100%;border-bottom: 1px solid gray;flex-grow: 1;}#sk-container-id-3 div.sk-label:hover label.sk-toggleable__label {background-color: #d4ebff;}#sk-container-id-3 div.sk-serial::before {content: \"\";position: absolute;border-left: 1px solid gray;box-sizing: border-box;top: 0;bottom: 0;left: 50%;z-index: 0;}#sk-container-id-3 div.sk-serial {display: flex;flex-direction: column;align-items: center;background-color: white;padding-right: 0.2em;padding-left: 0.2em;position: relative;}#sk-container-id-3 div.sk-item {position: relative;z-index: 1;}#sk-container-id-3 div.sk-parallel {display: flex;align-items: stretch;justify-content: center;background-color: white;position: relative;}#sk-container-id-3 div.sk-item::before, #sk-container-id-3 div.sk-parallel-item::before {content: \"\";position: absolute;border-left: 1px solid gray;box-sizing: border-box;top: 0;bottom: 0;left: 50%;z-index: -1;}#sk-container-id-3 div.sk-parallel-item {display: flex;flex-direction: column;z-index: 1;position: relative;background-color: white;}#sk-container-id-3 div.sk-parallel-item:first-child::after {align-self: flex-end;width: 50%;}#sk-container-id-3 div.sk-parallel-item:last-child::after {align-self: flex-start;width: 50%;}#sk-container-id-3 div.sk-parallel-item:only-child::after {width: 0;}#sk-container-id-3 div.sk-dashed-wrapped {border: 1px dashed gray;margin: 0 0.4em 0.5em 0.4em;box-sizing: border-box;padding-bottom: 0.4em;background-color: white;}#sk-container-id-3 div.sk-label label {font-family: monospace;font-weight: bold;display: inline-block;line-height: 1.2em;}#sk-container-id-3 div.sk-label-container {text-align: center;}#sk-container-id-3 div.sk-container {/* jupyter's `normalize.less` sets `[hidden] { display: none; }` but bootstrap.min.css set `[hidden] { display: none !important; }` so we also need the `!important` here to be able to override the default hidden behavior on the sphinx rendered scikit-learn.org. See: https://github.com/scikit-learn/scikit-learn/issues/21755 */display: inline-block !important;position: relative;}#sk-container-id-3 div.sk-text-repr-fallback {display: none;}</style><div id=\"sk-container-id-3\" class=\"sk-top-container\"><div class=\"sk-text-repr-fallback\"><pre>GridSearchCV(estimator=GaussianMixture(),\n",
       "             param_grid={&#x27;covariance_type&#x27;: [&#x27;spherical&#x27;, &#x27;tied&#x27;, &#x27;diag&#x27;,\n",
       "                                             &#x27;full&#x27;],\n",
       "                         &#x27;n_components&#x27;: range(1, 7)},\n",
       "             scoring=&lt;function gmm_bic_score at 0x000002150D28AD40&gt;)</pre><b>In a Jupyter environment, please rerun this cell to show the HTML representation or trust the notebook. <br />On GitHub, the HTML representation is unable to render, please try loading this page with nbviewer.org.</b></div><div class=\"sk-container\" hidden><div class=\"sk-item sk-dashed-wrapped\"><div class=\"sk-label-container\"><div class=\"sk-label sk-toggleable\"><input class=\"sk-toggleable__control sk-hidden--visually\" id=\"sk-estimator-id-7\" type=\"checkbox\" ><label for=\"sk-estimator-id-7\" class=\"sk-toggleable__label sk-toggleable__label-arrow\">GridSearchCV</label><div class=\"sk-toggleable__content\"><pre>GridSearchCV(estimator=GaussianMixture(),\n",
       "             param_grid={&#x27;covariance_type&#x27;: [&#x27;spherical&#x27;, &#x27;tied&#x27;, &#x27;diag&#x27;,\n",
       "                                             &#x27;full&#x27;],\n",
       "                         &#x27;n_components&#x27;: range(1, 7)},\n",
       "             scoring=&lt;function gmm_bic_score at 0x000002150D28AD40&gt;)</pre></div></div></div><div class=\"sk-parallel\"><div class=\"sk-parallel-item\"><div class=\"sk-item\"><div class=\"sk-label-container\"><div class=\"sk-label sk-toggleable\"><input class=\"sk-toggleable__control sk-hidden--visually\" id=\"sk-estimator-id-8\" type=\"checkbox\" ><label for=\"sk-estimator-id-8\" class=\"sk-toggleable__label sk-toggleable__label-arrow\">estimator: GaussianMixture</label><div class=\"sk-toggleable__content\"><pre>GaussianMixture()</pre></div></div></div><div class=\"sk-serial\"><div class=\"sk-item\"><div class=\"sk-estimator sk-toggleable\"><input class=\"sk-toggleable__control sk-hidden--visually\" id=\"sk-estimator-id-9\" type=\"checkbox\" ><label for=\"sk-estimator-id-9\" class=\"sk-toggleable__label sk-toggleable__label-arrow\">GaussianMixture</label><div class=\"sk-toggleable__content\"><pre>GaussianMixture()</pre></div></div></div></div></div></div></div></div></div></div>"
      ],
      "text/plain": [
       "GridSearchCV(estimator=GaussianMixture(),\n",
       "             param_grid={'covariance_type': ['spherical', 'tied', 'diag',\n",
       "                                             'full'],\n",
       "                         'n_components': range(1, 7)},\n",
       "             scoring=<function gmm_bic_score at 0x000002150D28AD40>)"
      ]
     },
     "execution_count": 61,
     "metadata": {},
     "output_type": "execute_result"
    }
   ],
   "source": [
    "from sklearn.mixture import GaussianMixture\n",
    "from sklearn.model_selection import GridSearchCV\n",
    "\n",
    "\n",
    "def gmm_bic_score(estimator, X):\n",
    "    # Make it negative since GridSearchCV expects a score to maximize\n",
    "    return -estimator.bic(X)\n",
    "\n",
    "\n",
    "param_grid = {\n",
    "    \"n_components\": range(1, 7),\n",
    "    \"covariance_type\": [\"spherical\", \"tied\", \"diag\", \"full\"],\n",
    "}\n",
    "\n",
    "grid_search = GridSearchCV(GaussianMixture(), param_grid=param_grid, scoring=gmm_bic_score)\n",
    "grid_search.fit(X)"
   ]
  },
  {
   "cell_type": "code",
   "execution_count": 57,
   "metadata": {},
   "outputs": [],
   "source": [
    "import numpy as np\n",
    "\n",
    "n_samples = 500\n",
    "np.random.seed(0)\n",
    "C = np.array([[0.0, -0.1], [1.7, 0.4]])\n",
    "component_1 = np.dot(np.random.randn(n_samples, 2), C)  # general\n",
    "component_2 = 0.7 * np.random.randn(n_samples, 2) + np.array([-4, 1])  # spherical\n",
    "\n",
    "X = np.concatenate([component_1, component_2])"
   ]
  },
  {
   "cell_type": "code",
   "execution_count": 58,
   "metadata": {},
   "outputs": [
    {
     "data": {
      "image/png": "[encoded data removed]",
      "text/plain": [
       "<Figure size 640x480 with 1 Axes>"
      ]
     },
     "metadata": {},
     "output_type": "display_data"
    }
   ],
   "source": [
    "import matplotlib.pyplot as plt\n",
    "\n",
    "plt.scatter(component_1[:, 0], component_1[:, 1], s=1.1)\n",
    "plt.scatter(component_2[:, 0], component_2[:, 1], s=0.8)\n",
    "plt.title(\"Gaussian Mixture components\")\n",
    "plt.axis(\"equal\")\n",
    "plt.show()"
   ]
  },
  {
   "cell_type": "code",
   "execution_count": 59,
   "metadata": {},
   "outputs": [
    {
     "data": {
      "text/html": [
       "<style>#sk-container-id-2 {color: black;background-color: white;}#sk-container-id-2 pre{padding: 0;}#sk-container-id-2 div.sk-toggleable {background-color: white;}#sk-container-id-2 label.sk-toggleable__label {cursor: pointer;display: block;width: 100%;margin-bottom: 0;padding: 0.3em;box-sizing: border-box;text-align: center;}#sk-container-id-2 label.sk-toggleable__label-arrow:before {content: \"▸\";float: left;margin-right: 0.25em;color: #696969;}#sk-container-id-2 label.sk-toggleable__label-arrow:hover:before {color: black;}#sk-container-id-2 div.sk-estimator:hover label.sk-toggleable__label-arrow:before {color: black;}#sk-container-id-2 div.sk-toggleable__content {max-height: 0;max-width: 0;overflow: hidden;text-align: left;background-color: #f0f8ff;}#sk-container-id-2 div.sk-toggleable__content pre {margin: 0.2em;color: black;border-radius: 0.25em;background-color: #f0f8ff;}#sk-container-id-2 input.sk-toggleable__control:checked~div.sk-toggleable__content {max-height: 200px;max-width: 100%;overflow: auto;}#sk-container-id-2 input.sk-toggleable__control:checked~label.sk-toggleable__label-arrow:before {content: \"▾\";}#sk-container-id-2 div.sk-estimator input.sk-toggleable__control:checked~label.sk-toggleable__label {background-color: #d4ebff;}#sk-container-id-2 div.sk-label input.sk-toggleable__control:checked~label.sk-toggleable__label {background-color: #d4ebff;}#sk-container-id-2 input.sk-hidden--visually {border: 0;clip: rect(1px 1px 1px 1px);clip: rect(1px, 1px, 1px, 1px);height: 1px;margin: -1px;overflow: hidden;padding: 0;position: absolute;width: 1px;}#sk-container-id-2 div.sk-estimator {font-family: monospace;background-color: #f0f8ff;border: 1px dotted black;border-radius: 0.25em;box-sizing: border-box;margin-bottom: 0.5em;}#sk-container-id-2 div.sk-estimator:hover {background-color: #d4ebff;}#sk-container-id-2 div.sk-parallel-item::after {content: \"\";width: 100%;border-bottom: 1px solid gray;flex-grow: 1;}#sk-container-id-2 div.sk-label:hover label.sk-toggleable__label {background-color: #d4ebff;}#sk-container-id-2 div.sk-serial::before {content: \"\";position: absolute;border-left: 1px solid gray;box-sizing: border-box;top: 0;bottom: 0;left: 50%;z-index: 0;}#sk-container-id-2 div.sk-serial {display: flex;flex-direction: column;align-items: center;background-color: white;padding-right: 0.2em;padding-left: 0.2em;position: relative;}#sk-container-id-2 div.sk-item {position: relative;z-index: 1;}#sk-container-id-2 div.sk-parallel {display: flex;align-items: stretch;justify-content: center;background-color: white;position: relative;}#sk-container-id-2 div.sk-item::before, #sk-container-id-2 div.sk-parallel-item::before {content: \"\";position: absolute;border-left: 1px solid gray;box-sizing: border-box;top: 0;bottom: 0;left: 50%;z-index: -1;}#sk-container-id-2 div.sk-parallel-item {display: flex;flex-direction: column;z-index: 1;position: relative;background-color: white;}#sk-container-id-2 div.sk-parallel-item:first-child::after {align-self: flex-end;width: 50%;}#sk-container-id-2 div.sk-parallel-item:last-child::after {align-self: flex-start;width: 50%;}#sk-container-id-2 div.sk-parallel-item:only-child::after {width: 0;}#sk-container-id-2 div.sk-dashed-wrapped {border: 1px dashed gray;margin: 0 0.4em 0.5em 0.4em;box-sizing: border-box;padding-bottom: 0.4em;background-color: white;}#sk-container-id-2 div.sk-label label {font-family: monospace;font-weight: bold;display: inline-block;line-height: 1.2em;}#sk-container-id-2 div.sk-label-container {text-align: center;}#sk-container-id-2 div.sk-container {/* jupyter's `normalize.less` sets `[hidden] { display: none; }` but bootstrap.min.css set `[hidden] { display: none !important; }` so we also need the `!important` here to be able to override the default hidden behavior on the sphinx rendered scikit-learn.org. See: https://github.com/scikit-learn/scikit-learn/issues/21755 */display: inline-block !important;position: relative;}#sk-container-id-2 div.sk-text-repr-fallback {display: none;}</style><div id=\"sk-container-id-2\" class=\"sk-top-container\"><div class=\"sk-text-repr-fallback\"><pre>GridSearchCV(estimator=GaussianMixture(),\n",
       "             param_grid={&#x27;covariance_type&#x27;: [&#x27;spherical&#x27;, &#x27;tied&#x27;, &#x27;diag&#x27;,\n",
       "                                             &#x27;full&#x27;],\n",
       "                         &#x27;n_components&#x27;: range(1, 7)},\n",
       "             scoring=&lt;function gmm_bic_score at 0x000002150D106950&gt;)</pre><b>In a Jupyter environment, please rerun this cell to show the HTML representation or trust the notebook. <br />On GitHub, the HTML representation is unable to render, please try loading this page with nbviewer.org.</b></div><div class=\"sk-container\" hidden><div class=\"sk-item sk-dashed-wrapped\"><div class=\"sk-label-container\"><div class=\"sk-label sk-toggleable\"><input class=\"sk-toggleable__control sk-hidden--visually\" id=\"sk-estimator-id-4\" type=\"checkbox\" ><label for=\"sk-estimator-id-4\" class=\"sk-toggleable__label sk-toggleable__label-arrow\">GridSearchCV</label><div class=\"sk-toggleable__content\"><pre>GridSearchCV(estimator=GaussianMixture(),\n",
       "             param_grid={&#x27;covariance_type&#x27;: [&#x27;spherical&#x27;, &#x27;tied&#x27;, &#x27;diag&#x27;,\n",
       "                                             &#x27;full&#x27;],\n",
       "                         &#x27;n_components&#x27;: range(1, 7)},\n",
       "             scoring=&lt;function gmm_bic_score at 0x000002150D106950&gt;)</pre></div></div></div><div class=\"sk-parallel\"><div class=\"sk-parallel-item\"><div class=\"sk-item\"><div class=\"sk-label-container\"><div class=\"sk-label sk-toggleable\"><input class=\"sk-toggleable__control sk-hidden--visually\" id=\"sk-estimator-id-5\" type=\"checkbox\" ><label for=\"sk-estimator-id-5\" class=\"sk-toggleable__label sk-toggleable__label-arrow\">estimator: GaussianMixture</label><div class=\"sk-toggleable__content\"><pre>GaussianMixture()</pre></div></div></div><div class=\"sk-serial\"><div class=\"sk-item\"><div class=\"sk-estimator sk-toggleable\"><input class=\"sk-toggleable__control sk-hidden--visually\" id=\"sk-estimator-id-6\" type=\"checkbox\" ><label for=\"sk-estimator-id-6\" class=\"sk-toggleable__label sk-toggleable__label-arrow\">GaussianMixture</label><div class=\"sk-toggleable__content\"><pre>GaussianMixture()</pre></div></div></div></div></div></div></div></div></div></div>"
      ],
      "text/plain": [
       "GridSearchCV(estimator=GaussianMixture(),\n",
       "             param_grid={'covariance_type': ['spherical', 'tied', 'diag',\n",
       "                                             'full'],\n",
       "                         'n_components': range(1, 7)},\n",
       "             scoring=<function gmm_bic_score at 0x000002150D106950>)"
      ]
     },
     "execution_count": 59,
     "metadata": {},
     "output_type": "execute_result"
    }
   ],
   "source": [
    "from sklearn.mixture import GaussianMixture\n",
    "from sklearn.model_selection import GridSearchCV\n",
    "\n",
    "\n",
    "def gmm_bic_score(estimator, X):\n",
    "    \"\"\"Callable to pass to GridSearchCV that will use the BIC score.\"\"\"\n",
    "    # Make it negative since GridSearchCV expects a score to maximize\n",
    "    return -estimator.bic(X)\n",
    "\n",
    "\n",
    "param_grid = {\n",
    "    \"n_components\": range(1, 7),\n",
    "    \"covariance_type\": [\"spherical\", \"tied\", \"diag\", \"full\"],\n",
    "}\n",
    "grid_search = GridSearchCV(\n",
    "    GaussianMixture(), param_grid=param_grid, scoring=gmm_bic_score\n",
    ")\n",
    "grid_search.fit(X)"
   ]
  },
  {
   "cell_type": "code",
   "execution_count": 60,
   "metadata": {},
   "outputs": [
    {
     "data": {
      "text/html": [
       "<div>\n",
       "<style scoped>\n",
       "    .dataframe tbody tr th:only-of-type {\n",
       "        vertical-align: middle;\n",
       "    }\n",
       "\n",
       "    .dataframe tbody tr th {\n",
       "        vertical-align: top;\n",
       "    }\n",
       "\n",
       "    .dataframe thead th {\n",
       "        text-align: right;\n",
       "    }\n",
       "</style>\n",
       "<table border=\"1\" class=\"dataframe\">\n",
       "  <thead>\n",
       "    <tr style=\"text-align: right;\">\n",
       "      <th></th>\n",
       "      <th>Number of components</th>\n",
       "      <th>Type of covariance</th>\n",
       "      <th>BIC score</th>\n",
       "    </tr>\n",
       "  </thead>\n",
       "  <tbody>\n",
       "    <tr>\n",
       "      <th>19</th>\n",
       "      <td>2</td>\n",
       "      <td>full</td>\n",
       "      <td>1046.793662</td>\n",
       "    </tr>\n",
       "    <tr>\n",
       "      <th>20</th>\n",
       "      <td>3</td>\n",
       "      <td>full</td>\n",
       "      <td>1083.652535</td>\n",
       "    </tr>\n",
       "    <tr>\n",
       "      <th>21</th>\n",
       "      <td>4</td>\n",
       "      <td>full</td>\n",
       "      <td>1114.835102</td>\n",
       "    </tr>\n",
       "    <tr>\n",
       "      <th>22</th>\n",
       "      <td>5</td>\n",
       "      <td>full</td>\n",
       "      <td>1151.243322</td>\n",
       "    </tr>\n",
       "    <tr>\n",
       "      <th>23</th>\n",
       "      <td>6</td>\n",
       "      <td>full</td>\n",
       "      <td>1181.713463</td>\n",
       "    </tr>\n",
       "  </tbody>\n",
       "</table>\n",
       "</div>"
      ],
      "text/plain": [
       "   Number of components Type of covariance    BIC score\n",
       "19                    2               full  1046.793662\n",
       "20                    3               full  1083.652535\n",
       "21                    4               full  1114.835102\n",
       "22                    5               full  1151.243322\n",
       "23                    6               full  1181.713463"
      ]
     },
     "execution_count": 60,
     "metadata": {},
     "output_type": "execute_result"
    }
   ],
   "source": [
    "import pandas as pd\n",
    "\n",
    "df = pd.DataFrame(grid_search.cv_results_)[\n",
    "    [\"param_n_components\", \"param_covariance_type\", \"mean_test_score\"]\n",
    "]\n",
    "df[\"mean_test_score\"] = -df[\"mean_test_score\"]\n",
    "df = df.rename(\n",
    "    columns={\n",
    "        \"param_n_components\": \"Number of components\",\n",
    "        \"param_covariance_type\": \"Type of covariance\",\n",
    "        \"mean_test_score\": \"BIC score\",\n",
    "    }\n",
    ")\n",
    "df.sort_values(by=\"BIC score\").head()"
   ]
  }
 ],
 "metadata": {
  "kernelspec": {
   "display_name": "base",
   "language": "python",
   "name": "python3"
  },
  "language_info": {
   "codemirror_mode": {
    "name": "ipython",
    "version": 3
   },
   "file_extension": ".py",
   "mimetype": "text/x-python",
   "name": "python",
   "nbconvert_exporter": "python",
   "pygments_lexer": "ipython3",
   "version": "3.10.9"
  }
 },
 "nbformat": 4,
 "nbformat_minor": 2
}
