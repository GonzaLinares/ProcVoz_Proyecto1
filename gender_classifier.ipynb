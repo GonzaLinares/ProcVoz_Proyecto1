{
 "cells": [
  {
   "cell_type": "code",
   "execution_count": 3,
   "metadata": {},
   "outputs": [
    {
     "name": "stdout",
     "output_type": "stream",
     "text": [
      "Dataset already downloaded.\n"
     ]
    }
   ],
   "source": [
    "import os\n",
    "\n",
    "formats_to_convert = [\".m4a\"]\n",
    "\n",
    "if not os.path.exists(\"VoxCeleb_gender\"):\n",
    "    !pip install gdown pydub librosa\n",
    "    !gdown https://drive.google.com/uc?id=1HRbWocxwClGy9Fj1MQeugpR4vOaL9ebO\n",
    "    !unzip -q VoxCeleb_gender.zip\n",
    "    !rm VoxCeleb_gender.zip\n",
    "    !rm -r __MACOSX\n",
    "\n",
    "    from pydub import AudioSegment\n",
    "\n",
    "    for (dirpath, dirnames, filenames) in os.walk(\"VoxCeleb_gender/females/\"):\n",
    "        for filename in filenames:\n",
    "            if filename.endswith(tuple(formats_to_convert)):\n",
    "\n",
    "                filepath = dirpath + \"/\" + filename\n",
    "                (path, file_extension) = os.path.splitext(filepath)\n",
    "                file_extension_final = file_extension.replace(\".\", \"\")\n",
    "                try:\n",
    "                    track = AudioSegment.from_file(filepath, file_extension_final)\n",
    "                    wav_filename = filename.replace(file_extension_final, \"wav\")\n",
    "                    wav_path = dirpath + \"/\" + wav_filename\n",
    "                    print(\"CONVERTING: \" + str(filepath))\n",
    "                    file_handle = track.export(wav_path, format=\"wav\")\n",
    "                    os.remove(filepath)\n",
    "                except:\n",
    "                    print(\"ERROR CONVERTING \" + str(filepath))\n",
    "    for (dirpath, dirnames, filenames) in os.walk(\"VoxCeleb_gender/males/\"):\n",
    "        for filename in filenames:\n",
    "            if filename.endswith(tuple(formats_to_convert)):\n",
    "\n",
    "                filepath = dirpath + \"/\" + filename\n",
    "                (path, file_extension) = os.path.splitext(filepath)\n",
    "                file_extension_final = file_extension.replace(\".\", \"\")\n",
    "                try:\n",
    "                    track = AudioSegment.from_file(filepath, file_extension_final)\n",
    "                    wav_filename = filename.replace(file_extension_final, \"wav\")\n",
    "                    wav_path = dirpath + \"/\" + wav_filename\n",
    "                    print(\"CONVERTING: \" + str(filepath))\n",
    "                    file_handle = track.export(wav_path, format=\"wav\")\n",
    "                    os.remove(filepath)\n",
    "                except:\n",
    "                    print(\"ERROR CONVERTING \" + str(filepath))\n",
    "else:\n",
    "    print(\"Dataset already downloaded.\")"
   ]
  },
  {
   "cell_type": "code",
   "execution_count": 33,
   "metadata": {},
   "outputs": [],
   "source": [
    "import librosa\n",
    "import scipy.signal as ss\n",
    "\n",
    "def extract_mfcc(file_path, n_mfcc=12, win_length=320, hop_length=160):\n",
    "    wave, sr = librosa.load(file_path, mono=True, sr=None)\n",
    "    if sr != 16000:\n",
    "        wave = librosa.resample(wave, sr, 16000)\n",
    "    mfcc = librosa.feature.mfcc(y=wave, sr=16000, n_mfcc=n_mfcc, window=ss.windows.hamming, win_length=win_length, hop_length=hop_length)\n",
    "    return mfcc"
   ]
  },
  {
   "cell_type": "markdown",
   "metadata": {},
   "source": [
    "# Build data in memory"
   ]
  },
  {
   "cell_type": "code",
   "execution_count": 29,
   "metadata": {},
   "outputs": [],
   "source": [
    "import pandas as pd\n",
    "\n",
    "aux = []\n",
    "\n",
    "for (dirpath, dirnames, filenames) in os.walk(\"VoxCeleb_gender\"):\n",
    "    for filename in filenames:\n",
    "        if filename.endswith(\".wav\"):\n",
    "            filepath = dirpath + \"/\" + filename\n",
    "            aux.append({\"file\": filepath, \"gender\": dirpath.split(\"/\")[-1]})\n",
    "\n",
    "df = pd.DataFrame(aux)\n",
    "            "
   ]
  },
  {
   "cell_type": "code",
   "execution_count": 16,
   "metadata": {},
   "outputs": [
    {
     "data": {
      "text/html": [
       "<div>\n",
       "<style scoped>\n",
       "    .dataframe tbody tr th:only-of-type {\n",
       "        vertical-align: middle;\n",
       "    }\n",
       "\n",
       "    .dataframe tbody tr th {\n",
       "        vertical-align: top;\n",
       "    }\n",
       "\n",
       "    .dataframe thead th {\n",
       "        text-align: right;\n",
       "    }\n",
       "</style>\n",
       "<table border=\"1\" class=\"dataframe\">\n",
       "  <thead>\n",
       "    <tr style=\"text-align: right;\">\n",
       "      <th></th>\n",
       "      <th>file</th>\n",
       "      <th>gender</th>\n",
       "    </tr>\n",
       "  </thead>\n",
       "  <tbody>\n",
       "    <tr>\n",
       "      <th>0</th>\n",
       "      <td>VoxCeleb_gender/males/255.wav</td>\n",
       "      <td>males</td>\n",
       "    </tr>\n",
       "    <tr>\n",
       "      <th>1</th>\n",
       "      <td>VoxCeleb_gender/males/1908.wav</td>\n",
       "      <td>males</td>\n",
       "    </tr>\n",
       "    <tr>\n",
       "      <th>2</th>\n",
       "      <td>VoxCeleb_gender/males/2965.wav</td>\n",
       "      <td>males</td>\n",
       "    </tr>\n",
       "    <tr>\n",
       "      <th>3</th>\n",
       "      <td>VoxCeleb_gender/males/2733.wav</td>\n",
       "      <td>males</td>\n",
       "    </tr>\n",
       "    <tr>\n",
       "      <th>4</th>\n",
       "      <td>VoxCeleb_gender/males/3091.wav</td>\n",
       "      <td>males</td>\n",
       "    </tr>\n",
       "    <tr>\n",
       "      <th>...</th>\n",
       "      <td>...</td>\n",
       "      <td>...</td>\n",
       "    </tr>\n",
       "    <tr>\n",
       "      <th>5988</th>\n",
       "      <td>VoxCeleb_gender/females/489.wav</td>\n",
       "      <td>females</td>\n",
       "    </tr>\n",
       "    <tr>\n",
       "      <th>5989</th>\n",
       "      <td>VoxCeleb_gender/females/941.wav</td>\n",
       "      <td>females</td>\n",
       "    </tr>\n",
       "    <tr>\n",
       "      <th>5990</th>\n",
       "      <td>VoxCeleb_gender/females/63.wav</td>\n",
       "      <td>females</td>\n",
       "    </tr>\n",
       "    <tr>\n",
       "      <th>5991</th>\n",
       "      <td>VoxCeleb_gender/females/1820.wav</td>\n",
       "      <td>females</td>\n",
       "    </tr>\n",
       "    <tr>\n",
       "      <th>5992</th>\n",
       "      <td>VoxCeleb_gender/females/467.wav</td>\n",
       "      <td>females</td>\n",
       "    </tr>\n",
       "  </tbody>\n",
       "</table>\n",
       "<p>5993 rows × 2 columns</p>\n",
       "</div>"
      ],
      "text/plain": [
       "                                  file   gender\n",
       "0        VoxCeleb_gender/males/255.wav    males\n",
       "1       VoxCeleb_gender/males/1908.wav    males\n",
       "2       VoxCeleb_gender/males/2965.wav    males\n",
       "3       VoxCeleb_gender/males/2733.wav    males\n",
       "4       VoxCeleb_gender/males/3091.wav    males\n",
       "...                                ...      ...\n",
       "5988   VoxCeleb_gender/females/489.wav  females\n",
       "5989   VoxCeleb_gender/females/941.wav  females\n",
       "5990    VoxCeleb_gender/females/63.wav  females\n",
       "5991  VoxCeleb_gender/females/1820.wav  females\n",
       "5992   VoxCeleb_gender/females/467.wav  females\n",
       "\n",
       "[5993 rows x 2 columns]"
      ]
     },
     "metadata": {},
     "output_type": "display_data"
    }
   ],
   "source": [
    "display(df)"
   ]
  },
  {
   "cell_type": "code",
   "execution_count": 34,
   "metadata": {},
   "outputs": [
    {
     "data": {
      "text/plain": [
       "(12, 423)"
      ]
     },
     "execution_count": 34,
     "metadata": {},
     "output_type": "execute_result"
    }
   ],
   "source": [
    "extract_mfcc(df.loc[i, \"file\"]).shape"
   ]
  },
  {
   "cell_type": "code",
   "execution_count": 36,
   "metadata": {},
   "outputs": [
    {
     "ename": "ValueError",
     "evalue": "setting an array element with a sequence.",
     "output_type": "error",
     "traceback": [
      "\u001b[0;31m---------------------------------------------------------------------------\u001b[0m",
      "\u001b[0;31mTypeError\u001b[0m                                 Traceback (most recent call last)",
      "\u001b[0;31mTypeError\u001b[0m: only size-1 arrays can be converted to Python scalars",
      "\nThe above exception was the direct cause of the following exception:\n",
      "\u001b[0;31mValueError\u001b[0m                                Traceback (most recent call last)",
      "Cell \u001b[0;32mIn[36], line 2\u001b[0m\n\u001b[1;32m      1\u001b[0m \u001b[38;5;28;01mfor\u001b[39;00m i \u001b[38;5;129;01min\u001b[39;00m \u001b[38;5;28mrange\u001b[39m(\u001b[38;5;28mlen\u001b[39m(df)):\n\u001b[0;32m----> 2\u001b[0m     \u001b[43mdf\u001b[49m\u001b[38;5;241;43m.\u001b[39;49m\u001b[43mloc\u001b[49m\u001b[43m[\u001b[49m\u001b[43mi\u001b[49m\u001b[43m,\u001b[49m\u001b[43m \u001b[49m\u001b[38;5;124;43m\"\u001b[39;49m\u001b[38;5;124;43mmfcc\u001b[39;49m\u001b[38;5;124;43m\"\u001b[39;49m\u001b[43m]\u001b[49m \u001b[38;5;241m=\u001b[39m extract_mfcc(df\u001b[38;5;241m.\u001b[39mloc[i, \u001b[38;5;124m\"\u001b[39m\u001b[38;5;124mfile\u001b[39m\u001b[38;5;124m\"\u001b[39m])\u001b[38;5;241m.\u001b[39mravel()\n",
      "File \u001b[0;32m~/.pyenv/versions/3.9.16/lib/python3.9/site-packages/pandas/core/indexing.py:716\u001b[0m, in \u001b[0;36m_LocationIndexer.__setitem__\u001b[0;34m(self, key, value)\u001b[0m\n\u001b[1;32m    713\u001b[0m \u001b[38;5;28mself\u001b[39m\u001b[38;5;241m.\u001b[39m_has_valid_setitem_indexer(key)\n\u001b[1;32m    715\u001b[0m iloc \u001b[38;5;241m=\u001b[39m \u001b[38;5;28mself\u001b[39m \u001b[38;5;28;01mif\u001b[39;00m \u001b[38;5;28mself\u001b[39m\u001b[38;5;241m.\u001b[39mname \u001b[38;5;241m==\u001b[39m \u001b[38;5;124m\"\u001b[39m\u001b[38;5;124miloc\u001b[39m\u001b[38;5;124m\"\u001b[39m \u001b[38;5;28;01melse\u001b[39;00m \u001b[38;5;28mself\u001b[39m\u001b[38;5;241m.\u001b[39mobj\u001b[38;5;241m.\u001b[39miloc\n\u001b[0;32m--> 716\u001b[0m \u001b[43miloc\u001b[49m\u001b[38;5;241;43m.\u001b[39;49m\u001b[43m_setitem_with_indexer\u001b[49m\u001b[43m(\u001b[49m\u001b[43mindexer\u001b[49m\u001b[43m,\u001b[49m\u001b[43m \u001b[49m\u001b[43mvalue\u001b[49m\u001b[43m,\u001b[49m\u001b[43m \u001b[49m\u001b[38;5;28;43mself\u001b[39;49m\u001b[38;5;241;43m.\u001b[39;49m\u001b[43mname\u001b[49m\u001b[43m)\u001b[49m\n",
      "File \u001b[0;32m~/.pyenv/versions/3.9.16/lib/python3.9/site-packages/pandas/core/indexing.py:1638\u001b[0m, in \u001b[0;36m_iLocIndexer._setitem_with_indexer\u001b[0;34m(self, indexer, value, name)\u001b[0m\n\u001b[1;32m   1634\u001b[0m empty_value \u001b[38;5;241m=\u001b[39m algos\u001b[38;5;241m.\u001b[39mtake_nd(arr, taker)\n\u001b[1;32m   1635\u001b[0m \u001b[38;5;28;01mif\u001b[39;00m \u001b[38;5;129;01mnot\u001b[39;00m \u001b[38;5;28misinstance\u001b[39m(value, ABCSeries):\n\u001b[1;32m   1636\u001b[0m     \u001b[38;5;66;03m# if not Series (in which case we need to align),\u001b[39;00m\n\u001b[1;32m   1637\u001b[0m     \u001b[38;5;66;03m#  we can short-circuit\u001b[39;00m\n\u001b[0;32m-> 1638\u001b[0m     \u001b[43mempty_value\u001b[49m\u001b[43m[\u001b[49m\u001b[43mindexer\u001b[49m\u001b[43m[\u001b[49m\u001b[38;5;241;43m0\u001b[39;49m\u001b[43m]\u001b[49m\u001b[43m]\u001b[49m \u001b[38;5;241m=\u001b[39m arr\n\u001b[1;32m   1639\u001b[0m     \u001b[38;5;28mself\u001b[39m\u001b[38;5;241m.\u001b[39mobj[key] \u001b[38;5;241m=\u001b[39m empty_value\n\u001b[1;32m   1640\u001b[0m     \u001b[38;5;28;01mreturn\u001b[39;00m\n",
      "\u001b[0;31mValueError\u001b[0m: setting an array element with a sequence."
     ]
    }
   ],
   "source": [
    "\n",
    "for i in range(len(df)):\n",
    "    df.loc[i, \"mfcc\"] = extract_mfcc(df.loc[i, \"file\"]).ravel()"
   ]
  }
 ],
 "metadata": {
  "kernelspec": {
   "display_name": "base",
   "language": "python",
   "name": "python3"
  },
  "language_info": {
   "codemirror_mode": {
    "name": "ipython",
    "version": 3
   },
   "file_extension": ".py",
   "mimetype": "text/x-python",
   "name": "python",
   "nbconvert_exporter": "python",
   "pygments_lexer": "ipython3",
   "version": "3.9.16"
  }
 },
 "nbformat": 4,
 "nbformat_minor": 2
}
