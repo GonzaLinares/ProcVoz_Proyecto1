{
 "cells": [
  {
   "cell_type": "code",
   "execution_count": 8,
   "metadata": {},
   "outputs": [
    {
     "name": "stdout",
     "output_type": "stream",
     "text": [
      "Requirement already satisfied: gdown in /home/gullino18/anaconda3/lib/python3.10/site-packages (5.2.0)\n",
      "Requirement already satisfied: beautifulsoup4 in /home/gullino18/anaconda3/lib/python3.10/site-packages (from gdown) (4.12.2)\n",
      "Requirement already satisfied: filelock in /home/gullino18/anaconda3/lib/python3.10/site-packages (from gdown) (3.9.0)\n",
      "Requirement already satisfied: requests[socks] in /home/gullino18/anaconda3/lib/python3.10/site-packages (from gdown) (2.31.0)\n",
      "Requirement already satisfied: tqdm in /home/gullino18/anaconda3/lib/python3.10/site-packages (from gdown) (4.65.0)\n",
      "Requirement already satisfied: soupsieve>1.2 in /home/gullino18/anaconda3/lib/python3.10/site-packages (from beautifulsoup4->gdown) (2.4)\n",
      "Requirement already satisfied: charset-normalizer<4,>=2 in /home/gullino18/anaconda3/lib/python3.10/site-packages (from requests[socks]->gdown) (2.0.4)\n",
      "Requirement already satisfied: idna<4,>=2.5 in /home/gullino18/anaconda3/lib/python3.10/site-packages (from requests[socks]->gdown) (3.4)\n",
      "Requirement already satisfied: urllib3<3,>=1.21.1 in /home/gullino18/anaconda3/lib/python3.10/site-packages (from requests[socks]->gdown) (1.26.15)\n",
      "Requirement already satisfied: certifi>=2017.4.17 in /home/gullino18/anaconda3/lib/python3.10/site-packages (from requests[socks]->gdown) (2023.7.22)\n",
      "Requirement already satisfied: PySocks!=1.5.7,>=1.5.6 in /home/gullino18/anaconda3/lib/python3.10/site-packages (from requests[socks]->gdown) (1.7.1)\n",
      "Downloading...\n",
      "From (original): https://drive.google.com/uc?id=1HRbWocxwClGy9Fj1MQeugpR4vOaL9ebO\n",
      "From (redirected): https://drive.google.com/uc?id=1HRbWocxwClGy9Fj1MQeugpR4vOaL9ebO&confirm=t&uuid=cba18073-a9a4-47a2-aba2-b33ee048cb82\n",
      "To: /home/gullino18/Documents/Github/ProcVoz_Proyecto1/VoxCeleb_gender.zip\n",
      "100%|████████████████████████████████████████| 388M/388M [00:37<00:00, 10.4MB/s]\n"
     ]
    }
   ],
   "source": [
    "import os\n",
    "\n",
    "if not os.path.exists(\"VoxCeleb_gender\"):\n",
    "    !pip install gdown\n",
    "    !gdown https://drive.google.com/uc?id=1HRbWocxwClGy9Fj1MQeugpR4vOaL9ebO\n",
    "    !unzip -q VoxCeleb_gender.zip\n",
    "    !rm VoxCeleb_gender.zip\n",
    "    !rm -r _MACOSX\n",
    "else:\n",
    "    print(\"Dataset already downloaded.\")"
   ]
  }
 ],
 "metadata": {
  "kernelspec": {
   "display_name": "base",
   "language": "python",
   "name": "python3"
  },
  "language_info": {
   "codemirror_mode": {
    "name": "ipython",
    "version": 3
   },
   "file_extension": ".py",
   "mimetype": "text/x-python",
   "name": "python",
   "nbconvert_exporter": "python",
   "pygments_lexer": "ipython3",
   "version": "3.10.11"
  }
 },
 "nbformat": 4,
 "nbformat_minor": 2
}
