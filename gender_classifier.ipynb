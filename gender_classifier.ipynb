{
  "cells": [
    {
      "cell_type": "code",
      "execution_count": 1,
      "metadata": {},
      "outputs": [
        {
          "name": "stdout",
          "output_type": "stream",
          "text": [
            "Dataset already downloaded.\n"
          ]
        }
      ],
      "source": [
        "import os\n",
        "\n",
        "if not os.path.exists(\"VoxCeleb_gender\"):\n",
        "    !pip install gdown pydub librosa\n",
        "    !gdown https://drive.google.com/uc?id=1V3lNnSDv71AJYIj71V4_xD0ir0DrXxEV\n",
        "    !tar -xf VoxCeleb_gender.zip #!tar -xf VoxCeleb_gender.zip\n",
        "    !del VoxCeleb_gender.zip     #!del\n",
        "\n",
        "else:\n",
        "    print(\"Dataset already downloaded.\")"
      ]
    },
    {
      "cell_type": "code",
      "execution_count": 9,
      "metadata": {},
      "outputs": [],
      "source": [
        "import librosa\n",
        "import scipy.signal as ss\n",
        "import numpy as np\n",
        "import pandas as pd\n",
        "import matplotlib.pyplot as plt\n",
        "import os\n",
        "\n",
        "def extract_mfcc(file_path, n_mfcc=12, win_length=320, hop_length=160):\n",
        "    wave, sr = librosa.load(file_path, mono=True, sr=None)\n",
        "    if sr != 16000:\n",
        "        wave = librosa.resample(wave, sr, 16000)\n",
        "    mfcc = librosa.feature.mfcc(y=wave, sr=16000, n_mfcc=n_mfcc, window=ss.windows.hamming, win_length=win_length, hop_length=hop_length)\n",
        "    return mfcc"
      ]
    },
    {
      "cell_type": "markdown",
      "metadata": {},
      "source": [
        "# Build data in memory"
      ]
    },
    {
      "cell_type": "code",
      "execution_count": 198,
      "metadata": {},
      "outputs": [],
      "source": [
        "mfcc_coeff_amount = 12\n",
        "window_length = int(16000*0.02)"
      ]
    },
    {
      "cell_type": "code",
      "execution_count": 217,
      "metadata": {},
      "outputs": [
        {
          "name": "stdout",
          "output_type": "stream",
          "text": [
            "File Found\n"
          ]
        }
      ],
      "source": [
        "arr = []\n",
        "if not os.path.exists(f\"mfcc_{mfcc_coeff_amount}_{window_length}.pkl\"):\n",
        "\n",
        "    aux = []\n",
        "\n",
        "    for (dirpath, dirnames, filenames) in os.walk(\"VoxCeleb_gender\"):\n",
        "        for filename in filenames:\n",
        "            if filename.endswith(\".wav\"):\n",
        "                filepath = dirpath + \"/\" + filename\n",
        "                aux.append({\"file\": filepath, \"gender\": dirpath.split(\"\\\\\")[-1]})\n",
        "\n",
        "    df = pd.DataFrame(aux)\n",
        "\n",
        "    df[\"mfcc\"] = pd.Series(name=\"mfcc\", dtype=object)\n",
        "\n",
        "    for i in range(len(df)):\n",
        "        mfcc_coeffs = extract_mfcc(df.loc[i, \"file\"], n_mfcc=mfcc_coeff_amount, win_length=window_length)\n",
        "        for i, coeffs in enumerate(mfcc_coeffs):\n",
        "            if np.linalg.norm(coeffs) < 1:\n",
        "                mfcc_coeffs.pop(i)\n",
        "        arr.append(mfcc_coeffs)\n",
        "    df[\"mfcc\"] = arr\n",
        "    df.to_pickle(f\"mfcc_{mfcc_coeff_amount}_{window_length}.pkl\")\n",
        "else:\n",
        "    print(\"File Found\")\n",
        "    df = pd.read_pickle(f\"mfcc_{mfcc_coeff_amount}_{window_length}.pkl\")\n",
        "\n",
        "\n",
        "num_males = len(df.loc[df.gender == \"males\"] )           \n",
        "num_females = len(df.loc[df.gender == \"females\"] )              "
      ]
    },
    {
      "cell_type": "code",
      "execution_count": 218,
      "metadata": {},
      "outputs": [
        {
          "name": "stdout",
          "output_type": "stream",
          "text": [
            "Number of males:  3682\n",
            "Number of females:  2311\n"
          ]
        }
      ],
      "source": [
        "print(\"Number of males: \", num_males)\n",
        "print(\"Number of females: \", num_females)"
      ]
    },
    {
      "cell_type": "code",
      "execution_count": 219,
      "metadata": {},
      "outputs": [
        {
          "data": {
            "text/html": [
              "<div>\n",
              "<style scoped>\n",
              "    .dataframe tbody tr th:only-of-type {\n",
              "        vertical-align: middle;\n",
              "    }\n",
              "\n",
              "    .dataframe tbody tr th {\n",
              "        vertical-align: top;\n",
              "    }\n",
              "\n",
              "    .dataframe thead th {\n",
              "        text-align: right;\n",
              "    }\n",
              "</style>\n",
              "<table border=\"1\" class=\"dataframe\">\n",
              "  <thead>\n",
              "    <tr style=\"text-align: right;\">\n",
              "      <th></th>\n",
              "      <th>file</th>\n",
              "      <th>gender</th>\n",
              "      <th>mfcc</th>\n",
              "    </tr>\n",
              "  </thead>\n",
              "  <tbody>\n",
              "    <tr>\n",
              "      <th>0</th>\n",
              "      <td>VoxCeleb_gender\\females/0.wav</td>\n",
              "      <td>females</td>\n",
              "      <td>[[-297.64233, -311.51636, -333.22858, -353.112...</td>\n",
              "    </tr>\n",
              "    <tr>\n",
              "      <th>1</th>\n",
              "      <td>VoxCeleb_gender\\females/1.wav</td>\n",
              "      <td>females</td>\n",
              "      <td>[[-237.64122, -249.89484, -260.6425, -261.0365...</td>\n",
              "    </tr>\n",
              "    <tr>\n",
              "      <th>2</th>\n",
              "      <td>VoxCeleb_gender\\females/10.wav</td>\n",
              "      <td>females</td>\n",
              "      <td>[[-442.06046, -442.974, -473.21695, -495.31973...</td>\n",
              "    </tr>\n",
              "    <tr>\n",
              "      <th>3</th>\n",
              "      <td>VoxCeleb_gender\\females/100.wav</td>\n",
              "      <td>females</td>\n",
              "      <td>[[-217.43253, -215.3289, -202.59782, -189.7104...</td>\n",
              "    </tr>\n",
              "    <tr>\n",
              "      <th>4</th>\n",
              "      <td>VoxCeleb_gender\\females/1000.wav</td>\n",
              "      <td>females</td>\n",
              "      <td>[[-310.47504, -292.76688, -310.6037, -303.5888...</td>\n",
              "    </tr>\n",
              "    <tr>\n",
              "      <th>...</th>\n",
              "      <td>...</td>\n",
              "      <td>...</td>\n",
              "      <td>...</td>\n",
              "    </tr>\n",
              "    <tr>\n",
              "      <th>5988</th>\n",
              "      <td>VoxCeleb_gender\\males/995.wav</td>\n",
              "      <td>males</td>\n",
              "      <td>[[-486.3795, -482.37906, -486.09213, -493.3973...</td>\n",
              "    </tr>\n",
              "    <tr>\n",
              "      <th>5989</th>\n",
              "      <td>VoxCeleb_gender\\males/996.wav</td>\n",
              "      <td>males</td>\n",
              "      <td>[[-296.01495, -315.97952, -288.9254, -280.0321...</td>\n",
              "    </tr>\n",
              "    <tr>\n",
              "      <th>5990</th>\n",
              "      <td>VoxCeleb_gender\\males/997.wav</td>\n",
              "      <td>males</td>\n",
              "      <td>[[-539.7124, -535.8697, -522.5412, -559.24457,...</td>\n",
              "    </tr>\n",
              "    <tr>\n",
              "      <th>5991</th>\n",
              "      <td>VoxCeleb_gender\\males/998.wav</td>\n",
              "      <td>males</td>\n",
              "      <td>[[-674.96234, -657.79913, -662.2179, -658.7952...</td>\n",
              "    </tr>\n",
              "    <tr>\n",
              "      <th>5992</th>\n",
              "      <td>VoxCeleb_gender\\males/999.wav</td>\n",
              "      <td>males</td>\n",
              "      <td>[[-533.6348, -538.90204, -460.77475, -420.3177...</td>\n",
              "    </tr>\n",
              "  </tbody>\n",
              "</table>\n",
              "<p>5993 rows × 3 columns</p>\n",
              "</div>"
            ],
            "text/plain": [
              "                                  file   gender  \\\n",
              "0        VoxCeleb_gender\\females/0.wav  females   \n",
              "1        VoxCeleb_gender\\females/1.wav  females   \n",
              "2       VoxCeleb_gender\\females/10.wav  females   \n",
              "3      VoxCeleb_gender\\females/100.wav  females   \n",
              "4     VoxCeleb_gender\\females/1000.wav  females   \n",
              "...                                ...      ...   \n",
              "5988     VoxCeleb_gender\\males/995.wav    males   \n",
              "5989     VoxCeleb_gender\\males/996.wav    males   \n",
              "5990     VoxCeleb_gender\\males/997.wav    males   \n",
              "5991     VoxCeleb_gender\\males/998.wav    males   \n",
              "5992     VoxCeleb_gender\\males/999.wav    males   \n",
              "\n",
              "                                                   mfcc  \n",
              "0     [[-297.64233, -311.51636, -333.22858, -353.112...  \n",
              "1     [[-237.64122, -249.89484, -260.6425, -261.0365...  \n",
              "2     [[-442.06046, -442.974, -473.21695, -495.31973...  \n",
              "3     [[-217.43253, -215.3289, -202.59782, -189.7104...  \n",
              "4     [[-310.47504, -292.76688, -310.6037, -303.5888...  \n",
              "...                                                 ...  \n",
              "5988  [[-486.3795, -482.37906, -486.09213, -493.3973...  \n",
              "5989  [[-296.01495, -315.97952, -288.9254, -280.0321...  \n",
              "5990  [[-539.7124, -535.8697, -522.5412, -559.24457,...  \n",
              "5991  [[-674.96234, -657.79913, -662.2179, -658.7952...  \n",
              "5992  [[-533.6348, -538.90204, -460.77475, -420.3177...  \n",
              "\n",
              "[5993 rows x 3 columns]"
            ]
          },
          "metadata": {},
          "output_type": "display_data"
        }
      ],
      "source": [
        "display(df) #Cada fila tiene los datos de un audio, cada columna mfcc contiene n_mfcc x timesteps "
      ]
    },
    {
      "cell_type": "markdown",
      "metadata": {},
      "source": [
        "# EDA"
      ]
    },
    {
      "cell_type": "code",
      "execution_count": 220,
      "metadata": {},
      "outputs": [
        {
          "data": {
            "text/plain": [
              "array([-0.11897212,  0.03945716, -0.00423559,  0.01269617, -0.00352437,\n",
              "        0.00430585, -0.00506555,  0.00012289, -0.00246526, -0.00099982,\n",
              "       -0.00170587,  0.00013982], dtype=float32)"
            ]
          },
          "metadata": {},
          "output_type": "display_data"
        },
        {
          "data": {
            "text/plain": [
              "array([-1.6783497e-01,  3.9344601e-02, -6.0754974e-04,  1.6567115e-02,\n",
              "       -5.1081921e-03, -1.4276202e-04, -8.7756226e-03, -2.9270588e-03,\n",
              "       -1.5782913e-03, -7.5654369e-03, -2.2530130e-03, -7.1545928e-03],\n",
              "      dtype=float32)"
            ]
          },
          "metadata": {},
          "output_type": "display_data"
        }
      ],
      "source": [
        "# Get the mean mfcc coefficients for each class\n",
        "mean_mfcc_males = 0\n",
        "mean_mfcc_females = 0\n",
        "\n",
        "for person in df.iterrows():\n",
        "    for i in range(len(person[1][\"mfcc\"])//mfcc_coeff_amount):\n",
        "        if person[1][\"gender\"] == \"males\":\n",
        "            mean_mfcc_males = np.mean(np.array(person[1][\"mfcc\"]), axis=1)/num_males\n",
        "        else:\n",
        "            mean_mfcc_females = np.mean(person[1][\"mfcc\"], axis=1)/num_females\n",
        "\n",
        "display(mean_mfcc_males)\n",
        "display(mean_mfcc_females)"
      ]
    },
    {
      "cell_type": "code",
      "execution_count": 221,
      "metadata": {},
      "outputs": [
        {
          "ename": "KeyError",
          "evalue": "0",
          "output_type": "error",
          "traceback": [
            "\u001b[1;31m---------------------------------------------------------------------------\u001b[0m",
            "\u001b[1;31mKeyError\u001b[0m                                  Traceback (most recent call last)",
            "File \u001b[1;32mc:\\Users\\Gonzalo\\AppData\\Local\\Programs\\Python\\Python310\\lib\\site-packages\\pandas\\core\\indexes\\base.py:3802\u001b[0m, in \u001b[0;36mIndex.get_loc\u001b[1;34m(self, key, method, tolerance)\u001b[0m\n\u001b[0;32m   3801\u001b[0m \u001b[38;5;28;01mtry\u001b[39;00m:\n\u001b[1;32m-> 3802\u001b[0m     \u001b[38;5;28;01mreturn\u001b[39;00m \u001b[38;5;28;43mself\u001b[39;49m\u001b[38;5;241;43m.\u001b[39;49m\u001b[43m_engine\u001b[49m\u001b[38;5;241;43m.\u001b[39;49m\u001b[43mget_loc\u001b[49m\u001b[43m(\u001b[49m\u001b[43mcasted_key\u001b[49m\u001b[43m)\u001b[49m\n\u001b[0;32m   3803\u001b[0m \u001b[38;5;28;01mexcept\u001b[39;00m \u001b[38;5;167;01mKeyError\u001b[39;00m \u001b[38;5;28;01mas\u001b[39;00m err:\n",
            "File \u001b[1;32mc:\\Users\\Gonzalo\\AppData\\Local\\Programs\\Python\\Python310\\lib\\site-packages\\pandas\\_libs\\index.pyx:138\u001b[0m, in \u001b[0;36mpandas._libs.index.IndexEngine.get_loc\u001b[1;34m()\u001b[0m\n",
            "File \u001b[1;32mc:\\Users\\Gonzalo\\AppData\\Local\\Programs\\Python\\Python310\\lib\\site-packages\\pandas\\_libs\\index.pyx:165\u001b[0m, in \u001b[0;36mpandas._libs.index.IndexEngine.get_loc\u001b[1;34m()\u001b[0m\n",
            "File \u001b[1;32mpandas\\_libs\\hashtable_class_helper.pxi:2263\u001b[0m, in \u001b[0;36mpandas._libs.hashtable.Int64HashTable.get_item\u001b[1;34m()\u001b[0m\n",
            "File \u001b[1;32mpandas\\_libs\\hashtable_class_helper.pxi:2273\u001b[0m, in \u001b[0;36mpandas._libs.hashtable.Int64HashTable.get_item\u001b[1;34m()\u001b[0m\n",
            "\u001b[1;31mKeyError\u001b[0m: 0",
            "\nThe above exception was the direct cause of the following exception:\n",
            "\u001b[1;31mKeyError\u001b[0m                                  Traceback (most recent call last)",
            "Cell \u001b[1;32mIn[221], line 5\u001b[0m\n\u001b[0;32m      2\u001b[0m score_females \u001b[38;5;241m=\u001b[39m []\n\u001b[0;32m      4\u001b[0m \u001b[38;5;28;01mfor\u001b[39;00m i \u001b[38;5;129;01min\u001b[39;00m \u001b[38;5;28mrange\u001b[39m(\u001b[38;5;241m1000\u001b[39m):\n\u001b[1;32m----> 5\u001b[0m     score_males\u001b[38;5;241m.\u001b[39mappend(np\u001b[38;5;241m.\u001b[39msum(\u001b[43mdf\u001b[49m\u001b[38;5;241;43m.\u001b[39;49m\u001b[43mmfcc\u001b[49m\u001b[43m[\u001b[49m\u001b[43mdf\u001b[49m\u001b[38;5;241;43m.\u001b[39;49m\u001b[43mgender\u001b[49m\u001b[38;5;241;43m==\u001b[39;49m\u001b[38;5;124;43m\"\u001b[39;49m\u001b[38;5;124;43mmales\u001b[39;49m\u001b[38;5;124;43m\"\u001b[39;49m\u001b[43m]\u001b[49m\u001b[43m[\u001b[49m\u001b[43mi\u001b[49m\u001b[43m]\u001b[49m, axis\u001b[38;5;241m=\u001b[39m\u001b[38;5;241m1\u001b[39m) \u001b[38;5;241m@\u001b[39m mean_mfcc_males)\n\u001b[0;32m      6\u001b[0m     score_females\u001b[38;5;241m.\u001b[39mappend(np\u001b[38;5;241m.\u001b[39msum(df\u001b[38;5;241m.\u001b[39mmfcc[df\u001b[38;5;241m.\u001b[39mgender\u001b[38;5;241m==\u001b[39m\u001b[38;5;124m\"\u001b[39m\u001b[38;5;124mfemales\u001b[39m\u001b[38;5;124m\"\u001b[39m][i \u001b[38;5;241m+\u001b[39m num_males], axis\u001b[38;5;241m=\u001b[39m\u001b[38;5;241m1\u001b[39m) \u001b[38;5;241m@\u001b[39m mean_mfcc_males)\n",
            "File \u001b[1;32mc:\\Users\\Gonzalo\\AppData\\Local\\Programs\\Python\\Python310\\lib\\site-packages\\pandas\\core\\series.py:981\u001b[0m, in \u001b[0;36mSeries.__getitem__\u001b[1;34m(self, key)\u001b[0m\n\u001b[0;32m    978\u001b[0m     \u001b[38;5;28;01mreturn\u001b[39;00m \u001b[38;5;28mself\u001b[39m\u001b[38;5;241m.\u001b[39m_values[key]\n\u001b[0;32m    980\u001b[0m \u001b[38;5;28;01melif\u001b[39;00m key_is_scalar:\n\u001b[1;32m--> 981\u001b[0m     \u001b[38;5;28;01mreturn\u001b[39;00m \u001b[38;5;28;43mself\u001b[39;49m\u001b[38;5;241;43m.\u001b[39;49m\u001b[43m_get_value\u001b[49m\u001b[43m(\u001b[49m\u001b[43mkey\u001b[49m\u001b[43m)\u001b[49m\n\u001b[0;32m    983\u001b[0m \u001b[38;5;28;01mif\u001b[39;00m is_hashable(key):\n\u001b[0;32m    984\u001b[0m     \u001b[38;5;66;03m# Otherwise index.get_value will raise InvalidIndexError\u001b[39;00m\n\u001b[0;32m    985\u001b[0m     \u001b[38;5;28;01mtry\u001b[39;00m:\n\u001b[0;32m    986\u001b[0m         \u001b[38;5;66;03m# For labels that don't resolve as scalars like tuples and frozensets\u001b[39;00m\n",
            "File \u001b[1;32mc:\\Users\\Gonzalo\\AppData\\Local\\Programs\\Python\\Python310\\lib\\site-packages\\pandas\\core\\series.py:1089\u001b[0m, in \u001b[0;36mSeries._get_value\u001b[1;34m(self, label, takeable)\u001b[0m\n\u001b[0;32m   1086\u001b[0m     \u001b[38;5;28;01mreturn\u001b[39;00m \u001b[38;5;28mself\u001b[39m\u001b[38;5;241m.\u001b[39m_values[label]\n\u001b[0;32m   1088\u001b[0m \u001b[38;5;66;03m# Similar to Index.get_value, but we do not fall back to positional\u001b[39;00m\n\u001b[1;32m-> 1089\u001b[0m loc \u001b[38;5;241m=\u001b[39m \u001b[38;5;28;43mself\u001b[39;49m\u001b[38;5;241;43m.\u001b[39;49m\u001b[43mindex\u001b[49m\u001b[38;5;241;43m.\u001b[39;49m\u001b[43mget_loc\u001b[49m\u001b[43m(\u001b[49m\u001b[43mlabel\u001b[49m\u001b[43m)\u001b[49m\n\u001b[0;32m   1090\u001b[0m \u001b[38;5;28;01mreturn\u001b[39;00m \u001b[38;5;28mself\u001b[39m\u001b[38;5;241m.\u001b[39mindex\u001b[38;5;241m.\u001b[39m_get_values_for_loc(\u001b[38;5;28mself\u001b[39m, loc, label)\n",
            "File \u001b[1;32mc:\\Users\\Gonzalo\\AppData\\Local\\Programs\\Python\\Python310\\lib\\site-packages\\pandas\\core\\indexes\\base.py:3804\u001b[0m, in \u001b[0;36mIndex.get_loc\u001b[1;34m(self, key, method, tolerance)\u001b[0m\n\u001b[0;32m   3802\u001b[0m     \u001b[38;5;28;01mreturn\u001b[39;00m \u001b[38;5;28mself\u001b[39m\u001b[38;5;241m.\u001b[39m_engine\u001b[38;5;241m.\u001b[39mget_loc(casted_key)\n\u001b[0;32m   3803\u001b[0m \u001b[38;5;28;01mexcept\u001b[39;00m \u001b[38;5;167;01mKeyError\u001b[39;00m \u001b[38;5;28;01mas\u001b[39;00m err:\n\u001b[1;32m-> 3804\u001b[0m     \u001b[38;5;28;01mraise\u001b[39;00m \u001b[38;5;167;01mKeyError\u001b[39;00m(key) \u001b[38;5;28;01mfrom\u001b[39;00m \u001b[38;5;21;01merr\u001b[39;00m\n\u001b[0;32m   3805\u001b[0m \u001b[38;5;28;01mexcept\u001b[39;00m \u001b[38;5;167;01mTypeError\u001b[39;00m:\n\u001b[0;32m   3806\u001b[0m     \u001b[38;5;66;03m# If we have a listlike key, _check_indexing_error will raise\u001b[39;00m\n\u001b[0;32m   3807\u001b[0m     \u001b[38;5;66;03m#  InvalidIndexError. Otherwise we fall through and re-raise\u001b[39;00m\n\u001b[0;32m   3808\u001b[0m     \u001b[38;5;66;03m#  the TypeError.\u001b[39;00m\n\u001b[0;32m   3809\u001b[0m     \u001b[38;5;28mself\u001b[39m\u001b[38;5;241m.\u001b[39m_check_indexing_error(key)\n",
            "\u001b[1;31mKeyError\u001b[0m: 0"
          ]
        }
      ],
      "source": [
        "score_males = []\n",
        "score_females = []\n",
        "\n",
        "for i in range(1000):\n",
        "    score_males.append(np.sum(df.mfcc[df.gender==\"males\"][i], axis=1) @ mean_mfcc_males)\n",
        "    score_females.append(np.sum(df.mfcc[df.gender==\"females\"][i + num_males], axis=1) @ mean_mfcc_males)\n"
      ]
    },
    {
      "cell_type": "code",
      "execution_count": 222,
      "metadata": {},
      "outputs": [
        {
          "data": {
            "text/plain": [
              "(array([0., 0., 0., 0., 0., 0., 0., 0., 0., 0., 0., 0., 0., 0., 0., 0., 0.,\n",
              "        0., 0., 0.]),\n",
              " array([0.  , 0.05, 0.1 , 0.15, 0.2 , 0.25, 0.3 , 0.35, 0.4 , 0.45, 0.5 ,\n",
              "        0.55, 0.6 , 0.65, 0.7 , 0.75, 0.8 , 0.85, 0.9 , 0.95, 1.  ]),\n",
              " <BarContainer object of 20 artists>)"
            ]
          },
          "execution_count": 222,
          "metadata": {},
          "output_type": "execute_result"
        },
        {
          "data": {
            "image/png": "[encoded data removed]",
            "text/plain": [
              "<Figure size 640x480 with 1 Axes>"
            ]
          },
          "metadata": {},
          "output_type": "display_data"
        }
      ],
      "source": [
        "plt.hist(score_males, bins=20)\n",
        "plt.hist(score_females, bins=20, alpha=0.5)"
      ]
    },
    {
      "cell_type": "markdown",
      "metadata": {},
      "source": [
        "# GMM Model"
      ]
    },
    {
      "cell_type": "code",
      "execution_count": 223,
      "metadata": {},
      "outputs": [
        {
          "data": {
            "text/plain": [
              "(2549, 12)"
            ]
          },
          "execution_count": 223,
          "metadata": {},
          "output_type": "execute_result"
        }
      ],
      "source": [
        "np.concatenate(df.mfcc[df.gender==\"males\"].to_numpy()[::1000], axis=1).T.shape"
      ]
    },
    {
      "cell_type": "code",
      "execution_count": 224,
      "metadata": {},
      "outputs": [],
      "source": [
        "X_male = np.concatenate(df.mfcc[df.gender==\"males\"].to_numpy()[:50], axis=1).T\n",
        "X_test_male = np.concatenate(df.mfcc[df.gender==\"males\"].to_numpy()[50:100], axis=1).T\n",
        "X_female = np.concatenate(df.mfcc[df.gender==\"females\"].to_numpy()[:50], axis=1).T\n",
        "X_test_female = np.concatenate(df.mfcc[df.gender==\"females\"].to_numpy()[50:100], axis=1).T"
      ]
    },
    {
      "cell_type": "code",
      "execution_count": 244,
      "metadata": {},
      "outputs": [],
      "source": [
        "X_min = np.min(X_male)\n",
        "X_max = np.max(X_male)\n",
        "X_male = (X_male - X_min) / (X_max - X_min)\n",
        "X_test_male = (X_test_male - X_min) / (X_max - X_min)\n",
        "\n",
        "X_min = np.min(X_female)\n",
        "X_max = np.max(X_female)\n",
        "X_female = (X_female - X_min) / (X_max - X_min)\n",
        "X_test_female = (X_test_female - X_min) / (X_max - X_min)"
      ]
    },
    {
      "cell_type": "code",
      "execution_count": 254,
      "metadata": {},
      "outputs": [
        {
          "data": {
            "text/html": [
              "<style>#sk-container-id-22 {color: black;background-color: white;}#sk-container-id-22 pre{padding: 0;}#sk-container-id-22 div.sk-toggleable {background-color: white;}#sk-container-id-22 label.sk-toggleable__label {cursor: pointer;display: block;width: 100%;margin-bottom: 0;padding: 0.3em;box-sizing: border-box;text-align: center;}#sk-container-id-22 label.sk-toggleable__label-arrow:before {content: \"▸\";float: left;margin-right: 0.25em;color: #696969;}#sk-container-id-22 label.sk-toggleable__label-arrow:hover:before {color: black;}#sk-container-id-22 div.sk-estimator:hover label.sk-toggleable__label-arrow:before {color: black;}#sk-container-id-22 div.sk-toggleable__content {max-height: 0;max-width: 0;overflow: hidden;text-align: left;background-color: #f0f8ff;}#sk-container-id-22 div.sk-toggleable__content pre {margin: 0.2em;color: black;border-radius: 0.25em;background-color: #f0f8ff;}#sk-container-id-22 input.sk-toggleable__control:checked~div.sk-toggleable__content {max-height: 200px;max-width: 100%;overflow: auto;}#sk-container-id-22 input.sk-toggleable__control:checked~label.sk-toggleable__label-arrow:before {content: \"▾\";}#sk-container-id-22 div.sk-estimator input.sk-toggleable__control:checked~label.sk-toggleable__label {background-color: #d4ebff;}#sk-container-id-22 div.sk-label input.sk-toggleable__control:checked~label.sk-toggleable__label {background-color: #d4ebff;}#sk-container-id-22 input.sk-hidden--visually {border: 0;clip: rect(1px 1px 1px 1px);clip: rect(1px, 1px, 1px, 1px);height: 1px;margin: -1px;overflow: hidden;padding: 0;position: absolute;width: 1px;}#sk-container-id-22 div.sk-estimator {font-family: monospace;background-color: #f0f8ff;border: 1px dotted black;border-radius: 0.25em;box-sizing: border-box;margin-bottom: 0.5em;}#sk-container-id-22 div.sk-estimator:hover {background-color: #d4ebff;}#sk-container-id-22 div.sk-parallel-item::after {content: \"\";width: 100%;border-bottom: 1px solid gray;flex-grow: 1;}#sk-container-id-22 div.sk-label:hover label.sk-toggleable__label {background-color: #d4ebff;}#sk-container-id-22 div.sk-serial::before {content: \"\";position: absolute;border-left: 1px solid gray;box-sizing: border-box;top: 0;bottom: 0;left: 50%;z-index: 0;}#sk-container-id-22 div.sk-serial {display: flex;flex-direction: column;align-items: center;background-color: white;padding-right: 0.2em;padding-left: 0.2em;position: relative;}#sk-container-id-22 div.sk-item {position: relative;z-index: 1;}#sk-container-id-22 div.sk-parallel {display: flex;align-items: stretch;justify-content: center;background-color: white;position: relative;}#sk-container-id-22 div.sk-item::before, #sk-container-id-22 div.sk-parallel-item::before {content: \"\";position: absolute;border-left: 1px solid gray;box-sizing: border-box;top: 0;bottom: 0;left: 50%;z-index: -1;}#sk-container-id-22 div.sk-parallel-item {display: flex;flex-direction: column;z-index: 1;position: relative;background-color: white;}#sk-container-id-22 div.sk-parallel-item:first-child::after {align-self: flex-end;width: 50%;}#sk-container-id-22 div.sk-parallel-item:last-child::after {align-self: flex-start;width: 50%;}#sk-container-id-22 div.sk-parallel-item:only-child::after {width: 0;}#sk-container-id-22 div.sk-dashed-wrapped {border: 1px dashed gray;margin: 0 0.4em 0.5em 0.4em;box-sizing: border-box;padding-bottom: 0.4em;background-color: white;}#sk-container-id-22 div.sk-label label {font-family: monospace;font-weight: bold;display: inline-block;line-height: 1.2em;}#sk-container-id-22 div.sk-label-container {text-align: center;}#sk-container-id-22 div.sk-container {/* jupyter's `normalize.less` sets `[hidden] { display: none; }` but bootstrap.min.css set `[hidden] { display: none !important; }` so we also need the `!important` here to be able to override the default hidden behavior on the sphinx rendered scikit-learn.org. See: https://github.com/scikit-learn/scikit-learn/issues/21755 */display: inline-block !important;position: relative;}#sk-container-id-22 div.sk-text-repr-fallback {display: none;}</style><div id=\"sk-container-id-22\" class=\"sk-top-container\"><div class=\"sk-text-repr-fallback\"><pre>GaussianMixture(covariance_type=&#x27;diag&#x27;, max_iter=1000, n_components=12)</pre><b>In a Jupyter environment, please rerun this cell to show the HTML representation or trust the notebook. <br />On GitHub, the HTML representation is unable to render, please try loading this page with nbviewer.org.</b></div><div class=\"sk-container\" hidden><div class=\"sk-item\"><div class=\"sk-estimator sk-toggleable\"><input class=\"sk-toggleable__control sk-hidden--visually\" id=\"sk-estimator-id-40\" type=\"checkbox\" checked><label for=\"sk-estimator-id-40\" class=\"sk-toggleable__label sk-toggleable__label-arrow\">GaussianMixture</label><div class=\"sk-toggleable__content\"><pre>GaussianMixture(covariance_type=&#x27;diag&#x27;, max_iter=1000, n_components=12)</pre></div></div></div></div></div>"
            ],
            "text/plain": [
              "GaussianMixture(covariance_type='diag', max_iter=1000, n_components=12)"
            ]
          },
          "execution_count": 254,
          "metadata": {},
          "output_type": "execute_result"
        }
      ],
      "source": [
        "from sklearn.mixture import GaussianMixture\n",
        "from sklearn.model_selection import GridSearchCV\n",
        "\n",
        "gmm_male = GaussianMixture(n_components=mfcc_coeff_amount, covariance_type='diag', max_iter=1000)\n",
        "gmm_female = GaussianMixture(n_components=mfcc_coeff_amount, covariance_type='diag', max_iter=1000)\n",
        "\n",
        "gmm_male.fit(X_male)\n",
        "gmm_female.fit(X_female)"
      ]
    },
    {
      "cell_type": "code",
      "execution_count": 255,
      "metadata": {},
      "outputs": [],
      "source": [
        "import pickle\n",
        "\n",
        "with open('gmm_male.pkl','wb') as f:\n",
        "    pickle.dump(gmm_male,f)\n",
        "\n",
        "with open('gmm_female.pkl','wb') as f:\n",
        "    pickle.dump(gmm_female,f)"
      ]
    },
    {
      "cell_type": "code",
      "execution_count": 256,
      "metadata": {},
      "outputs": [],
      "source": [
        "scores_fvsm = gmm_male.score_samples(X_test_male)\n",
        "scores_mvsm = gmm_male.score_samples(X_test_female)"
      ]
    },
    {
      "cell_type": "code",
      "execution_count": 257,
      "metadata": {},
      "outputs": [
        {
          "data": {
            "text/plain": [
              "array([32.2915624 , 25.43506366, 21.56368658, ..., 27.17849365,\n",
              "       27.17849365, 27.17849365])"
            ]
          },
          "execution_count": 257,
          "metadata": {},
          "output_type": "execute_result"
        }
      ],
      "source": [
        "scores_mvsm"
      ]
    },
    {
      "cell_type": "code",
      "execution_count": 258,
      "metadata": {},
      "outputs": [
        {
          "data": {
            "text/plain": [
              "(array([1.000e+00, 0.000e+00, 1.000e+00, 1.000e+00, 0.000e+00, 1.000e+00,\n",
              "        0.000e+00, 0.000e+00, 1.000e+00, 2.000e+00, 1.000e+00, 0.000e+00,\n",
              "        0.000e+00, 3.000e+00, 3.000e+00, 2.000e+00, 2.000e+00, 0.000e+00,\n",
              "        3.000e+00, 3.000e+00, 4.000e+00, 3.000e+00, 5.000e+00, 2.000e+00,\n",
              "        6.000e+00, 9.000e+00, 1.100e+01, 9.000e+00, 7.000e+00, 1.100e+01,\n",
              "        1.600e+01, 2.800e+01, 2.200e+01, 2.000e+01, 3.600e+01, 3.200e+01,\n",
              "        3.300e+01, 5.200e+01, 4.700e+01, 6.000e+01, 7.200e+01, 7.300e+01,\n",
              "        6.400e+01, 8.600e+01, 9.700e+01, 1.010e+02, 1.200e+02, 1.280e+02,\n",
              "        1.440e+02, 1.600e+02, 1.810e+02, 2.260e+02, 2.130e+02, 2.290e+02,\n",
              "        2.690e+02, 2.950e+02, 3.500e+02, 3.530e+02, 4.260e+02, 4.550e+02,\n",
              "        4.800e+02, 4.860e+02, 5.870e+02, 5.700e+02, 6.220e+02, 6.640e+02,\n",
              "        6.900e+02, 7.650e+02, 7.810e+02, 8.250e+02, 8.800e+02, 9.020e+02,\n",
              "        9.450e+02, 9.860e+02, 1.024e+03, 1.078e+03, 1.101e+03, 1.003e+03,\n",
              "        1.079e+03, 1.064e+03, 9.840e+02, 9.830e+02, 9.800e+02, 9.810e+02,\n",
              "        8.870e+02, 9.410e+02, 8.280e+02, 7.650e+02, 6.790e+02, 6.440e+02,\n",
              "        5.180e+02, 4.540e+02, 3.540e+02, 2.580e+02, 1.680e+02, 1.290e+02,\n",
              "        5.900e+01, 3.600e+01, 1.200e+01, 7.000e+00]),\n",
              " array([-2.23854565, -1.83017161, -1.42179756, -1.01342352, -0.60504947,\n",
              "        -0.19667543,  0.21169862,  0.62007266,  1.02844671,  1.43682075,\n",
              "         1.8451948 ,  2.25356884,  2.66194289,  3.07031693,  3.47869098,\n",
              "         3.88706502,  4.29543907,  4.70381311,  5.11218715,  5.5205612 ,\n",
              "         5.92893524,  6.33730929,  6.74568333,  7.15405738,  7.56243142,\n",
              "         7.97080547,  8.37917951,  8.78755356,  9.1959276 ,  9.60430165,\n",
              "        10.01267569, 10.42104974, 10.82942378, 11.23779782, 11.64617187,\n",
              "        12.05454591, 12.46291996, 12.871294  , 13.27966805, 13.68804209,\n",
              "        14.09641614, 14.50479018, 14.91316423, 15.32153827, 15.72991232,\n",
              "        16.13828636, 16.54666041, 16.95503445, 17.3634085 , 17.77178254,\n",
              "        18.18015658, 18.58853063, 18.99690467, 19.40527872, 19.81365276,\n",
              "        20.22202681, 20.63040085, 21.0387749 , 21.44714894, 21.85552299,\n",
              "        22.26389703, 22.67227108, 23.08064512, 23.48901917, 23.89739321,\n",
              "        24.30576725, 24.7141413 , 25.12251534, 25.53088939, 25.93926343,\n",
              "        26.34763748, 26.75601152, 27.16438557, 27.57275961, 27.98113366,\n",
              "        28.3895077 , 28.79788175, 29.20625579, 29.61462984, 30.02300388,\n",
              "        30.43137793, 30.83975197, 31.24812601, 31.65650006, 32.0648741 ,\n",
              "        32.47324815, 32.88162219, 33.28999624, 33.69837028, 34.10674433,\n",
              "        34.51511837, 34.92349242, 35.33186646, 35.74024051, 36.14861455,\n",
              "        36.5569886 , 36.96536264, 37.37373668, 37.78211073, 38.19048477,\n",
              "        38.59885882]),\n",
              " <BarContainer object of 100 artists>)"
            ]
          },
          "execution_count": 258,
          "metadata": {},
          "output_type": "execute_result"
        },
        {
          "data": {
            "image/png": "[encoded data removed]",
            "text/plain": [
              "<Figure size 640x480 with 1 Axes>"
            ]
          },
          "metadata": {},
          "output_type": "display_data"
        }
      ],
      "source": [
        "plt.hist(scores_fvsm, bins=100)\n",
        "plt.hist(scores_mvsm, bins=100, alpha=0.5)"
      ]
    },
    {
      "cell_type": "code",
      "execution_count": 251,
      "metadata": {},
      "outputs": [
        {
          "data": {
            "text/html": [
              "<style>#sk-container-id-21 {color: black;background-color: white;}#sk-container-id-21 pre{padding: 0;}#sk-container-id-21 div.sk-toggleable {background-color: white;}#sk-container-id-21 label.sk-toggleable__label {cursor: pointer;display: block;width: 100%;margin-bottom: 0;padding: 0.3em;box-sizing: border-box;text-align: center;}#sk-container-id-21 label.sk-toggleable__label-arrow:before {content: \"▸\";float: left;margin-right: 0.25em;color: #696969;}#sk-container-id-21 label.sk-toggleable__label-arrow:hover:before {color: black;}#sk-container-id-21 div.sk-estimator:hover label.sk-toggleable__label-arrow:before {color: black;}#sk-container-id-21 div.sk-toggleable__content {max-height: 0;max-width: 0;overflow: hidden;text-align: left;background-color: #f0f8ff;}#sk-container-id-21 div.sk-toggleable__content pre {margin: 0.2em;color: black;border-radius: 0.25em;background-color: #f0f8ff;}#sk-container-id-21 input.sk-toggleable__control:checked~div.sk-toggleable__content {max-height: 200px;max-width: 100%;overflow: auto;}#sk-container-id-21 input.sk-toggleable__control:checked~label.sk-toggleable__label-arrow:before {content: \"▾\";}#sk-container-id-21 div.sk-estimator input.sk-toggleable__control:checked~label.sk-toggleable__label {background-color: #d4ebff;}#sk-container-id-21 div.sk-label input.sk-toggleable__control:checked~label.sk-toggleable__label {background-color: #d4ebff;}#sk-container-id-21 input.sk-hidden--visually {border: 0;clip: rect(1px 1px 1px 1px);clip: rect(1px, 1px, 1px, 1px);height: 1px;margin: -1px;overflow: hidden;padding: 0;position: absolute;width: 1px;}#sk-container-id-21 div.sk-estimator {font-family: monospace;background-color: #f0f8ff;border: 1px dotted black;border-radius: 0.25em;box-sizing: border-box;margin-bottom: 0.5em;}#sk-container-id-21 div.sk-estimator:hover {background-color: #d4ebff;}#sk-container-id-21 div.sk-parallel-item::after {content: \"\";width: 100%;border-bottom: 1px solid gray;flex-grow: 1;}#sk-container-id-21 div.sk-label:hover label.sk-toggleable__label {background-color: #d4ebff;}#sk-container-id-21 div.sk-serial::before {content: \"\";position: absolute;border-left: 1px solid gray;box-sizing: border-box;top: 0;bottom: 0;left: 50%;z-index: 0;}#sk-container-id-21 div.sk-serial {display: flex;flex-direction: column;align-items: center;background-color: white;padding-right: 0.2em;padding-left: 0.2em;position: relative;}#sk-container-id-21 div.sk-item {position: relative;z-index: 1;}#sk-container-id-21 div.sk-parallel {display: flex;align-items: stretch;justify-content: center;background-color: white;position: relative;}#sk-container-id-21 div.sk-item::before, #sk-container-id-21 div.sk-parallel-item::before {content: \"\";position: absolute;border-left: 1px solid gray;box-sizing: border-box;top: 0;bottom: 0;left: 50%;z-index: -1;}#sk-container-id-21 div.sk-parallel-item {display: flex;flex-direction: column;z-index: 1;position: relative;background-color: white;}#sk-container-id-21 div.sk-parallel-item:first-child::after {align-self: flex-end;width: 50%;}#sk-container-id-21 div.sk-parallel-item:last-child::after {align-self: flex-start;width: 50%;}#sk-container-id-21 div.sk-parallel-item:only-child::after {width: 0;}#sk-container-id-21 div.sk-dashed-wrapped {border: 1px dashed gray;margin: 0 0.4em 0.5em 0.4em;box-sizing: border-box;padding-bottom: 0.4em;background-color: white;}#sk-container-id-21 div.sk-label label {font-family: monospace;font-weight: bold;display: inline-block;line-height: 1.2em;}#sk-container-id-21 div.sk-label-container {text-align: center;}#sk-container-id-21 div.sk-container {/* jupyter's `normalize.less` sets `[hidden] { display: none; }` but bootstrap.min.css set `[hidden] { display: none !important; }` so we also need the `!important` here to be able to override the default hidden behavior on the sphinx rendered scikit-learn.org. See: https://github.com/scikit-learn/scikit-learn/issues/21755 */display: inline-block !important;position: relative;}#sk-container-id-21 div.sk-text-repr-fallback {display: none;}</style><div id=\"sk-container-id-21\" class=\"sk-top-container\"><div class=\"sk-text-repr-fallback\"><pre>GridSearchCV(estimator=GaussianMixture(),\n",
              "             param_grid={&#x27;covariance_type&#x27;: [&#x27;full&#x27;, &#x27;tied&#x27;, &#x27;diag&#x27;,\n",
              "                                             &#x27;spherical&#x27;],\n",
              "                         &#x27;n_components&#x27;: range(5, 15)},\n",
              "             scoring=&lt;function gmm_bic_score at 0x0000027F2E87AA70&gt;)</pre><b>In a Jupyter environment, please rerun this cell to show the HTML representation or trust the notebook. <br />On GitHub, the HTML representation is unable to render, please try loading this page with nbviewer.org.</b></div><div class=\"sk-container\" hidden><div class=\"sk-item sk-dashed-wrapped\"><div class=\"sk-label-container\"><div class=\"sk-label sk-toggleable\"><input class=\"sk-toggleable__control sk-hidden--visually\" id=\"sk-estimator-id-37\" type=\"checkbox\" ><label for=\"sk-estimator-id-37\" class=\"sk-toggleable__label sk-toggleable__label-arrow\">GridSearchCV</label><div class=\"sk-toggleable__content\"><pre>GridSearchCV(estimator=GaussianMixture(),\n",
              "             param_grid={&#x27;covariance_type&#x27;: [&#x27;full&#x27;, &#x27;tied&#x27;, &#x27;diag&#x27;,\n",
              "                                             &#x27;spherical&#x27;],\n",
              "                         &#x27;n_components&#x27;: range(5, 15)},\n",
              "             scoring=&lt;function gmm_bic_score at 0x0000027F2E87AA70&gt;)</pre></div></div></div><div class=\"sk-parallel\"><div class=\"sk-parallel-item\"><div class=\"sk-item\"><div class=\"sk-label-container\"><div class=\"sk-label sk-toggleable\"><input class=\"sk-toggleable__control sk-hidden--visually\" id=\"sk-estimator-id-38\" type=\"checkbox\" ><label for=\"sk-estimator-id-38\" class=\"sk-toggleable__label sk-toggleable__label-arrow\">estimator: GaussianMixture</label><div class=\"sk-toggleable__content\"><pre>GaussianMixture()</pre></div></div></div><div class=\"sk-serial\"><div class=\"sk-item\"><div class=\"sk-estimator sk-toggleable\"><input class=\"sk-toggleable__control sk-hidden--visually\" id=\"sk-estimator-id-39\" type=\"checkbox\" ><label for=\"sk-estimator-id-39\" class=\"sk-toggleable__label sk-toggleable__label-arrow\">GaussianMixture</label><div class=\"sk-toggleable__content\"><pre>GaussianMixture()</pre></div></div></div></div></div></div></div></div></div></div>"
            ],
            "text/plain": [
              "GridSearchCV(estimator=GaussianMixture(),\n",
              "             param_grid={'covariance_type': ['full', 'tied', 'diag',\n",
              "                                             'spherical'],\n",
              "                         'n_components': range(5, 15)},\n",
              "             scoring=<function gmm_bic_score at 0x0000027F2E87AA70>)"
            ]
          },
          "execution_count": 251,
          "metadata": {},
          "output_type": "execute_result"
        }
      ],
      "source": [
        "from sklearn.mixture import GaussianMixture\n",
        "from sklearn.model_selection import GridSearchCV\n",
        "\n",
        "\n",
        "def gmm_bic_score(estimator, X):\n",
        "    # Make it negative since GridSearchCV expects a score to maximize\n",
        "    return -estimator.bic(X)\n",
        "\n",
        "\n",
        "param_grid = {\n",
        "    \"n_components\": range(5, 15),\n",
        "    \"covariance_type\": [\"full\", \"tied\", \"diag\", \"spherical\"],\n",
        "}\n",
        "\n",
        "grid_search = GridSearchCV(GaussianMixture(), param_grid=param_grid, scoring=gmm_bic_score)\n",
        "grid_search.fit(X_male)"
      ]
    },
    {
      "cell_type": "code",
      "execution_count": 252,
      "metadata": {},
      "outputs": [
        {
          "data": {
            "text/html": [
              "<div>\n",
              "<style scoped>\n",
              "    .dataframe tbody tr th:only-of-type {\n",
              "        vertical-align: middle;\n",
              "    }\n",
              "\n",
              "    .dataframe tbody tr th {\n",
              "        vertical-align: top;\n",
              "    }\n",
              "\n",
              "    .dataframe thead th {\n",
              "        text-align: right;\n",
              "    }\n",
              "</style>\n",
              "<table border=\"1\" class=\"dataframe\">\n",
              "  <thead>\n",
              "    <tr style=\"text-align: right;\">\n",
              "      <th></th>\n",
              "      <th>Number of components</th>\n",
              "      <th>Type of covariance</th>\n",
              "      <th>BIC score</th>\n",
              "    </tr>\n",
              "  </thead>\n",
              "  <tbody>\n",
              "    <tr>\n",
              "      <th>15</th>\n",
              "      <td>10</td>\n",
              "      <td>tied</td>\n",
              "      <td>-439729.864306</td>\n",
              "    </tr>\n",
              "    <tr>\n",
              "      <th>18</th>\n",
              "      <td>13</td>\n",
              "      <td>tied</td>\n",
              "      <td>-439683.470343</td>\n",
              "    </tr>\n",
              "    <tr>\n",
              "      <th>16</th>\n",
              "      <td>11</td>\n",
              "      <td>tied</td>\n",
              "      <td>-439638.238912</td>\n",
              "    </tr>\n",
              "    <tr>\n",
              "      <th>17</th>\n",
              "      <td>12</td>\n",
              "      <td>tied</td>\n",
              "      <td>-439566.685382</td>\n",
              "    </tr>\n",
              "    <tr>\n",
              "      <th>26</th>\n",
              "      <td>11</td>\n",
              "      <td>diag</td>\n",
              "      <td>-439517.161392</td>\n",
              "    </tr>\n",
              "  </tbody>\n",
              "</table>\n",
              "</div>"
            ],
            "text/plain": [
              "   Number of components Type of covariance      BIC score\n",
              "15                   10               tied -439729.864306\n",
              "18                   13               tied -439683.470343\n",
              "16                   11               tied -439638.238912\n",
              "17                   12               tied -439566.685382\n",
              "26                   11               diag -439517.161392"
            ]
          },
          "execution_count": 252,
          "metadata": {},
          "output_type": "execute_result"
        }
      ],
      "source": [
        "import pandas as pd\n",
        "\n",
        "df = pd.DataFrame(grid_search.cv_results_)[\n",
        "    [\"param_n_components\", \"param_covariance_type\", \"mean_test_score\"]\n",
        "]\n",
        "df[\"mean_test_score\"] = -df[\"mean_test_score\"]\n",
        "df = df.rename(\n",
        "    columns={\n",
        "        \"param_n_components\": \"Number of components\",\n",
        "        \"param_covariance_type\": \"Type of covariance\",\n",
        "        \"mean_test_score\": \"BIC score\",\n",
        "    }\n",
        ")\n",
        "df.sort_values(by=\"BIC score\").head()"
      ]
    },
    {
      "cell_type": "code",
      "execution_count": 253,
      "metadata": {},
      "outputs": [
        {
          "data": {
            "image/png": "[encoded data removed]",
            "text/plain": [
              "<Figure size 641.486x500 with 1 Axes>"
            ]
          },
          "metadata": {},
          "output_type": "display_data"
        }
      ],
      "source": [
        "import seaborn as sns\n",
        "\n",
        "sns.catplot(\n",
        "    data=df,\n",
        "    kind=\"bar\",\n",
        "    x=\"Number of components\",\n",
        "    y=\"BIC score\",\n",
        "    hue=\"Type of covariance\",\n",
        ")\n",
        "plt.show()"
      ]
    }
  ],
  "metadata": {
    "kernelspec": {
      "display_name": "base",
      "language": "python",
      "name": "python3"
    },
    "language_info": {
      "codemirror_mode": {
        "name": "ipython",
        "version": 3
      },
      "file_extension": ".py",
      "mimetype": "text/x-python",
      "name": "python",
      "nbconvert_exporter": "python",
      "pygments_lexer": "ipython3",
      "version": "3.10.9"
    }
  },
  "nbformat": 4,
  "nbformat_minor": 2
}
