{
  "cells": [
    {
      "cell_type": "markdown",
      "metadata": {},
      "source": [
        "# $\\textit{Detección por voz de sexo}$"
      ]
    },
    {
      "cell_type": "markdown",
      "metadata": {},
      "source": [
        "$\\textit{By Bautista Schneeberger, Agustin Gullino y Gonzalo Linares}$"
      ]
    },
    {
      "cell_type": "code",
      "execution_count": 1,
      "metadata": {},
      "outputs": [
        {
          "name": "stdout",
          "output_type": "stream",
          "text": [
            "Dataset already downloaded.\n"
          ]
        }
      ],
      "source": [
        "import os\n",
        "\n",
        "if not os.path.exists(\"VoxCeleb_gender\"):\n",
        "    !pip install gdown pydub librosa\n",
        "    !gdown https://drive.google.com/uc?id=1V3lNnSDv71AJYIj71V4_xD0ir0DrXxEV\n",
        "    !tar -xf VoxCeleb_gender.zip #!tar -xf VoxCeleb_gender.zip\n",
        "    !del VoxCeleb_gender.zip     #!del\n",
        "\n",
        "else:\n",
        "    print(\"Dataset already downloaded.\")"
      ]
    },
    {
      "cell_type": "markdown",
      "metadata": {},
      "source": [
        "$\\textit{Implementación del cálculo de los MFCCs}$"
      ]
    },
    {
      "cell_type": "code",
      "execution_count": 2,
      "metadata": {},
      "outputs": [],
      "source": [
        "import librosa\n",
        "import scipy.signal as ss\n",
        "import numpy as np\n",
        "import pandas as pd\n",
        "import matplotlib.pyplot as plt\n",
        "import os\n",
        "import seaborn as sns\n",
        "sns.set_theme()\n",
        "\n",
        "def extract_mfcc(file_path, n_mfcc=12, win_length=320, hop_length=160):\n",
        "    wave, sr = librosa.load(file_path, mono=True, sr=None)\n",
        "    if sr != 16000:\n",
        "        wave = librosa.resample(wave, sr, 16000)\n",
        "    mfcc = librosa.feature.mfcc(y=wave, sr=16000, n_mfcc=n_mfcc, window=ss.windows.hamming, win_length=win_length, hop_length=hop_length)\n",
        "    return mfcc"
      ]
    },
    {
      "cell_type": "markdown",
      "metadata": {},
      "source": [
        "$\\textit{Elegimos la cantidad de MFCCs y tamaño de la trama}$"
      ]
    },
    {
      "cell_type": "code",
      "execution_count": 3,
      "metadata": {},
      "outputs": [],
      "source": [
        "mfcc_coeff_amount = 12\n",
        "window_length = int(16000*0.02)"
      ]
    },
    {
      "cell_type": "code",
      "execution_count": 4,
      "metadata": {},
      "outputs": [
        {
          "name": "stdout",
          "output_type": "stream",
          "text": [
            "File Found\n"
          ]
        }
      ],
      "source": [
        "arr = []\n",
        "if not os.path.exists(f\"mfcc_{mfcc_coeff_amount}_{window_length}.pkl\"):\n",
        "\n",
        "    aux = []\n",
        "\n",
        "    for (dirpath, dirnames, filenames) in os.walk(\"VoxCeleb_gender\"):\n",
        "        for filename in filenames:\n",
        "            if filename.endswith(\".wav\"):\n",
        "                filepath = dirpath + \"/\" + filename\n",
        "                aux.append({\"file\": filepath, \"gender\": \"females\" if \"females\" in dirpath else \"males\"})\n",
        "\n",
        "    df = pd.DataFrame(aux)\n",
        "\n",
        "    df[\"mfcc\"] = pd.Series(name=\"mfcc\", dtype=object)\n",
        "\n",
        "    for i in range(len(df)):\n",
        "        mfcc_coeffs = extract_mfcc(df.loc[i, \"file\"], n_mfcc=mfcc_coeff_amount, win_length=window_length)\n",
        "        for i, coeffs in enumerate(mfcc_coeffs):\n",
        "            if np.linalg.norm(coeffs) < 1:\n",
        "                mfcc_coeffs.pop(i)\n",
        "        arr.append(mfcc_coeffs)\n",
        "    df[\"mfcc\"] = arr\n",
        "    df.to_pickle(f\"mfcc_{mfcc_coeff_amount}_{window_length}.pkl\")\n",
        "else:\n",
        "    print(\"File Found\")\n",
        "    df = pd.read_pickle(f\"mfcc_{mfcc_coeff_amount}_{window_length}.pkl\")\n",
        "\n",
        "\n",
        "num_males = len(df.loc[df.gender == \"males\"] )           \n",
        "num_females = len(df.loc[df.gender == \"females\"] )              "
      ]
    },
    {
      "cell_type": "code",
      "execution_count": 5,
      "metadata": {},
      "outputs": [
        {
          "name": "stdout",
          "output_type": "stream",
          "text": [
            "Number of males:  3682\n",
            "Number of females:  2311\n"
          ]
        }
      ],
      "source": [
        "print(\"Number of males: \", num_males)\n",
        "print(\"Number of females: \", num_females)"
      ]
    },
    {
      "cell_type": "code",
      "execution_count": 6,
      "metadata": {},
      "outputs": [
        {
          "data": {
            "text/html": [
              "<div>\n",
              "<style scoped>\n",
              "    .dataframe tbody tr th:only-of-type {\n",
              "        vertical-align: middle;\n",
              "    }\n",
              "\n",
              "    .dataframe tbody tr th {\n",
              "        vertical-align: top;\n",
              "    }\n",
              "\n",
              "    .dataframe thead th {\n",
              "        text-align: right;\n",
              "    }\n",
              "</style>\n",
              "<table border=\"1\" class=\"dataframe\">\n",
              "  <thead>\n",
              "    <tr style=\"text-align: right;\">\n",
              "      <th></th>\n",
              "      <th>file</th>\n",
              "      <th>gender</th>\n",
              "      <th>mfcc</th>\n",
              "    </tr>\n",
              "  </thead>\n",
              "  <tbody>\n",
              "    <tr>\n",
              "      <th>0</th>\n",
              "      <td>VoxCeleb_gender\\females/0.wav</td>\n",
              "      <td>females</td>\n",
              "      <td>[[-297.64233, -311.51636, -333.22858, -353.112...</td>\n",
              "    </tr>\n",
              "    <tr>\n",
              "      <th>1</th>\n",
              "      <td>VoxCeleb_gender\\females/1.wav</td>\n",
              "      <td>females</td>\n",
              "      <td>[[-237.64122, -249.89484, -260.6425, -261.0365...</td>\n",
              "    </tr>\n",
              "    <tr>\n",
              "      <th>2</th>\n",
              "      <td>VoxCeleb_gender\\females/10.wav</td>\n",
              "      <td>females</td>\n",
              "      <td>[[-442.06046, -442.974, -473.21695, -495.31973...</td>\n",
              "    </tr>\n",
              "    <tr>\n",
              "      <th>3</th>\n",
              "      <td>VoxCeleb_gender\\females/100.wav</td>\n",
              "      <td>females</td>\n",
              "      <td>[[-217.43253, -215.3289, -202.59782, -189.7104...</td>\n",
              "    </tr>\n",
              "    <tr>\n",
              "      <th>4</th>\n",
              "      <td>VoxCeleb_gender\\females/1000.wav</td>\n",
              "      <td>females</td>\n",
              "      <td>[[-310.47504, -292.76688, -310.6037, -303.5888...</td>\n",
              "    </tr>\n",
              "    <tr>\n",
              "      <th>...</th>\n",
              "      <td>...</td>\n",
              "      <td>...</td>\n",
              "      <td>...</td>\n",
              "    </tr>\n",
              "    <tr>\n",
              "      <th>5988</th>\n",
              "      <td>VoxCeleb_gender\\males/995.wav</td>\n",
              "      <td>males</td>\n",
              "      <td>[[-486.3795, -482.37906, -486.09213, -493.3973...</td>\n",
              "    </tr>\n",
              "    <tr>\n",
              "      <th>5989</th>\n",
              "      <td>VoxCeleb_gender\\males/996.wav</td>\n",
              "      <td>males</td>\n",
              "      <td>[[-296.01495, -315.97952, -288.9254, -280.0321...</td>\n",
              "    </tr>\n",
              "    <tr>\n",
              "      <th>5990</th>\n",
              "      <td>VoxCeleb_gender\\males/997.wav</td>\n",
              "      <td>males</td>\n",
              "      <td>[[-539.7124, -535.8697, -522.5412, -559.24457,...</td>\n",
              "    </tr>\n",
              "    <tr>\n",
              "      <th>5991</th>\n",
              "      <td>VoxCeleb_gender\\males/998.wav</td>\n",
              "      <td>males</td>\n",
              "      <td>[[-674.96234, -657.79913, -662.2179, -658.7952...</td>\n",
              "    </tr>\n",
              "    <tr>\n",
              "      <th>5992</th>\n",
              "      <td>VoxCeleb_gender\\males/999.wav</td>\n",
              "      <td>males</td>\n",
              "      <td>[[-533.6348, -538.90204, -460.77475, -420.3177...</td>\n",
              "    </tr>\n",
              "  </tbody>\n",
              "</table>\n",
              "<p>5993 rows × 3 columns</p>\n",
              "</div>"
            ],
            "text/plain": [
              "                                  file   gender  \\\n",
              "0        VoxCeleb_gender\\females/0.wav  females   \n",
              "1        VoxCeleb_gender\\females/1.wav  females   \n",
              "2       VoxCeleb_gender\\females/10.wav  females   \n",
              "3      VoxCeleb_gender\\females/100.wav  females   \n",
              "4     VoxCeleb_gender\\females/1000.wav  females   \n",
              "...                                ...      ...   \n",
              "5988     VoxCeleb_gender\\males/995.wav    males   \n",
              "5989     VoxCeleb_gender\\males/996.wav    males   \n",
              "5990     VoxCeleb_gender\\males/997.wav    males   \n",
              "5991     VoxCeleb_gender\\males/998.wav    males   \n",
              "5992     VoxCeleb_gender\\males/999.wav    males   \n",
              "\n",
              "                                                   mfcc  \n",
              "0     [[-297.64233, -311.51636, -333.22858, -353.112...  \n",
              "1     [[-237.64122, -249.89484, -260.6425, -261.0365...  \n",
              "2     [[-442.06046, -442.974, -473.21695, -495.31973...  \n",
              "3     [[-217.43253, -215.3289, -202.59782, -189.7104...  \n",
              "4     [[-310.47504, -292.76688, -310.6037, -303.5888...  \n",
              "...                                                 ...  \n",
              "5988  [[-486.3795, -482.37906, -486.09213, -493.3973...  \n",
              "5989  [[-296.01495, -315.97952, -288.9254, -280.0321...  \n",
              "5990  [[-539.7124, -535.8697, -522.5412, -559.24457,...  \n",
              "5991  [[-674.96234, -657.79913, -662.2179, -658.7952...  \n",
              "5992  [[-533.6348, -538.90204, -460.77475, -420.3177...  \n",
              "\n",
              "[5993 rows x 3 columns]"
            ]
          },
          "metadata": {},
          "output_type": "display_data"
        }
      ],
      "source": [
        "display(df) #Cada fila tiene los datos de un audio, cada columna mfcc contiene n_mfcc x timesteps "
      ]
    },
    {
      "cell_type": "markdown",
      "metadata": {},
      "source": [
        "$\\textit{Separamos entre train y test}$"
      ]
    },
    {
      "cell_type": "code",
      "execution_count": 7,
      "metadata": {},
      "outputs": [],
      "source": [
        "from sklearn.model_selection import train_test_split\n",
        "\n",
        "#Equalize number of gender in dataset\n",
        "# gender_counts = df['gender'].value_counts()\n",
        "# difference = abs(gender_counts['males'] - gender_counts['females'])\n",
        "# if gender_counts['males'] > gender_counts['females']:\n",
        "#     df_balanced = df.drop(df[df['gender'] == 'males'].sample(n=difference, random_state=42).index)\n",
        "# else:\n",
        "#     df_balanced = df.drop(df[df['gender'] == 'females'].sample(n=difference, random_state=42).index)\n",
        "\n",
        "#Split into train and test datasets\n",
        "X_train, X_test, y_train, y_test = train_test_split(df.drop(['gender'], axis=1), df['gender'], test_size=0.2)\n",
        "X_file, X_test_file = X_train[\"file\"], X_test[\"file\"]\n",
        "X_train.drop([\"file\"], inplace=True, axis=1)\n",
        "X_test.drop([\"file\"], inplace=True, axis=1)\n"
      ]
    },
    {
      "cell_type": "markdown",
      "metadata": {},
      "source": [
        "# $\\textit{EDA}$"
      ]
    },
    {
      "cell_type": "markdown",
      "metadata": {},
      "source": [
        "$\\textit{Observamos la media de los MFCCs de cada sexo}$"
      ]
    },
    {
      "cell_type": "code",
      "execution_count": 8,
      "metadata": {},
      "outputs": [
        {
          "data": {
            "text/plain": [
              "array([-343.47223  ,  114.533104 ,    6.7275085,   24.822563 ,\n",
              "         -2.9240904,   -3.0012898,  -10.198604 ,   -6.582154 ,\n",
              "         -6.681044 ,   -2.0333934,   -3.6331787,   -1.2945163],\n",
              "      dtype=float32)"
            ]
          },
          "metadata": {},
          "output_type": "display_data"
        },
        {
          "data": {
            "text/plain": [
              "array([-340.25763  ,  103.041245 ,   -1.7812202,   17.898232 ,\n",
              "        -11.310761 ,   -6.520376 ,  -11.09556  ,   -3.6568515,\n",
              "         -5.270185 ,   -3.3022828,   -4.401098 ,   -5.8295736],\n",
              "      dtype=float32)"
            ]
          },
          "metadata": {},
          "output_type": "display_data"
        }
      ],
      "source": [
        "# Get the mean mfcc coefficients for each class\n",
        "mean_mfcc_males = 0\n",
        "mean_mfcc_females = 0\n",
        "\n",
        "for i, person in df.iterrows():\n",
        "    for j in range(len(person[\"mfcc\"])//mfcc_coeff_amount):\n",
        "        if person[\"gender\"] == \"males\":\n",
        "            mean_mfcc_males += np.mean(np.array(person[\"mfcc\"]), axis=1)/num_males\n",
        "        else:\n",
        "            mean_mfcc_females += np.mean(person[\"mfcc\"], axis=1)/num_females\n",
        "\n",
        "display(mean_mfcc_males)\n",
        "display(mean_mfcc_females)"
      ]
    },
    {
      "cell_type": "markdown",
      "metadata": {},
      "source": [
        "# $\\textit{GMM Model}$"
      ]
    },
    {
      "cell_type": "code",
      "execution_count": 9,
      "metadata": {},
      "outputs": [],
      "source": [
        "X_male = np.concatenate(X_train.mfcc[y_train==\"males\"].to_numpy(), axis=1).T\n",
        "X_female = np.concatenate(X_train.mfcc[y_train==\"females\"].to_numpy(), axis=1).T\n",
        "X_test_male = np.concatenate(X_test.mfcc[y_test==\"males\"].to_numpy(), axis=1).T\n",
        "X_test_female = np.concatenate(X_test.mfcc[y_test==\"females\"].to_numpy(), axis=1).T"
      ]
    },
    {
      "cell_type": "code",
      "execution_count": 10,
      "metadata": {},
      "outputs": [
        {
          "data": {
            "text/html": [
              "<div>\n",
              "<style scoped>\n",
              "    .dataframe tbody tr th:only-of-type {\n",
              "        vertical-align: middle;\n",
              "    }\n",
              "\n",
              "    .dataframe tbody tr th {\n",
              "        vertical-align: top;\n",
              "    }\n",
              "\n",
              "    .dataframe thead th {\n",
              "        text-align: right;\n",
              "    }\n",
              "</style>\n",
              "<table border=\"1\" class=\"dataframe\">\n",
              "  <thead>\n",
              "    <tr style=\"text-align: right;\">\n",
              "      <th></th>\n",
              "      <th>mfcc</th>\n",
              "    </tr>\n",
              "  </thead>\n",
              "  <tbody>\n",
              "    <tr>\n",
              "      <th>125</th>\n",
              "      <td>[[-253.9736, -245.2692, -208.30064, -190.01471...</td>\n",
              "    </tr>\n",
              "    <tr>\n",
              "      <th>806</th>\n",
              "      <td>[[-238.91379, -293.34207, -310.96655, -344.191...</td>\n",
              "    </tr>\n",
              "    <tr>\n",
              "      <th>1913</th>\n",
              "      <td>[[-270.39877, -291.86215, -290.9572, -272.9552...</td>\n",
              "    </tr>\n",
              "    <tr>\n",
              "      <th>541</th>\n",
              "      <td>[[-311.46085, -302.79767, -295.96786, -283.214...</td>\n",
              "    </tr>\n",
              "    <tr>\n",
              "      <th>1409</th>\n",
              "      <td>[[-670.6, -674.7689, -678.25696, -673.78613, -...</td>\n",
              "    </tr>\n",
              "    <tr>\n",
              "      <th>...</th>\n",
              "      <td>...</td>\n",
              "    </tr>\n",
              "    <tr>\n",
              "      <th>2045</th>\n",
              "      <td>[[-406.45285, -424.31903, -415.06506, -408.157...</td>\n",
              "    </tr>\n",
              "    <tr>\n",
              "      <th>470</th>\n",
              "      <td>[[-423.89807, -425.35147, -420.25656, -413.991...</td>\n",
              "    </tr>\n",
              "    <tr>\n",
              "      <th>574</th>\n",
              "      <td>[[-344.30722, -318.333, -333.80325, -337.44037...</td>\n",
              "    </tr>\n",
              "    <tr>\n",
              "      <th>1175</th>\n",
              "      <td>[[-243.66579, -292.00616, -292.5662, -248.8679...</td>\n",
              "    </tr>\n",
              "    <tr>\n",
              "      <th>305</th>\n",
              "      <td>[[-172.52289, -176.3426, -175.7504, -184.1059,...</td>\n",
              "    </tr>\n",
              "  </tbody>\n",
              "</table>\n",
              "<p>469 rows × 1 columns</p>\n",
              "</div>"
            ],
            "text/plain": [
              "                                                   mfcc\n",
              "125   [[-253.9736, -245.2692, -208.30064, -190.01471...\n",
              "806   [[-238.91379, -293.34207, -310.96655, -344.191...\n",
              "1913  [[-270.39877, -291.86215, -290.9572, -272.9552...\n",
              "541   [[-311.46085, -302.79767, -295.96786, -283.214...\n",
              "1409  [[-670.6, -674.7689, -678.25696, -673.78613, -...\n",
              "...                                                 ...\n",
              "2045  [[-406.45285, -424.31903, -415.06506, -408.157...\n",
              "470   [[-423.89807, -425.35147, -420.25656, -413.991...\n",
              "574   [[-344.30722, -318.333, -333.80325, -337.44037...\n",
              "1175  [[-243.66579, -292.00616, -292.5662, -248.8679...\n",
              "305   [[-172.52289, -176.3426, -175.7504, -184.1059,...\n",
              "\n",
              "[469 rows x 1 columns]"
            ]
          },
          "execution_count": 10,
          "metadata": {},
          "output_type": "execute_result"
        }
      ],
      "source": [
        "X_test[y_test==\"females\"]"
      ]
    },
    {
      "cell_type": "markdown",
      "metadata": {},
      "source": [
        "$\\textit{Fit Models}$"
      ]
    },
    {
      "cell_type": "code",
      "execution_count": 11,
      "metadata": {},
      "outputs": [
        {
          "name": "stdout",
          "output_type": "stream",
          "text": [
            "File Found\n"
          ]
        },
        {
          "name": "stderr",
          "output_type": "stream",
          "text": [
            "c:\\Users\\Gonzalo\\AppData\\Local\\Programs\\Python\\Python310\\lib\\site-packages\\sklearn\\base.py:299: UserWarning: Trying to unpickle estimator GaussianMixture from version 1.4.2 when using version 1.2.1. This might lead to breaking code or invalid results. Use at your own risk. For more info please refer to:\n",
            "https://scikit-learn.org/stable/model_persistence.html#security-maintainability-limitations\n",
            "  warnings.warn(\n"
          ]
        }
      ],
      "source": [
        "from sklearn.mixture import GaussianMixture\n",
        "from sklearn.model_selection import GridSearchCV\n",
        "import pickle\n",
        "\n",
        "\n",
        "if not os.path.exists(f\"gmm_male_mfcc_{mfcc_coeff_amount}_{window_length}.pkl\"):\n",
        "    \n",
        "    gmm_male = GaussianMixture(n_components=mfcc_coeff_amount, covariance_type='full', max_iter=1000)\n",
        "    gmm_female = GaussianMixture(n_components=mfcc_coeff_amount, covariance_type='full', max_iter=1000)\n",
        "\n",
        "    gmm_male.fit(X_male)\n",
        "    gmm_female.fit(X_female)\n",
        "\n",
        "    with open(f\"gmm_male_mfcc_{mfcc_coeff_amount}_{window_length}.pkl\",'wb') as f:\n",
        "        pickle.dump(gmm_male,f)\n",
        "\n",
        "    with open(f\"gmm_female_mfcc_{mfcc_coeff_amount}_{window_length}.pkl\",'wb') as f:\n",
        "        pickle.dump(gmm_female,f)\n",
        "\n",
        "else:\n",
        "    print(\"File Found\")\n",
        "\n",
        "    with open(f\"gmm_male_mfcc_{mfcc_coeff_amount}_{window_length}.pkl\",'rb') as f:\n",
        "        gmm_male = pickle.load(f)\n",
        "\n",
        "    with open(f\"gmm_female_mfcc_{mfcc_coeff_amount}_{window_length}.pkl\",'rb') as f:\n",
        "        gmm_female = pickle.load(f)"
      ]
    },
    {
      "cell_type": "code",
      "execution_count": 24,
      "metadata": {},
      "outputs": [],
      "source": [
        "person = 1\n",
        "female_scores = gmm_female.score_samples(X_test.mfcc.iloc[person].T)\n",
        "male_scores = gmm_male.score_samples(X_test.mfcc.iloc[person].T)\n",
        "df_female = pd.DataFrame({'score': female_scores, 'gender': 'females'})\n",
        "df_male = pd.DataFrame({'score': male_scores, 'gender': 'males'})\n",
        "df_scores = pd.concat([df_female, df_male])"
      ]
    },
    {
      "cell_type": "markdown",
      "metadata": {},
      "source": [
        "$\\textit{Observamos la distribucion de los scores para cada trama de cada modelo}$"
      ]
    },
    {
      "cell_type": "code",
      "execution_count": 46,
      "metadata": {},
      "outputs": [
        {
          "data": {
            "image/png": "[encoded data removed]",
            "text/plain": [
              "<Figure size 640x480 with 1 Axes>"
            ]
          },
          "metadata": {},
          "output_type": "display_data"
        }
      ],
      "source": [
        "sns.kdeplot(data=df_scores, x='score', hue='gender', alpha=0.5, fill=True)\n",
        "plt.xlim((-80,-20));"
      ]
    },
    {
      "cell_type": "code",
      "execution_count": 25,
      "metadata": {},
      "outputs": [
        {
          "name": "stderr",
          "output_type": "stream",
          "text": [
            "C:\\Users\\Gonzalo\\AppData\\Local\\Temp\\ipykernel_16376\\3547964259.py:1: FutureWarning: The default dtype for empty Series will be 'object' instead of 'float64' in a future version. Specify a dtype explicitly to silence this warning.\n",
            "  scores_fgmm = pd.Series(index=y_test.index)\n",
            "C:\\Users\\Gonzalo\\AppData\\Local\\Temp\\ipykernel_16376\\3547964259.py:2: FutureWarning: The default dtype for empty Series will be 'object' instead of 'float64' in a future version. Specify a dtype explicitly to silence this warning.\n",
            "  scores_mgmm = pd.Series(index=y_test.index)\n"
          ]
        },
        {
          "data": {
            "text/plain": [
              "-53.78200751707135"
            ]
          },
          "metadata": {},
          "output_type": "display_data"
        },
        {
          "data": {
            "text/plain": [
              "-52.92488338848501"
            ]
          },
          "metadata": {},
          "output_type": "display_data"
        }
      ],
      "source": [
        "scores_fgmm = pd.Series(index=y_test.index)\n",
        "scores_mgmm = pd.Series(index=y_test.index)\n",
        "\n",
        "for index, row in X_test.iterrows():\n",
        "    mfcc = row['mfcc']\n",
        "    scores_fgmm[index] = gmm_female.score_samples(mfcc.T).mean()\n",
        "    scores_mgmm[index] = gmm_male.score_samples(mfcc.T).mean()\n",
        "\n",
        "mean_scoresf = scores_mgmm[y_test == \"females\"][:1000]\n",
        "mean_scoresm = scores_mgmm[y_test == \"males\"][:1000]\n",
        "df_female_mean = pd.DataFrame({'score': mean_scoresf, 'gender': 'females'})\n",
        "df_male_mean = pd.DataFrame({'score': mean_scoresm, 'gender': 'males'})\n",
        "df_scores_mean = pd.concat([df_female_mean, df_male_mean])\n",
        "\n",
        "display(scores_fgmm[y_test == \"males\"].mean())\n",
        "display(scores_fgmm[y_test == \"females\"].mean())"
      ]
    },
    {
      "cell_type": "code",
      "execution_count": 48,
      "metadata": {},
      "outputs": [
        {
          "data": {
            "image/png": "[encoded data removed]",
            "text/plain": [
              "<Figure size 640x480 with 1 Axes>"
            ]
          },
          "metadata": {},
          "output_type": "display_data"
        }
      ],
      "source": [
        "sns.kdeplot(data=df_scores_mean, x='score', hue='gender', alpha=0.5, fill=True);"
      ]
    },
    {
      "cell_type": "markdown",
      "metadata": {},
      "source": [
        "$\\textit{Probamos el modelo sobre el test}$"
      ]
    },
    {
      "cell_type": "code",
      "execution_count": 27,
      "metadata": {},
      "outputs": [
        {
          "name": "stdout",
          "output_type": "stream",
          "text": [
            "Accuracy: 90.99%\n"
          ]
        }
      ],
      "source": [
        "predictions = []\n",
        "for index in y_test.index:\n",
        "    if scores_mgmm[index] > scores_fgmm[index]:\n",
        "        predictions.append('males')\n",
        "    else:\n",
        "        predictions.append('females')\n",
        "\n",
        "# Convert predictions to a pandas Series\n",
        "predictions = pd.Series(predictions, index=y_test.index)\n",
        "\n",
        "# Calculate the accuracy\n",
        "accuracy = (predictions == y_test).mean()\n",
        "\n",
        "# Print the accuracy\n",
        "print(f'Accuracy: {accuracy * 100:.2f}%')"
      ]
    },
    {
      "cell_type": "markdown",
      "metadata": {},
      "source": [
        "$\\textit{Probamos el modelo en tiempo real}$"
      ]
    },
    {
      "cell_type": "code",
      "execution_count": 103,
      "metadata": {},
      "outputs": [],
      "source": [
        "import pyaudio\n",
        "from IPython.display import update_display\n",
        "\n",
        "Chunk = 1024 * 8\n",
        "format = pyaudio.paFloat32\n",
        "channels = 1\n",
        "rate = 16000"
      ]
    },
    {
      "cell_type": "code",
      "execution_count": 104,
      "metadata": {},
      "outputs": [],
      "source": [
        "def predict_male(features):\n",
        "    score = gmm_male.score_samples(features).mean() - gmm_female.score_samples(features).mean()\n",
        "    return f\"male?: {score>0}, score: {score}\""
      ]
    },
    {
      "cell_type": "code",
      "execution_count": 157,
      "metadata": {},
      "outputs": [
        {
          "data": {
            "text/plain": [
              "'male?: True, score: 1.9054043463292132'"
            ]
          },
          "metadata": {},
          "output_type": "display_data"
        },
        {
          "ename": "KeyboardInterrupt",
          "evalue": "",
          "output_type": "error",
          "traceback": [
            "\u001b[1;31m---------------------------------------------------------------------------\u001b[0m",
            "\u001b[1;31mKeyboardInterrupt\u001b[0m                         Traceback (most recent call last)",
            "Cell \u001b[1;32mIn[157], line 14\u001b[0m\n\u001b[0;32m     12\u001b[0m display(result, display_id\u001b[38;5;241m=\u001b[39m\u001b[38;5;124m\"\u001b[39m\u001b[38;5;124mres\u001b[39m\u001b[38;5;124m\"\u001b[39m)\n\u001b[0;32m     13\u001b[0m \u001b[38;5;28;01mwhile\u001b[39;00m \u001b[38;5;28;01mTrue\u001b[39;00m:\n\u001b[1;32m---> 14\u001b[0m     data \u001b[38;5;241m=\u001b[39m \u001b[43mstream\u001b[49m\u001b[38;5;241;43m.\u001b[39;49m\u001b[43mread\u001b[49m\u001b[43m(\u001b[49m\u001b[43mChunk\u001b[49m\u001b[43m)\u001b[49m\n\u001b[0;32m     15\u001b[0m     data_int \u001b[38;5;241m=\u001b[39m np\u001b[38;5;241m.\u001b[39mfrombuffer(data, dtype\u001b[38;5;241m=\u001b[39mnp\u001b[38;5;241m.\u001b[39mfloat32)\n\u001b[0;32m     16\u001b[0m     features \u001b[38;5;241m=\u001b[39m librosa\u001b[38;5;241m.\u001b[39mfeature\u001b[38;5;241m.\u001b[39mmfcc(y\u001b[38;5;241m=\u001b[39mdata_int, sr\u001b[38;5;241m=\u001b[39m\u001b[38;5;241m16000\u001b[39m, n_mfcc\u001b[38;5;241m=\u001b[39mmfcc_coeff_amount, window\u001b[38;5;241m=\u001b[39mss\u001b[38;5;241m.\u001b[39mwindows\u001b[38;5;241m.\u001b[39mhamming, win_length\u001b[38;5;241m=\u001b[39mwindow_length, hop_length\u001b[38;5;241m=\u001b[39mwindow_length\u001b[38;5;241m/\u001b[39m\u001b[38;5;241m/\u001b[39m\u001b[38;5;241m2\u001b[39m)\u001b[38;5;241m.\u001b[39mT\n",
            "File \u001b[1;32mc:\\Users\\Gonzalo\\AppData\\Local\\Programs\\Python\\Python310\\lib\\site-packages\\pyaudio\\__init__.py:570\u001b[0m, in \u001b[0;36mPyAudio.Stream.read\u001b[1;34m(self, num_frames, exception_on_overflow)\u001b[0m\n\u001b[0;32m    567\u001b[0m \u001b[38;5;28;01mif\u001b[39;00m \u001b[38;5;129;01mnot\u001b[39;00m \u001b[38;5;28mself\u001b[39m\u001b[38;5;241m.\u001b[39m_is_input:\n\u001b[0;32m    568\u001b[0m     \u001b[38;5;28;01mraise\u001b[39;00m \u001b[38;5;167;01mIOError\u001b[39;00m(\u001b[38;5;124m\"\u001b[39m\u001b[38;5;124mNot input stream\u001b[39m\u001b[38;5;124m\"\u001b[39m,\n\u001b[0;32m    569\u001b[0m                   paCanNotReadFromAnOutputOnlyStream)\n\u001b[1;32m--> 570\u001b[0m \u001b[38;5;28;01mreturn\u001b[39;00m \u001b[43mpa\u001b[49m\u001b[38;5;241;43m.\u001b[39;49m\u001b[43mread_stream\u001b[49m\u001b[43m(\u001b[49m\u001b[38;5;28;43mself\u001b[39;49m\u001b[38;5;241;43m.\u001b[39;49m\u001b[43m_stream\u001b[49m\u001b[43m,\u001b[49m\u001b[43m \u001b[49m\u001b[43mnum_frames\u001b[49m\u001b[43m,\u001b[49m\n\u001b[0;32m    571\u001b[0m \u001b[43m                      \u001b[49m\u001b[43mexception_on_overflow\u001b[49m\u001b[43m)\u001b[49m\n",
            "\u001b[1;31mKeyboardInterrupt\u001b[0m: "
          ]
        }
      ],
      "source": [
        "p = pyaudio.PyAudio()\n",
        "\n",
        "stream = p.open(\n",
        "    format=format,\n",
        "    channels=channels,\n",
        "    rate=rate,\n",
        "    input=True,\n",
        "    output=True,\n",
        "    frames_per_buffer=Chunk,\n",
        ")\n",
        "result = \"male\"\n",
        "display(result, display_id=\"res\")\n",
        "while True:\n",
        "    data = stream.read(Chunk)\n",
        "    data_int = np.frombuffer(data, dtype=np.float32)\n",
        "    features = librosa.feature.mfcc(y=data_int, sr=16000, n_mfcc=mfcc_coeff_amount, window=ss.windows.hamming, win_length=window_length, hop_length=window_length//2).T\n",
        "    update_display(predict_male(features), display_id=\"res\")\n",
        "\n"
      ]
    }
  ],
  "metadata": {
    "kernelspec": {
      "display_name": "base",
      "language": "python",
      "name": "python3"
    },
    "language_info": {
      "codemirror_mode": {
        "name": "ipython",
        "version": 3
      },
      "file_extension": ".py",
      "mimetype": "text/x-python",
      "name": "python",
      "nbconvert_exporter": "python",
      "pygments_lexer": "ipython3",
      "version": "3.10.9"
    }
  },
  "nbformat": 4,
  "nbformat_minor": 2
}
