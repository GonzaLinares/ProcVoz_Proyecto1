{
  "cells": [
    {
      "cell_type": "markdown",
      "metadata": {},
      "source": [
        "# $\\textit{Detección por voz de sexo}$"
      ]
    },
    {
      "cell_type": "markdown",
      "metadata": {},
      "source": [
        "$\\textit{By Bautista Schneeberger, Agustin Gullino y Gonzalo Linares}$"
      ]
    },
    {
      "cell_type": "code",
      "execution_count": 1,
      "metadata": {},
      "outputs": [
        {
          "name": "stdout",
          "output_type": "stream",
          "text": [
            "Dataset already downloaded.\n"
          ]
        }
      ],
      "source": [
        "import os\n",
        "\n",
        "if not os.path.exists(\"VoxCeleb_gender\"):\n",
        "    !pip install gdown pydub librosa\n",
        "    !gdown https://drive.google.com/uc?id=1V3lNnSDv71AJYIj71V4_xD0ir0DrXxEV\n",
        "    !tar -xf VoxCeleb_gender.zip #!tar -xf VoxCeleb_gender.zip\n",
        "    !del VoxCeleb_gender.zip     #!del\n",
        "\n",
        "else:\n",
        "    print(\"Dataset already downloaded.\")"
      ]
    },
    {
      "cell_type": "markdown",
      "metadata": {},
      "source": [
        "$\\textit{Implementación del cálculo de los MFCCs}$"
      ]
    },
    {
      "cell_type": "code",
      "execution_count": 39,
      "metadata": {},
      "outputs": [],
      "source": [
        "import librosa\n",
        "import scipy.signal as ss\n",
        "import numpy as np\n",
        "import pandas as pd\n",
        "import matplotlib.pyplot as plt\n",
        "import os\n",
        "import seaborn as sns\n",
        "sns.set_theme()\n",
        "\n",
        "def extract_mfcc(file_path, n_mfcc=12, win_length=320, hop_length=160):\n",
        "    wave, sr = librosa.load(file_path, mono=True, sr=None)\n",
        "    if sr != 16000:\n",
        "        wave = librosa.resample(wave, sr, 16000)\n",
        "    mfcc = librosa.feature.mfcc(y=wave, sr=16000, n_mfcc=n_mfcc, window=ss.windows.hamming, win_length=win_length, hop_length=hop_length)\n",
        "    return mfcc"
      ]
    },
    {
      "cell_type": "markdown",
      "metadata": {},
      "source": [
        "$\\textit{Elegimos la cantidad de MFCCs y tamaño de la trama}$"
      ]
    },
    {
      "cell_type": "code",
      "execution_count": 40,
      "metadata": {},
      "outputs": [],
      "source": [
        "mfcc_coeff_amount = 24\n",
        "n_components = 10\n",
        "window_length = int(16000*0.02)"
      ]
    },
    {
      "cell_type": "code",
      "execution_count": 41,
      "metadata": {},
      "outputs": [
        {
          "name": "stdout",
          "output_type": "stream",
          "text": [
            "File Found\n"
          ]
        }
      ],
      "source": [
        "arr = []\n",
        "if not os.path.exists(f\"mfcc_{mfcc_coeff_amount}_{window_length}.pkl\"):\n",
        "\n",
        "    aux = []\n",
        "\n",
        "    for (dirpath, dirnames, filenames) in os.walk(\"VoxCeleb_gender\"):\n",
        "        for filename in filenames:\n",
        "            if filename.endswith(\".wav\"):\n",
        "                filepath = dirpath + \"/\" + filename\n",
        "                aux.append({\"file\": filepath, \"gender\": \"females\" if \"females\" in dirpath else \"males\"})\n",
        "\n",
        "    df = pd.DataFrame(aux)\n",
        "\n",
        "    df[\"mfcc\"] = pd.Series(name=\"mfcc\", dtype=object)\n",
        "\n",
        "    for i in range(len(df)):\n",
        "        mfcc_coeffs = extract_mfcc(df.loc[i, \"file\"], n_mfcc=mfcc_coeff_amount, win_length=window_length)\n",
        "        for i, coeffs in enumerate(mfcc_coeffs):\n",
        "            if np.linalg.norm(coeffs) < 1:\n",
        "                mfcc_coeffs.pop(i)\n",
        "        arr.append(mfcc_coeffs)\n",
        "    df[\"mfcc\"] = arr\n",
        "    df.to_pickle(f\"mfcc_{mfcc_coeff_amount}_{window_length}.pkl\")\n",
        "else:\n",
        "    print(\"File Found\")\n",
        "    df = pd.read_pickle(f\"mfcc_{mfcc_coeff_amount}_{window_length}.pkl\")\n",
        "\n",
        "\n",
        "num_males = len(df.loc[df.gender == \"males\"] )           \n",
        "num_females = len(df.loc[df.gender == \"females\"] )              "
      ]
    },
    {
      "cell_type": "code",
      "execution_count": 42,
      "metadata": {},
      "outputs": [
        {
          "name": "stdout",
          "output_type": "stream",
          "text": [
            "Number of males:  3682\n",
            "Number of females:  2311\n"
          ]
        }
      ],
      "source": [
        "print(\"Number of males: \", num_males)\n",
        "print(\"Number of females: \", num_females)"
      ]
    },
    {
      "cell_type": "code",
      "execution_count": 43,
      "metadata": {},
      "outputs": [
        {
          "data": {
            "text/html": [
              "<div>\n",
              "<style scoped>\n",
              "    .dataframe tbody tr th:only-of-type {\n",
              "        vertical-align: middle;\n",
              "    }\n",
              "\n",
              "    .dataframe tbody tr th {\n",
              "        vertical-align: top;\n",
              "    }\n",
              "\n",
              "    .dataframe thead th {\n",
              "        text-align: right;\n",
              "    }\n",
              "</style>\n",
              "<table border=\"1\" class=\"dataframe\">\n",
              "  <thead>\n",
              "    <tr style=\"text-align: right;\">\n",
              "      <th></th>\n",
              "      <th>file</th>\n",
              "      <th>gender</th>\n",
              "      <th>mfcc</th>\n",
              "    </tr>\n",
              "  </thead>\n",
              "  <tbody>\n",
              "    <tr>\n",
              "      <th>0</th>\n",
              "      <td>VoxCeleb_gender/males/2067.wav</td>\n",
              "      <td>males</td>\n",
              "      <td>[[-478.53528, -459.50067, -454.37323, -453.799...</td>\n",
              "    </tr>\n",
              "    <tr>\n",
              "      <th>1</th>\n",
              "      <td>VoxCeleb_gender/males/3436.wav</td>\n",
              "      <td>males</td>\n",
              "      <td>[[-364.4941, -336.15237, -331.1945, -331.9108,...</td>\n",
              "    </tr>\n",
              "    <tr>\n",
              "      <th>2</th>\n",
              "      <td>VoxCeleb_gender/males/952.wav</td>\n",
              "      <td>males</td>\n",
              "      <td>[[-379.75958, -377.99985, -384.4355, -409.9080...</td>\n",
              "    </tr>\n",
              "    <tr>\n",
              "      <th>3</th>\n",
              "      <td>VoxCeleb_gender/males/920.wav</td>\n",
              "      <td>males</td>\n",
              "      <td>[[-590.7042, -599.7578, -625.10205, -613.7978,...</td>\n",
              "    </tr>\n",
              "    <tr>\n",
              "      <th>4</th>\n",
              "      <td>VoxCeleb_gender/males/3277.wav</td>\n",
              "      <td>males</td>\n",
              "      <td>[[-163.64647, -193.33449, -166.30594, -163.021...</td>\n",
              "    </tr>\n",
              "    <tr>\n",
              "      <th>...</th>\n",
              "      <td>...</td>\n",
              "      <td>...</td>\n",
              "      <td>...</td>\n",
              "    </tr>\n",
              "    <tr>\n",
              "      <th>5988</th>\n",
              "      <td>VoxCeleb_gender/females/396.wav</td>\n",
              "      <td>females</td>\n",
              "      <td>[[-280.3726, -254.26328, -266.97034, -255.1885...</td>\n",
              "    </tr>\n",
              "    <tr>\n",
              "      <th>5989</th>\n",
              "      <td>VoxCeleb_gender/females/1239.wav</td>\n",
              "      <td>females</td>\n",
              "      <td>[[-301.9855, -270.2528, -297.23227, -305.43774...</td>\n",
              "    </tr>\n",
              "    <tr>\n",
              "      <th>5990</th>\n",
              "      <td>VoxCeleb_gender/females/136.wav</td>\n",
              "      <td>females</td>\n",
              "      <td>[[-396.32053, -393.2348, -391.1963, -403.0387,...</td>\n",
              "    </tr>\n",
              "    <tr>\n",
              "      <th>5991</th>\n",
              "      <td>VoxCeleb_gender/females/1563.wav</td>\n",
              "      <td>females</td>\n",
              "      <td>[[-218.55516, -289.2457, -299.86298, -319.1746...</td>\n",
              "    </tr>\n",
              "    <tr>\n",
              "      <th>5992</th>\n",
              "      <td>VoxCeleb_gender/females/680.wav</td>\n",
              "      <td>females</td>\n",
              "      <td>[[-171.71411, -174.19716, -212.05412, -201.280...</td>\n",
              "    </tr>\n",
              "  </tbody>\n",
              "</table>\n",
              "<p>5993 rows × 3 columns</p>\n",
              "</div>"
            ],
            "text/plain": [
              "                                  file   gender  \\\n",
              "0       VoxCeleb_gender/males/2067.wav    males   \n",
              "1       VoxCeleb_gender/males/3436.wav    males   \n",
              "2        VoxCeleb_gender/males/952.wav    males   \n",
              "3        VoxCeleb_gender/males/920.wav    males   \n",
              "4       VoxCeleb_gender/males/3277.wav    males   \n",
              "...                                ...      ...   \n",
              "5988   VoxCeleb_gender/females/396.wav  females   \n",
              "5989  VoxCeleb_gender/females/1239.wav  females   \n",
              "5990   VoxCeleb_gender/females/136.wav  females   \n",
              "5991  VoxCeleb_gender/females/1563.wav  females   \n",
              "5992   VoxCeleb_gender/females/680.wav  females   \n",
              "\n",
              "                                                   mfcc  \n",
              "0     [[-478.53528, -459.50067, -454.37323, -453.799...  \n",
              "1     [[-364.4941, -336.15237, -331.1945, -331.9108,...  \n",
              "2     [[-379.75958, -377.99985, -384.4355, -409.9080...  \n",
              "3     [[-590.7042, -599.7578, -625.10205, -613.7978,...  \n",
              "4     [[-163.64647, -193.33449, -166.30594, -163.021...  \n",
              "...                                                 ...  \n",
              "5988  [[-280.3726, -254.26328, -266.97034, -255.1885...  \n",
              "5989  [[-301.9855, -270.2528, -297.23227, -305.43774...  \n",
              "5990  [[-396.32053, -393.2348, -391.1963, -403.0387,...  \n",
              "5991  [[-218.55516, -289.2457, -299.86298, -319.1746...  \n",
              "5992  [[-171.71411, -174.19716, -212.05412, -201.280...  \n",
              "\n",
              "[5993 rows x 3 columns]"
            ]
          },
          "metadata": {},
          "output_type": "display_data"
        }
      ],
      "source": [
        "display(df) #Cada fila tiene los datos de un audio, cada columna mfcc contiene n_mfcc x timesteps "
      ]
    },
    {
      "cell_type": "markdown",
      "metadata": {},
      "source": [
        "$\\textit{Separamos entre train y test}$"
      ]
    },
    {
      "cell_type": "code",
      "execution_count": 44,
      "metadata": {},
      "outputs": [],
      "source": [
        "from sklearn.model_selection import train_test_split\n",
        "\n",
        "#Equalize number of gender in dataset\n",
        "# gender_counts = df['gender'].value_counts()\n",
        "# difference = abs(gender_counts['males'] - gender_counts['females'])\n",
        "# if gender_counts['males'] > gender_counts['females']:\n",
        "#     df_balanced = df.drop(df[df['gender'] == 'males'].sample(n=difference, random_state=42).index)\n",
        "# else:\n",
        "#     df_balanced = df.drop(df[df['gender'] == 'females'].sample(n=difference, random_state=42).index)\n",
        "\n",
        "#Split into train and test datasets\n",
        "X_train, X_test, y_train, y_test = train_test_split(df.drop(['gender'], axis=1), df['gender'], test_size=0.2)\n",
        "X_file, X_test_file = X_train[\"file\"], X_test[\"file\"]\n",
        "X_train.drop([\"file\"], inplace=True, axis=1)\n",
        "X_test.drop([\"file\"], inplace=True, axis=1)\n"
      ]
    },
    {
      "cell_type": "markdown",
      "metadata": {},
      "source": [
        "# $\\textit{EDA}$"
      ]
    },
    {
      "cell_type": "markdown",
      "metadata": {},
      "source": [
        "$\\textit{Observamos la media de los MFCCs de cada sexo}$"
      ]
    },
    {
      "cell_type": "code",
      "execution_count": 45,
      "metadata": {},
      "outputs": [
        {
          "data": {
            "text/plain": [
              "array([-343.47592  ,  114.5287   ,    6.7193666,   24.8168   ,\n",
              "         -2.9294763,   -3.0019794,  -10.199322 ,   -6.5843744,\n",
              "         -6.681044 ,   -2.037037 ,   -3.63324  ,   -1.2979463,\n",
              "         -5.9663887,    1.0028199,   -4.876493 ,   -3.8429627,\n",
              "         -3.3035378,   -2.4817235,   -5.4875865,   -1.2745112,\n",
              "         -4.0380993,   -2.5271084,   -2.8321216,   -1.6360161],\n",
              "      dtype=float32)"
            ]
          },
          "metadata": {},
          "output_type": "display_data"
        },
        {
          "data": {
            "text/plain": [
              "array([-3.4026294e+02,  1.0303488e+02, -1.7889943e+00,  1.7891953e+01,\n",
              "       -1.1314263e+01, -6.5218291e+00, -1.1096679e+01, -3.6596124e+00,\n",
              "       -5.2710891e+00, -3.3059134e+00, -4.4010148e+00, -5.8313870e+00,\n",
              "       -2.3112788e+00, -4.0010505e+00, -7.4459004e+00, -1.4462051e+00,\n",
              "       -6.0028410e+00, -2.9514472e+00, -3.8211286e+00, -2.7313452e+00,\n",
              "       -3.7229977e+00, -8.2190895e-01, -3.0793715e+00, -8.7776802e-02],\n",
              "      dtype=float32)"
            ]
          },
          "metadata": {},
          "output_type": "display_data"
        }
      ],
      "source": [
        "# Get the mean mfcc coefficients for each class\n",
        "mean_mfcc_males = 0\n",
        "mean_mfcc_females = 0\n",
        "\n",
        "for i, person in df.iterrows():\n",
        "    for j in range(len(person[\"mfcc\"])//mfcc_coeff_amount):\n",
        "        if person[\"gender\"] == \"males\":\n",
        "            mean_mfcc_males += np.mean(np.array(person[\"mfcc\"]), axis=1)/num_males\n",
        "        else:\n",
        "            mean_mfcc_females += np.mean(person[\"mfcc\"], axis=1)/num_females\n",
        "\n",
        "display(mean_mfcc_males)\n",
        "display(mean_mfcc_females)"
      ]
    },
    {
      "cell_type": "markdown",
      "metadata": {},
      "source": [
        "# $\\textit{GMM Model}$"
      ]
    },
    {
      "cell_type": "code",
      "execution_count": 46,
      "metadata": {},
      "outputs": [],
      "source": [
        "X_male = np.concatenate(X_train.mfcc[y_train==\"males\"].to_numpy(), axis=1).T\n",
        "X_female = np.concatenate(X_train.mfcc[y_train==\"females\"].to_numpy(), axis=1).T\n",
        "X_test_male = np.concatenate(X_test.mfcc[y_test==\"males\"].to_numpy(), axis=1).T\n",
        "X_test_female = np.concatenate(X_test.mfcc[y_test==\"females\"].to_numpy(), axis=1).T"
      ]
    },
    {
      "cell_type": "code",
      "execution_count": 47,
      "metadata": {},
      "outputs": [
        {
          "data": {
            "text/html": [
              "<div>\n",
              "<style scoped>\n",
              "    .dataframe tbody tr th:only-of-type {\n",
              "        vertical-align: middle;\n",
              "    }\n",
              "\n",
              "    .dataframe tbody tr th {\n",
              "        vertical-align: top;\n",
              "    }\n",
              "\n",
              "    .dataframe thead th {\n",
              "        text-align: right;\n",
              "    }\n",
              "</style>\n",
              "<table border=\"1\" class=\"dataframe\">\n",
              "  <thead>\n",
              "    <tr style=\"text-align: right;\">\n",
              "      <th></th>\n",
              "      <th>mfcc</th>\n",
              "    </tr>\n",
              "  </thead>\n",
              "  <tbody>\n",
              "    <tr>\n",
              "      <th>3963</th>\n",
              "      <td>[[-530.48474, -507.7642, -515.70404, -516.8456...</td>\n",
              "    </tr>\n",
              "    <tr>\n",
              "      <th>5847</th>\n",
              "      <td>[[-271.61725, -326.32086, -389.34912, -401.225...</td>\n",
              "    </tr>\n",
              "    <tr>\n",
              "      <th>5771</th>\n",
              "      <td>[[-369.6868, -351.97678, -346.01227, -353.9415...</td>\n",
              "    </tr>\n",
              "    <tr>\n",
              "      <th>4030</th>\n",
              "      <td>[[-588.25275, -563.6342, -558.8579, -569.8467,...</td>\n",
              "    </tr>\n",
              "    <tr>\n",
              "      <th>5437</th>\n",
              "      <td>[[-394.92505, -378.47043, -348.83762, -322.028...</td>\n",
              "    </tr>\n",
              "    <tr>\n",
              "      <th>...</th>\n",
              "      <td>...</td>\n",
              "    </tr>\n",
              "    <tr>\n",
              "      <th>4571</th>\n",
              "      <td>[[-270.29736, -285.67096, -261.95413, -238.298...</td>\n",
              "    </tr>\n",
              "    <tr>\n",
              "      <th>4148</th>\n",
              "      <td>[[-281.78058, -323.96292, -326.417, -329.52835...</td>\n",
              "    </tr>\n",
              "    <tr>\n",
              "      <th>3682</th>\n",
              "      <td>[[-695.8884, -682.8564, -676.40155, -637.6625,...</td>\n",
              "    </tr>\n",
              "    <tr>\n",
              "      <th>4207</th>\n",
              "      <td>[[-703.78723, -687.34314, -671.3913, -675.2498...</td>\n",
              "    </tr>\n",
              "    <tr>\n",
              "      <th>5110</th>\n",
              "      <td>[[-317.43695, -288.13907, -308.05734, -291.427...</td>\n",
              "    </tr>\n",
              "  </tbody>\n",
              "</table>\n",
              "<p>428 rows × 1 columns</p>\n",
              "</div>"
            ],
            "text/plain": [
              "                                                   mfcc\n",
              "3963  [[-530.48474, -507.7642, -515.70404, -516.8456...\n",
              "5847  [[-271.61725, -326.32086, -389.34912, -401.225...\n",
              "5771  [[-369.6868, -351.97678, -346.01227, -353.9415...\n",
              "4030  [[-588.25275, -563.6342, -558.8579, -569.8467,...\n",
              "5437  [[-394.92505, -378.47043, -348.83762, -322.028...\n",
              "...                                                 ...\n",
              "4571  [[-270.29736, -285.67096, -261.95413, -238.298...\n",
              "4148  [[-281.78058, -323.96292, -326.417, -329.52835...\n",
              "3682  [[-695.8884, -682.8564, -676.40155, -637.6625,...\n",
              "4207  [[-703.78723, -687.34314, -671.3913, -675.2498...\n",
              "5110  [[-317.43695, -288.13907, -308.05734, -291.427...\n",
              "\n",
              "[428 rows x 1 columns]"
            ]
          },
          "execution_count": 47,
          "metadata": {},
          "output_type": "execute_result"
        }
      ],
      "source": [
        "X_test[y_test==\"females\"]"
      ]
    },
    {
      "cell_type": "markdown",
      "metadata": {},
      "source": [
        "$\\textit{Fit Models}$"
      ]
    },
    {
      "cell_type": "code",
      "execution_count": 48,
      "metadata": {},
      "outputs": [],
      "source": [
        "from sklearn.mixture import GaussianMixture\n",
        "from sklearn.model_selection import GridSearchCV\n",
        "import pickle\n",
        "\n",
        "\n",
        "if not os.path.exists(f\"gmm_male_mfcc_{mfcc_coeff_amount}_{window_length}_{n_components}.pkl\"):\n",
        "    \n",
        "    gmm_male = GaussianMixture(n_components=n_components, covariance_type='full', max_iter=1000)\n",
        "    gmm_female = GaussianMixture(n_components=n_components, covariance_type='full', max_iter=1000)\n",
        "\n",
        "    gmm_male.fit(X_male)\n",
        "    gmm_female.fit(X_female)\n",
        "\n",
        "    with open(f\"gmm_male_mfcc_{mfcc_coeff_amount}_{window_length}_{n_components}.pkl\",'wb') as f:\n",
        "        pickle.dump(gmm_male,f)\n",
        "\n",
        "    with open(f\"gmm_female_mfcc_{mfcc_coeff_amount}_{window_length}_{n_components}.pkl\",'wb') as f:\n",
        "        pickle.dump(gmm_female,f)\n",
        "\n",
        "else:\n",
        "    print(\"File Found\")\n",
        "\n",
        "    with open(f\"gmm_male_mfcc_{mfcc_coeff_amount}_{window_length}_{n_components}.pkl\",'rb') as f:\n",
        "        gmm_male = pickle.load(f)\n",
        "\n",
        "    with open(f\"gmm_female_mfcc_{mfcc_coeff_amount}_{window_length}_{n_components}.pkl\",'rb') as f:\n",
        "        gmm_female = pickle.load(f)"
      ]
    },
    {
      "cell_type": "code",
      "execution_count": null,
      "metadata": {},
      "outputs": [],
      "source": [
        "def predict_male(features):\n",
        "    score = gmm_male.score_samples(features).mean() - gmm_female.score_samples(features).mean()\n",
        "    return score"
      ]
    },
    {
      "cell_type": "markdown",
      "metadata": {},
      "source": [
        "$\\textit{Observamos la distribucion de los scores para cada trama de cada modelo}$"
      ]
    },
    {
      "cell_type": "code",
      "execution_count": null,
      "metadata": {},
      "outputs": [
        {
          "name": "stderr",
          "output_type": "stream",
          "text": [
            "/tmp/ipykernel_7581/2736226549.py:1: FutureWarning: The default dtype for empty Series will be 'object' instead of 'float64' in a future version. Specify a dtype explicitly to silence this warning.\n",
            "  scores_fgmm = pd.Series(index=y_test.index)\n",
            "/tmp/ipykernel_7581/2736226549.py:2: FutureWarning: The default dtype for empty Series will be 'object' instead of 'float64' in a future version. Specify a dtype explicitly to silence this warning.\n",
            "  scores_mgmm = pd.Series(index=y_test.index)\n"
          ]
        },
        {
          "data": {
            "text/plain": [
              "0.9514625080049518"
            ]
          },
          "metadata": {},
          "output_type": "display_data"
        },
        {
          "data": {
            "text/plain": [
              "-0.882378835686043"
            ]
          },
          "metadata": {},
          "output_type": "display_data"
        }
      ],
      "source": [
        "scores_fgmm = pd.Series(index=y_test.index)\n",
        "scores_mgmm = pd.Series(index=y_test.index)\n",
        "\n",
        "for index, row in X_test.iterrows():\n",
        "    mfcc = row['mfcc']\n",
        "    scores_fgmm[index] = predict_male(mfcc.T).mean()\n",
        "    scores_mgmm[index] = predict_male(mfcc.T).mean()\n",
        "\n",
        "mean_scoresf = scores_mgmm[y_test == \"females\"][:1000]\n",
        "mean_scoresm = scores_mgmm[y_test == \"males\"][:1000]\n",
        "df_female_mean = pd.DataFrame({'score': mean_scoresf, 'gender': 'females'})\n",
        "df_male_mean = pd.DataFrame({'score': mean_scoresm, 'gender': 'males'})\n",
        "df_scores_mean = pd.concat([df_female_mean, df_male_mean])\n",
        "\n",
        "display(scores_fgmm[y_test == \"males\"].mean())\n",
        "display(scores_fgmm[y_test == \"females\"].mean())"
      ]
    },
    {
      "cell_type": "code",
      "execution_count": null,
      "metadata": {},
      "outputs": [
        {
          "data": {
            "image/png": "[encoded data removed]",
            "text/plain": [
              "<Figure size 640x480 with 1 Axes>"
            ]
          },
          "metadata": {},
          "output_type": "display_data"
        }
      ],
      "source": [
        "sns.kdeplot(data=df_scores_mean, x='score', hue='gender', alpha=0.5, fill=True, common_norm=False);"
      ]
    },
    {
      "cell_type": "markdown",
      "metadata": {},
      "source": [
        "$\\textit{Probamos el modelo sobre el test}$"
      ]
    },
    {
      "cell_type": "code",
      "execution_count": null,
      "metadata": {},
      "outputs": [
        {
          "name": "stdout",
          "output_type": "stream",
          "text": [
            "Accuracy: 90.91%\n"
          ]
        }
      ],
      "source": [
        "predictions = []\n",
        "for index in y_test.index:\n",
        "    if scores_mgmm[index] > scores_fgmm[index]:\n",
        "        predictions.append('males')\n",
        "    else:\n",
        "        predictions.append('females')\n",
        "\n",
        "# Convert predictions to a pandas Series\n",
        "predictions = pd.Series(predictions, index=y_test.index)\n",
        "\n",
        "# Calculate the accuracy\n",
        "accuracy = (predictions == y_test).mean()\n",
        "\n",
        "# Print the accuracy\n",
        "print(f'Accuracy: {accuracy * 100:.2f}%')"
      ]
    },
    {
      "cell_type": "markdown",
      "metadata": {},
      "source": [
        "$\\textit{Probamos el modelo en tiempo real}$"
      ]
    },
    {
      "cell_type": "code",
      "execution_count": null,
      "metadata": {},
      "outputs": [],
      "source": [
        "import pyaudio\n",
        "from IPython.display import update_display\n",
        "\n",
        "Chunk = 1024 * 8\n",
        "format = pyaudio.paFloat32\n",
        "channels = 1\n",
        "rate = 16000"
      ]
    },
    {
      "cell_type": "code",
      "execution_count": null,
      "metadata": {},
      "outputs": [
        {
          "name": "stderr",
          "output_type": "stream",
          "text": [
            "ALSA lib pcm.c:2721:(snd_pcm_open_noupdate) Unknown PCM cards.pcm.rear\n",
            "ALSA lib pcm.c:2721:(snd_pcm_open_noupdate) Unknown PCM cards.pcm.center_lfe\n",
            "ALSA lib pcm.c:2721:(snd_pcm_open_noupdate) Unknown PCM cards.pcm.side\n",
            "ALSA lib confmisc.c:1377:(snd_func_refer) Unable to find definition 'cards.0.pcm.iec958.0:CARD=0,AES0=4,AES1=130,AES2=0,AES3=2'\n",
            "ALSA lib conf.c:5204:(_snd_config_evaluate) function snd_func_refer returned error: No such file or directory\n",
            "ALSA lib conf.c:5727:(snd_config_expand) Evaluate error: No such file or directory\n",
            "ALSA lib pcm.c:2721:(snd_pcm_open_noupdate) Unknown PCM iec958\n",
            "ALSA lib confmisc.c:1377:(snd_func_refer) Unable to find definition 'cards.0.pcm.iec958.0:CARD=0,AES0=4,AES1=130,AES2=0,AES3=2'\n",
            "ALSA lib conf.c:5204:(_snd_config_evaluate) function snd_func_refer returned error: No such file or directory\n",
            "ALSA lib conf.c:5727:(snd_config_expand) Evaluate error: No such file or directory\n",
            "ALSA lib pcm.c:2721:(snd_pcm_open_noupdate) Unknown PCM spdif\n",
            "ALSA lib confmisc.c:1377:(snd_func_refer) Unable to find definition 'cards.0.pcm.iec958.0:CARD=0,AES0=4,AES1=130,AES2=0,AES3=2'\n",
            "ALSA lib conf.c:5204:(_snd_config_evaluate) function snd_func_refer returned error: No such file or directory\n",
            "ALSA lib conf.c:5727:(snd_config_expand) Evaluate error: No such file or directory\n",
            "ALSA lib pcm.c:2721:(snd_pcm_open_noupdate) Unknown PCM spdif\n",
            "ALSA lib confmisc.c:1377:(snd_func_refer) Unable to find definition 'cards.0.pcm.hdmi.0:CARD=0,AES0=4,AES1=130,AES2=0,AES3=2'\n",
            "ALSA lib conf.c:5204:(_snd_config_evaluate) function snd_func_refer returned error: No such file or directory\n",
            "ALSA lib conf.c:5727:(snd_config_expand) Evaluate error: No such file or directory\n",
            "ALSA lib pcm.c:2721:(snd_pcm_open_noupdate) Unknown PCM hdmi\n",
            "ALSA lib confmisc.c:1377:(snd_func_refer) Unable to find definition 'cards.0.pcm.hdmi.0:CARD=0,AES0=4,AES1=130,AES2=0,AES3=2'\n",
            "ALSA lib conf.c:5204:(_snd_config_evaluate) function snd_func_refer returned error: No such file or directory\n",
            "ALSA lib conf.c:5727:(snd_config_expand) Evaluate error: No such file or directory\n",
            "ALSA lib pcm.c:2721:(snd_pcm_open_noupdate) Unknown PCM hdmi\n",
            "ALSA lib confmisc.c:1377:(snd_func_refer) Unable to find definition 'cards.0.pcm.modem.0:CARD=0'\n",
            "ALSA lib conf.c:5204:(_snd_config_evaluate) function snd_func_refer returned error: No such file or directory\n",
            "ALSA lib conf.c:5727:(snd_config_expand) Evaluate error: No such file or directory\n",
            "ALSA lib pcm.c:2721:(snd_pcm_open_noupdate) Unknown PCM cards.pcm.phoneline:CARD=0,DEV=0\n",
            "ALSA lib confmisc.c:1377:(snd_func_refer) Unable to find definition 'cards.0.pcm.modem.0:CARD=0'\n",
            "ALSA lib conf.c:5204:(_snd_config_evaluate) function snd_func_refer returned error: No such file or directory\n",
            "ALSA lib conf.c:5727:(snd_config_expand) Evaluate error: No such file or directory\n",
            "ALSA lib pcm.c:2721:(snd_pcm_open_noupdate) Unknown PCM cards.pcm.phoneline:CARD=0,DEV=0\n",
            "ALSA lib confmisc.c:1377:(snd_func_refer) Unable to find definition 'cards.0.pcm.modem.0:CARD=0'\n",
            "ALSA lib conf.c:5204:(_snd_config_evaluate) function snd_func_refer returned error: No such file or directory\n",
            "ALSA lib conf.c:5727:(snd_config_expand) Evaluate error: No such file or directory\n",
            "ALSA lib pcm.c:2721:(snd_pcm_open_noupdate) Unknown PCM phoneline\n",
            "ALSA lib confmisc.c:1377:(snd_func_refer) Unable to find definition 'cards.0.pcm.modem.0:CARD=0'\n",
            "ALSA lib conf.c:5204:(_snd_config_evaluate) function snd_func_refer returned error: No such file or directory\n",
            "ALSA lib conf.c:5727:(snd_config_expand) Evaluate error: No such file or directory\n",
            "ALSA lib pcm.c:2721:(snd_pcm_open_noupdate) Unknown PCM phoneline\n",
            "ALSA lib pcm_oss.c:397:(_snd_pcm_oss_open) Cannot open device /dev/dsp\n",
            "ALSA lib pcm_oss.c:397:(_snd_pcm_oss_open) Cannot open device /dev/dsp\n",
            "ALSA lib pcm_a52.c:1001:(_snd_pcm_a52_open) a52 is only for playback\n",
            "ALSA lib confmisc.c:1377:(snd_func_refer) Unable to find definition 'cards.0.pcm.iec958.0:CARD=0,AES0=6,AES1=130,AES2=0,AES3=2'\n",
            "ALSA lib conf.c:5204:(_snd_config_evaluate) function snd_func_refer returned error: No such file or directory\n",
            "ALSA lib conf.c:5727:(snd_config_expand) Evaluate error: No such file or directory\n",
            "ALSA lib pcm.c:2721:(snd_pcm_open_noupdate) Unknown PCM iec958:{AES0 0x6 AES1 0x82 AES2 0x0 AES3 0x2 CARD 0}\n",
            "ALSA lib confmisc.c:160:(snd_config_get_card) Invalid field card\n",
            "ALSA lib pcm_usb_stream.c:482:(_snd_pcm_usb_stream_open) Invalid card 'card'\n",
            "ALSA lib confmisc.c:160:(snd_config_get_card) Invalid field card\n",
            "ALSA lib pcm_usb_stream.c:482:(_snd_pcm_usb_stream_open) Invalid card 'card'\n"
          ]
        },
        {
          "data": {
            "text/plain": [
              "'male?: True, score: 1.4557145630896535'"
            ]
          },
          "metadata": {},
          "output_type": "display_data"
        },
        {
          "ename": "KeyboardInterrupt",
          "evalue": "",
          "output_type": "error",
          "traceback": [
            "\u001b[0;31m---------------------------------------------------------------------------\u001b[0m",
            "\u001b[0;31mKeyboardInterrupt\u001b[0m                         Traceback (most recent call last)",
            "Cell \u001b[0;32mIn[18], line 14\u001b[0m\n\u001b[1;32m     12\u001b[0m display(result, display_id\u001b[38;5;241m=\u001b[39m\u001b[38;5;124m\"\u001b[39m\u001b[38;5;124mres\u001b[39m\u001b[38;5;124m\"\u001b[39m)\n\u001b[1;32m     13\u001b[0m \u001b[38;5;28;01mwhile\u001b[39;00m \u001b[38;5;28;01mTrue\u001b[39;00m:\n\u001b[0;32m---> 14\u001b[0m     data \u001b[38;5;241m=\u001b[39m \u001b[43mstream\u001b[49m\u001b[38;5;241;43m.\u001b[39;49m\u001b[43mread\u001b[49m\u001b[43m(\u001b[49m\u001b[43mChunk\u001b[49m\u001b[43m)\u001b[49m\n\u001b[1;32m     15\u001b[0m     data_int \u001b[38;5;241m=\u001b[39m np\u001b[38;5;241m.\u001b[39mfrombuffer(data, dtype\u001b[38;5;241m=\u001b[39mnp\u001b[38;5;241m.\u001b[39mfloat32)\n\u001b[1;32m     16\u001b[0m     features \u001b[38;5;241m=\u001b[39m librosa\u001b[38;5;241m.\u001b[39mfeature\u001b[38;5;241m.\u001b[39mmfcc(y\u001b[38;5;241m=\u001b[39mdata_int, sr\u001b[38;5;241m=\u001b[39m\u001b[38;5;241m16000\u001b[39m, n_mfcc\u001b[38;5;241m=\u001b[39mmfcc_coeff_amount, window\u001b[38;5;241m=\u001b[39mss\u001b[38;5;241m.\u001b[39mwindows\u001b[38;5;241m.\u001b[39mhamming, win_length\u001b[38;5;241m=\u001b[39mwindow_length, hop_length\u001b[38;5;241m=\u001b[39mwindow_length\u001b[38;5;241m/\u001b[39m\u001b[38;5;241m/\u001b[39m\u001b[38;5;241m2\u001b[39m)\u001b[38;5;241m.\u001b[39mT\n",
            "File \u001b[0;32m~/.pyenv/versions/3.9.16/lib/python3.9/site-packages/pyaudio/__init__.py:570\u001b[0m, in \u001b[0;36mPyAudio.Stream.read\u001b[0;34m(self, num_frames, exception_on_overflow)\u001b[0m\n\u001b[1;32m    567\u001b[0m \u001b[38;5;28;01mif\u001b[39;00m \u001b[38;5;129;01mnot\u001b[39;00m \u001b[38;5;28mself\u001b[39m\u001b[38;5;241m.\u001b[39m_is_input:\n\u001b[1;32m    568\u001b[0m     \u001b[38;5;28;01mraise\u001b[39;00m \u001b[38;5;167;01mIOError\u001b[39;00m(\u001b[38;5;124m\"\u001b[39m\u001b[38;5;124mNot input stream\u001b[39m\u001b[38;5;124m\"\u001b[39m,\n\u001b[1;32m    569\u001b[0m                   paCanNotReadFromAnOutputOnlyStream)\n\u001b[0;32m--> 570\u001b[0m \u001b[38;5;28;01mreturn\u001b[39;00m \u001b[43mpa\u001b[49m\u001b[38;5;241;43m.\u001b[39;49m\u001b[43mread_stream\u001b[49m\u001b[43m(\u001b[49m\u001b[38;5;28;43mself\u001b[39;49m\u001b[38;5;241;43m.\u001b[39;49m\u001b[43m_stream\u001b[49m\u001b[43m,\u001b[49m\u001b[43m \u001b[49m\u001b[43mnum_frames\u001b[49m\u001b[43m,\u001b[49m\n\u001b[1;32m    571\u001b[0m \u001b[43m                      \u001b[49m\u001b[43mexception_on_overflow\u001b[49m\u001b[43m)\u001b[49m\n",
            "\u001b[0;31mKeyboardInterrupt\u001b[0m: "
          ]
        }
      ],
      "source": [
        "p = pyaudio.PyAudio()\n",
        "\n",
        "stream = p.open(\n",
        "    format=format,\n",
        "    channels=channels,\n",
        "    rate=rate,\n",
        "    input=True,\n",
        "    output=True,\n",
        "    frames_per_buffer=Chunk,\n",
        ")\n",
        "result = \"male\"\n",
        "display(result, display_id=\"res\")\n",
        "while True:\n",
        "    data = stream.read(Chunk)\n",
        "    data_int = np.frombuffer(data, dtype=np.float32)\n",
        "    features = librosa.feature.mfcc(y=data_int, sr=16000, n_mfcc=mfcc_coeff_amount, window=ss.windows.hamming, win_length=window_length, hop_length=window_length//2).T\n",
        "    score = predict_male(features)\n",
        "    update_display(f\"Is a male speaking?: {score > 0}, with a score of {score}\", display_id=\"res\")\n",
        "\n"
      ]
    }
  ],
  "metadata": {
    "kernelspec": {
      "display_name": "base",
      "language": "python",
      "name": "python3"
    },
    "language_info": {
      "codemirror_mode": {
        "name": "ipython",
        "version": 3
      },
      "file_extension": ".py",
      "mimetype": "text/x-python",
      "name": "python",
      "nbconvert_exporter": "python",
      "pygments_lexer": "ipython3",
      "version": "3.9.16"
    }
  },
  "nbformat": 4,
  "nbformat_minor": 2
}
